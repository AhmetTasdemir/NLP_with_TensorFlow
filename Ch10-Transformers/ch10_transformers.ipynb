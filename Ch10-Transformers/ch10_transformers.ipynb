{
 "cells": [
  {
   "cell_type": "markdown",
   "metadata": {},
   "source": [
    "# Question answering with BERT (HuggingFace)\n",
    "\n",
    "Deep learning has been revolutionized by transformer models. Transformer based models like BERT are heavily used in NLP to solve tasks due to the rich numerical representations of text they provide. Here we will be discussing how to use HuggingFace's transformers library to conveniently explore various transformer based NLP models. We will be training a question answering model on the famous SQUAD v1 dataset.\n",
    "\n",
    "\n",
    "<table align=\"left\">\n",
    "    <td>\n",
    "        <a target=\"_blank\" href=\"https://colab.research.google.com/github/thushv89/manning_tf2_in_action/blob/master/Ch13-Transormers-with-TF2-and-Huggingface/13.2_Question_answering_with_BERT.ipynb\"><img src=\"https://www.tensorflow.org/images/colab_logo_32px.png\" />Run in Google Colab</a>\n",
    "    </td>\n",
    "</table>\n"
   ]
  },
  {
   "cell_type": "markdown",
   "metadata": {},
   "source": [
    "## Import libraries"
   ]
  },
  {
   "cell_type": "code",
   "execution_count": 4,
   "metadata": {},
   "outputs": [],
   "source": [
    "import random\n",
    "import numpy as np\n",
    "import transformers\n",
    "from datasets import load_dataset\n",
    "from transformers import DistilBertTokenizerFast\n",
    "from transformers import DistilBertConfig, TFDistilBertForQuestionAnswering\n",
    "import tensorflow as tf\n",
    "import time\n",
    "\n",
    "def fix_random_seed(seed):\n",
    "    \"\"\" Setting the random seed of various libraries \"\"\"\n",
    "    try:\n",
    "        np.random.seed(seed)\n",
    "    except NameError:\n",
    "        print(\"Warning: Numpy is not imported. Setting the seed for Numpy failed.\")\n",
    "    try:\n",
    "        tf.random.set_seed(seed)\n",
    "    except NameError:\n",
    "        print(\"Warning: TensorFlow is not imported. Setting the seed for TensorFlow failed.\")\n",
    "    try:\n",
    "        random.seed(seed)\n",
    "    except NameError:\n",
    "        print(\"Warning: random module is not imported. Setting the seed for random failed.\")\n",
    "    try:\n",
    "        transformers.trainer_utils.set_seed(seed)\n",
    "    except NameError:\n",
    "        print(\"Warning: transformers module is not imported. Setting the seed for transformers failed.\")\n",
    "        \n",
    "# Fixing the random seed\n",
    "random_seed=4321\n",
    "fix_random_seed(random_seed)\n"
   ]
  },
  {
   "cell_type": "markdown",
   "metadata": {},
   "source": [
    "## Download the dataset\n",
    "\n",
    "For this we will be using the [SQUAD v1 dataset](https://rajpurkar.github.io/SQuAD-explorer/). It is a question answering dataset. You are provided with a question, a context (e.g. a paragraph in which the answer to the question may exist) and finally the answer. Your goal is to, given the question and the context predict the answer."
   ]
  },
  {
   "cell_type": "code",
   "execution_count": 5,
   "metadata": {},
   "outputs": [
    {
     "name": "stderr",
     "output_type": "stream",
     "text": [
      "Reusing dataset squad (C:\\Users\\thush\\.cache\\huggingface\\datasets\\squad\\plain_text\\1.0.0\\d6ec3ceb99ca480ce37cdd35555d6cb2511d223b9150cce08a837ef62ffea453)\n"
     ]
    },
    {
     "data": {
      "application/vnd.jupyter.widget-view+json": {
       "model_id": "ec8a3d9563d64718878812331c256b40",
       "version_major": 2,
       "version_minor": 0
      },
      "text/plain": [
       "  0%|          | 0/2 [00:00<?, ?it/s]"
      ]
     },
     "metadata": {},
     "output_type": "display_data"
    },
    {
     "name": "stdout",
     "output_type": "stream",
     "text": [
      "DatasetDict({\n",
      "    train: Dataset({\n",
      "        features: ['id', 'title', 'context', 'question', 'answers'],\n",
      "        num_rows: 87599\n",
      "    })\n",
      "    validation: Dataset({\n",
      "        features: ['id', 'title', 'context', 'question', 'answers'],\n",
      "        num_rows: 10570\n",
      "    })\n",
      "})\n"
     ]
    }
   ],
   "source": [
    "# Section 13.3\n",
    "\n",
    "from datasets import load_dataset\n",
    "\n",
    "dataset = load_dataset(\"squad\")\n",
    "\n",
    "print(dataset)"
   ]
  },
  {
   "cell_type": "markdown",
   "metadata": {},
   "source": [
    "## Print the first 5 samples in the training set"
   ]
  },
  {
   "cell_type": "code",
   "execution_count": 6,
   "metadata": {},
   "outputs": [
    {
     "name": "stdout",
     "output_type": "stream",
     "text": [
      "To whom did the Virgin Mary allegedly appear in 1858 in Lourdes France? -> {'text': ['Saint Bernadette Soubirous'], 'answer_start': [515]}\n",
      "What is in front of the Notre Dame Main Building? -> {'text': ['a copper statue of Christ'], 'answer_start': [188]}\n",
      "The Basilica of the Sacred heart at Notre Dame is beside to which structure? -> {'text': ['the Main Building'], 'answer_start': [279]}\n",
      "What is the Grotto at Notre Dame? -> {'text': ['a Marian place of prayer and reflection'], 'answer_start': [381]}\n",
      "What sits on top of the Main Building at Notre Dame? -> {'text': ['a golden statue of the Virgin Mary'], 'answer_start': [92]}\n"
     ]
    }
   ],
   "source": [
    "for q, a in zip(dataset[\"train\"][\"question\"][:5], dataset[\"train\"][\"answers\"][:5]):\n",
    "    print(f\"{q} -> {a}\")"
   ]
  },
  {
   "cell_type": "markdown",
   "metadata": {},
   "source": [
    "## Correcting incorrect offsets of the provided answers\n",
    "\n",
    "The answers are provided by means of the, starting index (`answer_start`) and the answer it self (`text`). We will add `answer_end`, which will denote the index of the position the answer ends."
   ]
  },
  {
   "cell_type": "code",
   "execution_count": 9,
   "metadata": {},
   "outputs": [
    {
     "name": "stdout",
     "output_type": "stream",
     "text": [
      "Training data corrections\n",
      "\n",
      "Validation data correction\n"
     ]
    }
   ],
   "source": [
    "def compute_end_index(answers, contexts):\n",
    "    \"\"\" Add end index to answers \"\"\"\n",
    "    \n",
    "    fixed_answers = []\n",
    "    for answer, context in zip(answers, contexts):\n",
    "\n",
    "        gold_text = answer['text'][0]\n",
    "        answer['text'] = gold_text\n",
    "        start_idx = answer['answer_start'][0]\n",
    "        answer['answer_start'] = start_idx\n",
    "        \n",
    "        # Make sure the starting index is valid and there is an answer\n",
    "        assert start_idx >=0 and len(gold_text.strip()) > 0\n",
    "        \n",
    "        end_idx = start_idx + len(gold_text)        \n",
    "        answer['answer_end'] = end_idx\n",
    "        \n",
    "        # Make sure the corresponding context matches the actual answer\n",
    "        assert context[start_idx:end_idx] == gold_text\n",
    "        \n",
    "        fixed_answers.append(answer)\n",
    "    \n",
    "    return fixed_answers, contexts\n",
    "\n",
    "train_questions = dataset[\"train\"][\"question\"]\n",
    "print(\"Training data corrections\")\n",
    "train_answers, train_contexts = compute_end_index(\n",
    "    dataset[\"train\"][\"answers\"], dataset[\"train\"][\"context\"]\n",
    ")\n",
    "test_questions = dataset[\"validation\"][\"question\"]\n",
    "print(\"\\nValidation data correction\")\n",
    "test_answers, test_contexts = compute_end_index(\n",
    "    dataset[\"validation\"][\"answers\"], dataset[\"validation\"][\"context\"]\n",
    ")"
   ]
  },
  {
   "cell_type": "markdown",
   "metadata": {},
   "source": [
    "## Question answering with Bert\n",
    "\n",
    "Now we will start our way to train a question answering model. The pretrained model we'll be using is [Bert](https://arxiv.org/pdf/1810.04805.pdf)."
   ]
  },
  {
   "cell_type": "markdown",
   "metadata": {},
   "source": [
    "### Defining the tokenizer"
   ]
  },
  {
   "cell_type": "code",
   "execution_count": 10,
   "metadata": {},
   "outputs": [],
   "source": [
    "from transformers import BertTokenizerFast\n",
    "tokenizer = BertTokenizerFast.from_pretrained('bert-base-uncased')"
   ]
  },
  {
   "cell_type": "markdown",
   "metadata": {},
   "source": [
    "### Convert some text to tokens with the tokenizer"
   ]
  },
  {
   "cell_type": "code",
   "execution_count": 11,
   "metadata": {},
   "outputs": [
    {
     "name": "stdout",
     "output_type": "stream",
     "text": [
      "{'input_ids': <tf.Tensor: shape=(1, 11), dtype=int32, numpy=array([[ 101, 2023, 2003, 1996, 6123,  102, 2023, 2003, 1996, 3160,  102]])>, 'token_type_ids': <tf.Tensor: shape=(1, 11), dtype=int32, numpy=array([[0, 0, 0, 0, 0, 0, 1, 1, 1, 1, 1]])>, 'attention_mask': <tf.Tensor: shape=(1, 11), dtype=int32, numpy=array([[1, 1, 1, 1, 1, 1, 1, 1, 1, 1, 1]])>}\n",
      "['[CLS]', 'this', 'is', 'the', 'context', '[SEP]', 'this', 'is', 'the', 'question', '[SEP]']\n"
     ]
    }
   ],
   "source": [
    "context = \"This is the context\"\n",
    "question = \"This is the question\"\n",
    "\n",
    "token_ids = tokenizer(context, question, return_tensors='tf')\n",
    "print(token_ids)\n",
    "print(tokenizer.convert_ids_to_tokens(token_ids['input_ids'].numpy()[0]))"
   ]
  },
  {
   "cell_type": "markdown",
   "metadata": {},
   "source": [
    "## Converting the inputs to tokens\n",
    "\n",
    "In adition to converting inputs to tokens and adding special tokens, it will truncate and pad inputs to the maximum length of the sequences defined in the model config. For example, you can check model config with, `tokenizer.model_max_length`."
   ]
  },
  {
   "cell_type": "code",
   "execution_count": 12,
   "metadata": {},
   "outputs": [
    {
     "name": "stdout",
     "output_type": "stream",
     "text": [
      "train_encodings.shape: (87599, 512)\n",
      "test_encodings.shape: (10570, 512)\n"
     ]
    }
   ],
   "source": [
    "# Encode train data\n",
    "# train_encodings -> transformers.tokenization_utils_base.BatchEncoding\n",
    "train_encodings = tokenizer(train_contexts, train_questions, truncation=True, padding=True, return_tensors='tf')\n",
    "print(f\"train_encodings.shape: {train_encodings[\"input_ids\"].shape}\")\n",
    "# Encode test data\n",
    "test_encodings = tokenizer(test_contexts, test_questions, truncation=True, padding=True, return_tensors='tf')\n",
    "print(f\"test_encodings.shape: {test_encodings[\"input_ids\"].shape}\")\n"
   ]
  },
  {
   "cell_type": "markdown",
   "metadata": {},
   "source": [
    "### Dealing with truncated answers\n",
    "\n",
    "In the original dataset the `answer_start` and `answer_end` denote the *character*-level position of the answer. But in the model, since we deal in tokens we need the *token*-level position of the answer. For that, we will use the `char_to_token` function in the tokenizer. It will convert the character index to a token index.\n",
    "\n",
    "Because we are enforcing a maximum sequence length of 512, some answers will be inevitably truncated if they are present after the 512th token. Although this is rare, we still need to take care of this as it can result in numerical errors otherwise. Therefore, if the positions are `None` (i.e. couldn't find the answer), it is set to the maximum position."
   ]
  },
  {
   "cell_type": "code",
   "execution_count": 13,
   "metadata": {},
   "outputs": [
    {
     "name": "stdout",
     "output_type": "stream",
     "text": [
      "10/87599 had answers truncated\n",
      "8/10570 had answers truncated\n"
     ]
    }
   ],
   "source": [
    "def replace_char_with_token_indices(encodings, answers):\n",
    "    start_positions = []\n",
    "    end_positions = []\n",
    "    n_updates = 0\n",
    "    # Go through all the answers\n",
    "    for i in range(len(answers)):        \n",
    "        \n",
    "        # Get the token position for both start end char positions\n",
    "        start_positions.append(encodings.char_to_token(i, answers[i]['answer_start']))\n",
    "        end_positions.append(encodings.char_to_token(i, answers[i]['answer_end'] - 1))\n",
    "        \n",
    "        if start_positions[-1] is None or end_positions[-1] is None:\n",
    "            n_updates += 1\n",
    "        # if start position is None, the answer passage has been truncated\n",
    "        # In the guide, https://huggingface.co/transformers/custom_datasets.html#qa-squad\n",
    "        # they set it to model_max_length, but this will result in NaN losses as the last\n",
    "        # available label is model_max_length-1 (zero-indexed)\n",
    "        if start_positions[-1] is None:\n",
    "            start_positions[-1] = tokenizer.model_max_length -1\n",
    "            \n",
    "        if end_positions[-1] is None:\n",
    "            end_positions[-1] = tokenizer.model_max_length -1\n",
    "            \n",
    "    print(f\"{n_updates}/{len(answers)} had answers truncated\")\n",
    "    encodings.update({'start_positions': start_positions, 'end_positions': end_positions})\n",
    "\n",
    "replace_char_with_token_indices(train_encodings, train_answers)\n",
    "replace_char_with_token_indices(test_encodings, test_answers)"
   ]
  },
  {
   "cell_type": "markdown",
   "metadata": {},
   "source": [
    "### Creating TensorFlow dataset"
   ]
  },
  {
   "cell_type": "code",
   "execution_count": 17,
   "metadata": {},
   "outputs": [
    {
     "name": "stdout",
     "output_type": "stream",
     "text": [
      "Creating train data\n",
      "\tDone\n",
      "Creating test data\n",
      "\tDone\n"
     ]
    }
   ],
   "source": [
    "import tensorflow as tf\n",
    "from functools import partial\n",
    "\n",
    "\n",
    "def data_gen(input_ids, attention_mask, start_positions, end_positions):\n",
    "    \"\"\" Generator for data \"\"\"\n",
    "    for inps, attn, start_pos, end_pos in zip(input_ids, attention_mask, start_positions, end_positions):\n",
    "        \n",
    "        yield (inps, attn), (start_pos, end_pos)\n",
    "        \n",
    "print(\"Creating train data\")\n",
    "\n",
    "# Define the generator as a callable (not the generator it self)\n",
    "train_data_gen = partial(data_gen,\n",
    "    input_ids=train_encodings['input_ids'], attention_mask=train_encodings['attention_mask'],\n",
    "    start_positions=train_encodings['start_positions'], end_positions=train_encodings['end_positions']\n",
    ")\n",
    "\n",
    "# Define the dataset\n",
    "train_dataset = tf.data.Dataset.from_generator(\n",
    "    train_data_gen, output_types=(('int32', 'int32'), ('int32', 'int32'))\n",
    ")\n",
    "# Shuffling the data\n",
    "train_dataset = train_dataset.shuffle(1000)\n",
    "print('\\tDone')\n",
    "\n",
    "# Valid set is taken as the first 10000 samples in the shuffled set\n",
    "valid_dataset = train_dataset.take(10000)\n",
    "valid_dataset = valid_dataset.batch(1)\n",
    "\n",
    "# Rest is kept as the training data\n",
    "train_dataset = train_dataset.skip(10000)\n",
    "train_dataset = train_dataset.batch(1)\n",
    "\n",
    "# Creating test data\n",
    "print(\"Creating test data\")\n",
    "\n",
    "# Define the generator as a callable\n",
    "test_data_gen = partial(data_gen,\n",
    "    input_ids=test_encodings['input_ids'], attention_mask=test_encodings['attention_mask'],\n",
    "    start_positions=test_encodings['start_positions'], end_positions=test_encodings['end_positions']\n",
    ")\n",
    "test_dataset = tf.data.Dataset.from_generator(\n",
    "    test_data_gen, output_types=(('int32', 'int32'), ('int32', 'int32'))\n",
    ")\n",
    "test_dataset = test_dataset.batch(8)\n",
    "print(\"\\tDone\")"
   ]
  },
  {
   "cell_type": "markdown",
   "metadata": {},
   "source": [
    "### Defining the model\n",
    "\n",
    "Here we define a DistilBert model (particularly a TF variant)"
   ]
  },
  {
   "cell_type": "code",
   "execution_count": 16,
   "metadata": {},
   "outputs": [
    {
     "name": "stdout",
     "output_type": "stream",
     "text": [
      "BertConfig {\n",
      "  \"architectures\": [\n",
      "    \"BertForMaskedLM\"\n",
      "  ],\n",
      "  \"attention_probs_dropout_prob\": 0.1,\n",
      "  \"classifier_dropout\": null,\n",
      "  \"gradient_checkpointing\": false,\n",
      "  \"hidden_act\": \"gelu\",\n",
      "  \"hidden_dropout_prob\": 0.1,\n",
      "  \"hidden_size\": 768,\n",
      "  \"initializer_range\": 0.02,\n",
      "  \"intermediate_size\": 3072,\n",
      "  \"layer_norm_eps\": 1e-12,\n",
      "  \"max_position_embeddings\": 512,\n",
      "  \"model_type\": \"bert\",\n",
      "  \"num_attention_heads\": 12,\n",
      "  \"num_hidden_layers\": 12,\n",
      "  \"pad_token_id\": 0,\n",
      "  \"position_embedding_type\": \"absolute\",\n",
      "  \"return_dict\": false,\n",
      "  \"transformers_version\": \"4.15.0\",\n",
      "  \"type_vocab_size\": 2,\n",
      "  \"use_cache\": true,\n",
      "  \"vocab_size\": 30522\n",
      "}\n",
      "\n"
     ]
    },
    {
     "name": "stderr",
     "output_type": "stream",
     "text": [
      "All model checkpoint layers were used when initializing TFBertForQuestionAnswering.\n",
      "\n",
      "Some layers of TFBertForQuestionAnswering were not initialized from the model checkpoint at bert-base-uncased and are newly initialized: ['qa_outputs']\n",
      "You should probably TRAIN this model on a down-stream task to be able to use it for predictions and inference.\n"
     ]
    }
   ],
   "source": [
    "from transformers import BertConfig,  TFBertForQuestionAnswering\n",
    "\n",
    "config = BertConfig.from_pretrained(\"bert-base-uncased\", return_dict=False)\n",
    "print(config)\n",
    "model =  TFBertForQuestionAnswering.from_pretrained(\"bert-base-uncased\", config=config)\n",
    "\n",
    "def tf_wrap_model(model):\n",
    "    \"\"\" Wraps the huggingface's model with in the Keras Functional API \"\"\"\n",
    "    \n",
    "    # If this is not wrapped in a keras model by taking the correct tensors from\n",
    "    # TFQuestionAnsweringModelOutput produced, you will get the following error\n",
    "    # setting return_dict did not seem to work as it should\n",
    "    \n",
    "    # TypeError: The two structures don't have the same sequence type. \n",
    "    # Input structure has type <class 'tuple'>, while shallow structure has type \n",
    "    # <class 'transformers.modeling_tf_outputs.TFQuestionAnsweringModelOutput'>.\n",
    "    \n",
    "    # Define inputs\n",
    "    input_ids = tf.keras.layers.Input([None,], dtype=tf.int32, name=\"input_ids\")\n",
    "    attention_mask = tf.keras.layers.Input([None,], dtype=tf.int32, name=\"attention_mask\")\n",
    "    \n",
    "    # Define the output (TFQuestionAnsweringModelOutput)\n",
    "    out = model([input_ids, attention_mask])\n",
    "    \n",
    "    # Get the correct attributes in the produced object to generate an output tuple\n",
    "    wrap_model = tf.keras.models.Model([input_ids, attention_mask], outputs=(out.start_logits, out.end_logits))\n",
    "    \n",
    "    return wrap_model\n",
    "\n",
    "\n",
    "# Define and compile the model\n",
    "\n",
    "# Keras will assign a separate loss for each output and add them together. So we'll just use the standard CE loss\n",
    "# instead of using the built-in model.compute_loss, which expects a dict of outputs and averages the two terms.\n",
    "# Note that this means the loss will be 2x of when using TFTrainer since we're adding instead of averaging them.\n",
    "loss = tf.keras.losses.SparseCategoricalCrossentropy(from_logits=True)\n",
    "acc = tf.keras.metrics.SparseCategoricalAccuracy()\n",
    "optimizer = tf.keras.optimizers.Adam(learning_rate=1e-5)\n",
    "\n",
    "model_v2 = tf_wrap_model(model)\n",
    "model_v2.compile(optimizer=optimizer, loss=loss, metrics=[acc])\n"
   ]
  },
  {
   "cell_type": "markdown",
   "metadata": {},
   "source": [
    "### Training the model"
   ]
  },
  {
   "cell_type": "code",
   "execution_count": 18,
   "metadata": {},
   "outputs": [
    {
     "name": "stdout",
     "output_type": "stream",
     "text": [
      "Epoch 1/3\n"
     ]
    },
    {
     "ename": "ResourceExhaustedError",
     "evalue": "2 root error(s) found.\n  (0) RESOURCE_EXHAUSTED:  OOM when allocating tensor with shape[1,12,512,64] and type float on /job:localhost/replica:0/task:0/device:GPU:0 by allocator GPU_0_bfc\n\t [[node model_1/tf_bert_for_question_answering_1/bert/encoder/layer_._5/attention/self/transpose_2\n (defined at C:\\Anaconda3\\envs\\packt.nlp.tf2\\lib\\site-packages\\transformers\\models\\bert\\modeling_tf_bert.py:244)\n]]\nHint: If you want to see a list of allocated tensors when OOM happens, add report_tensor_allocations_upon_oom to RunOptions for current allocation info. This isn't available when running in Eager mode.\n\n\t [[sparse_categorical_crossentropy_1/cond/then/_12/sparse_categorical_crossentropy_1/cond/cond/then/_183/sparse_categorical_crossentropy_1/cond/cond/remove_squeezable_dimensions/Equal_1/_664]]\nHint: If you want to see a list of allocated tensors when OOM happens, add report_tensor_allocations_upon_oom to RunOptions for current allocation info. This isn't available when running in Eager mode.\n\n  (1) RESOURCE_EXHAUSTED:  OOM when allocating tensor with shape[1,12,512,64] and type float on /job:localhost/replica:0/task:0/device:GPU:0 by allocator GPU_0_bfc\n\t [[node model_1/tf_bert_for_question_answering_1/bert/encoder/layer_._5/attention/self/transpose_2\n (defined at C:\\Anaconda3\\envs\\packt.nlp.tf2\\lib\\site-packages\\transformers\\models\\bert\\modeling_tf_bert.py:244)\n]]\nHint: If you want to see a list of allocated tensors when OOM happens, add report_tensor_allocations_upon_oom to RunOptions for current allocation info. This isn't available when running in Eager mode.\n\n0 successful operations.\n0 derived errors ignored. [Op:__inference_train_function_36517]\n\nErrors may have originated from an input operation.\nInput Source operations connected to node model_1/tf_bert_for_question_answering_1/bert/encoder/layer_._5/attention/self/transpose_2:\nIn[0] model_1/tf_bert_for_question_answering_1/bert/encoder/layer_._5/attention/self/Reshape_2 (defined at C:\\Anaconda3\\envs\\packt.nlp.tf2\\lib\\site-packages\\transformers\\models\\bert\\modeling_tf_bert.py:241)\t\nIn[1] model_1/tf_bert_for_question_answering_1/bert/encoder/layer_._5/attention/self/transpose_2/perm:\n\nOperation defined at: (most recent call last)\n>>>   File \"C:\\Anaconda3\\envs\\packt.nlp.tf2\\lib\\runpy.py\", line 193, in _run_module_as_main\n>>>     \"__main__\", mod_spec)\n>>> \n>>>   File \"C:\\Anaconda3\\envs\\packt.nlp.tf2\\lib\\runpy.py\", line 85, in _run_code\n>>>     exec(code, run_globals)\n>>> \n>>>   File \"C:\\Anaconda3\\envs\\packt.nlp.tf2\\lib\\site-packages\\ipykernel_launcher.py\", line 16, in <module>\n>>>     app.launch_new_instance()\n>>> \n>>>   File \"C:\\Anaconda3\\envs\\packt.nlp.tf2\\lib\\site-packages\\traitlets\\config\\application.py\", line 846, in launch_instance\n>>>     app.start()\n>>> \n>>>   File \"C:\\Anaconda3\\envs\\packt.nlp.tf2\\lib\\site-packages\\ipykernel\\kernelapp.py\", line 677, in start\n>>>     self.io_loop.start()\n>>> \n>>>   File \"C:\\Anaconda3\\envs\\packt.nlp.tf2\\lib\\site-packages\\tornado\\platform\\asyncio.py\", line 199, in start\n>>>     self.asyncio_loop.run_forever()\n>>> \n>>>   File \"C:\\Anaconda3\\envs\\packt.nlp.tf2\\lib\\asyncio\\base_events.py\", line 541, in run_forever\n>>>     self._run_once()\n>>> \n>>>   File \"C:\\Anaconda3\\envs\\packt.nlp.tf2\\lib\\asyncio\\base_events.py\", line 1786, in _run_once\n>>>     handle._run()\n>>> \n>>>   File \"C:\\Anaconda3\\envs\\packt.nlp.tf2\\lib\\asyncio\\events.py\", line 88, in _run\n>>>     self._context.run(self._callback, *self._args)\n>>> \n>>>   File \"C:\\Anaconda3\\envs\\packt.nlp.tf2\\lib\\site-packages\\ipykernel\\kernelbase.py\", line 457, in dispatch_queue\n>>>     await self.process_one()\n>>> \n>>>   File \"C:\\Anaconda3\\envs\\packt.nlp.tf2\\lib\\site-packages\\ipykernel\\kernelbase.py\", line 446, in process_one\n>>>     await dispatch(*args)\n>>> \n>>>   File \"C:\\Anaconda3\\envs\\packt.nlp.tf2\\lib\\site-packages\\ipykernel\\kernelbase.py\", line 353, in dispatch_shell\n>>>     await result\n>>> \n>>>   File \"C:\\Anaconda3\\envs\\packt.nlp.tf2\\lib\\site-packages\\ipykernel\\kernelbase.py\", line 648, in execute_request\n>>>     reply_content = await reply_content\n>>> \n>>>   File \"C:\\Anaconda3\\envs\\packt.nlp.tf2\\lib\\site-packages\\ipykernel\\ipkernel.py\", line 353, in do_execute\n>>>     res = shell.run_cell(code, store_history=store_history, silent=silent)\n>>> \n>>>   File \"C:\\Anaconda3\\envs\\packt.nlp.tf2\\lib\\site-packages\\ipykernel\\zmqshell.py\", line 532, in run_cell\n>>>     return super().run_cell(*args, **kwargs)\n>>> \n>>>   File \"C:\\Anaconda3\\envs\\packt.nlp.tf2\\lib\\site-packages\\IPython\\core\\interactiveshell.py\", line 2915, in run_cell\n>>>     raw_cell, store_history, silent, shell_futures)\n>>> \n>>>   File \"C:\\Anaconda3\\envs\\packt.nlp.tf2\\lib\\site-packages\\IPython\\core\\interactiveshell.py\", line 2960, in _run_cell\n>>>     return runner(coro)\n>>> \n>>>   File \"C:\\Anaconda3\\envs\\packt.nlp.tf2\\lib\\site-packages\\IPython\\core\\async_helpers.py\", line 78, in _pseudo_sync_runner\n>>>     coro.send(None)\n>>> \n>>>   File \"C:\\Anaconda3\\envs\\packt.nlp.tf2\\lib\\site-packages\\IPython\\core\\interactiveshell.py\", line 3186, in run_cell_async\n>>>     interactivity=interactivity, compiler=compiler, result=result)\n>>> \n>>>   File \"C:\\Anaconda3\\envs\\packt.nlp.tf2\\lib\\site-packages\\IPython\\core\\interactiveshell.py\", line 3377, in run_ast_nodes\n>>>     if (await self.run_code(code, result,  async_=asy)):\n>>> \n>>>   File \"C:\\Anaconda3\\envs\\packt.nlp.tf2\\lib\\site-packages\\IPython\\core\\interactiveshell.py\", line 3457, in run_code\n>>>     exec(code_obj, self.user_global_ns, self.user_ns)\n>>> \n>>>   File \"C:\\Users\\thush\\AppData\\Local\\Temp/ipykernel_16572/1305528741.py\", line 8, in <module>\n>>>     epochs=3\n>>> \n>>>   File \"C:\\Anaconda3\\envs\\packt.nlp.tf2\\lib\\site-packages\\keras\\utils\\traceback_utils.py\", line 64, in error_handler\n>>>     return fn(*args, **kwargs)\n>>> \n>>>   File \"C:\\Anaconda3\\envs\\packt.nlp.tf2\\lib\\site-packages\\keras\\engine\\training.py\", line 1216, in fit\n>>>     tmp_logs = self.train_function(iterator)\n>>> \n>>>   File \"C:\\Anaconda3\\envs\\packt.nlp.tf2\\lib\\site-packages\\keras\\engine\\training.py\", line 878, in train_function\n>>>     return step_function(self, iterator)\n>>> \n>>>   File \"C:\\Anaconda3\\envs\\packt.nlp.tf2\\lib\\site-packages\\keras\\engine\\training.py\", line 867, in step_function\n>>>     outputs = model.distribute_strategy.run(run_step, args=(data,))\n>>> \n>>>   File \"C:\\Anaconda3\\envs\\packt.nlp.tf2\\lib\\site-packages\\keras\\engine\\training.py\", line 860, in run_step\n>>>     outputs = model.train_step(data)\n>>> \n>>>   File \"C:\\Anaconda3\\envs\\packt.nlp.tf2\\lib\\site-packages\\keras\\engine\\training.py\", line 808, in train_step\n>>>     y_pred = self(x, training=True)\n>>> \n>>>   File \"C:\\Anaconda3\\envs\\packt.nlp.tf2\\lib\\site-packages\\keras\\utils\\traceback_utils.py\", line 64, in error_handler\n>>>     return fn(*args, **kwargs)\n>>> \n>>>   File \"C:\\Anaconda3\\envs\\packt.nlp.tf2\\lib\\site-packages\\keras\\engine\\base_layer.py\", line 1083, in __call__\n>>>     outputs = call_fn(inputs, *args, **kwargs)\n>>> \n>>>   File \"C:\\Anaconda3\\envs\\packt.nlp.tf2\\lib\\site-packages\\keras\\utils\\traceback_utils.py\", line 92, in error_handler\n>>>     return fn(*args, **kwargs)\n>>> \n>>>   File \"C:\\Anaconda3\\envs\\packt.nlp.tf2\\lib\\site-packages\\keras\\engine\\functional.py\", line 452, in call\n>>>     inputs, training=training, mask=mask)\n>>> \n>>>   File \"C:\\Anaconda3\\envs\\packt.nlp.tf2\\lib\\site-packages\\keras\\engine\\functional.py\", line 589, in _run_internal_graph\n>>>     outputs = node.layer(*args, **kwargs)\n>>> \n>>>   File \"C:\\Anaconda3\\envs\\packt.nlp.tf2\\lib\\site-packages\\keras\\utils\\traceback_utils.py\", line 64, in error_handler\n>>>     return fn(*args, **kwargs)\n>>> \n>>>   File \"C:\\Anaconda3\\envs\\packt.nlp.tf2\\lib\\site-packages\\keras\\engine\\base_layer.py\", line 1083, in __call__\n>>>     outputs = call_fn(inputs, *args, **kwargs)\n>>> \n>>>   File \"C:\\Anaconda3\\envs\\packt.nlp.tf2\\lib\\site-packages\\keras\\utils\\traceback_utils.py\", line 92, in error_handler\n>>>     return fn(*args, **kwargs)\n>>> \n>>>   File \"C:\\Anaconda3\\envs\\packt.nlp.tf2\\lib\\site-packages\\transformers\\models\\bert\\modeling_tf_bert.py\", line 2123, in call\n>>>     outputs = self.bert(\n>>> \n>>>   File \"C:\\Anaconda3\\envs\\packt.nlp.tf2\\lib\\site-packages\\keras\\utils\\traceback_utils.py\", line 64, in error_handler\n>>>     return fn(*args, **kwargs)\n>>> \n>>>   File \"C:\\Anaconda3\\envs\\packt.nlp.tf2\\lib\\site-packages\\keras\\engine\\base_layer.py\", line 1083, in __call__\n>>>     outputs = call_fn(inputs, *args, **kwargs)\n>>> \n>>>   File \"C:\\Anaconda3\\envs\\packt.nlp.tf2\\lib\\site-packages\\keras\\utils\\traceback_utils.py\", line 92, in error_handler\n>>>     return fn(*args, **kwargs)\n>>> \n>>>   File \"C:\\Anaconda3\\envs\\packt.nlp.tf2\\lib\\site-packages\\transformers\\models\\bert\\modeling_tf_bert.py\", line 868, in call\n>>>     encoder_outputs = self.encoder(\n>>> \n>>>   File \"C:\\Anaconda3\\envs\\packt.nlp.tf2\\lib\\site-packages\\keras\\utils\\traceback_utils.py\", line 64, in error_handler\n>>>     return fn(*args, **kwargs)\n>>> \n>>>   File \"C:\\Anaconda3\\envs\\packt.nlp.tf2\\lib\\site-packages\\keras\\engine\\base_layer.py\", line 1083, in __call__\n>>>     outputs = call_fn(inputs, *args, **kwargs)\n>>> \n>>>   File \"C:\\Anaconda3\\envs\\packt.nlp.tf2\\lib\\site-packages\\keras\\utils\\traceback_utils.py\", line 92, in error_handler\n>>>     return fn(*args, **kwargs)\n>>> \n>>>   File \"C:\\Anaconda3\\envs\\packt.nlp.tf2\\lib\\site-packages\\transformers\\models\\bert\\modeling_tf_bert.py\", line 535, in call\n>>>     for i, layer_module in enumerate(self.layer):\n>>> \n>>>   File \"C:\\Anaconda3\\envs\\packt.nlp.tf2\\lib\\site-packages\\transformers\\models\\bert\\modeling_tf_bert.py\", line 541, in call\n>>>     layer_outputs = layer_module(\n>>> \n>>>   File \"C:\\Anaconda3\\envs\\packt.nlp.tf2\\lib\\site-packages\\keras\\utils\\traceback_utils.py\", line 64, in error_handler\n>>>     return fn(*args, **kwargs)\n>>> \n>>>   File \"C:\\Anaconda3\\envs\\packt.nlp.tf2\\lib\\site-packages\\keras\\engine\\base_layer.py\", line 1083, in __call__\n>>>     outputs = call_fn(inputs, *args, **kwargs)\n>>> \n>>>   File \"C:\\Anaconda3\\envs\\packt.nlp.tf2\\lib\\site-packages\\keras\\utils\\traceback_utils.py\", line 92, in error_handler\n>>>     return fn(*args, **kwargs)\n>>> \n>>>   File \"C:\\Anaconda3\\envs\\packt.nlp.tf2\\lib\\site-packages\\transformers\\models\\bert\\modeling_tf_bert.py\", line 451, in call\n>>>     self_attention_outputs = self.attention(\n>>> \n>>>   File \"C:\\Anaconda3\\envs\\packt.nlp.tf2\\lib\\site-packages\\keras\\utils\\traceback_utils.py\", line 64, in error_handler\n>>>     return fn(*args, **kwargs)\n>>> \n>>>   File \"C:\\Anaconda3\\envs\\packt.nlp.tf2\\lib\\site-packages\\keras\\engine\\base_layer.py\", line 1083, in __call__\n>>>     outputs = call_fn(inputs, *args, **kwargs)\n>>> \n>>>   File \"C:\\Anaconda3\\envs\\packt.nlp.tf2\\lib\\site-packages\\keras\\utils\\traceback_utils.py\", line 92, in error_handler\n>>>     return fn(*args, **kwargs)\n>>> \n>>>   File \"C:\\Anaconda3\\envs\\packt.nlp.tf2\\lib\\site-packages\\transformers\\models\\bert\\modeling_tf_bert.py\", line 367, in call\n>>>     self_outputs = self.self_attention(\n>>> \n>>>   File \"C:\\Anaconda3\\envs\\packt.nlp.tf2\\lib\\site-packages\\keras\\utils\\traceback_utils.py\", line 64, in error_handler\n>>>     return fn(*args, **kwargs)\n>>> \n>>>   File \"C:\\Anaconda3\\envs\\packt.nlp.tf2\\lib\\site-packages\\keras\\engine\\base_layer.py\", line 1083, in __call__\n>>>     outputs = call_fn(inputs, *args, **kwargs)\n>>> \n>>>   File \"C:\\Anaconda3\\envs\\packt.nlp.tf2\\lib\\site-packages\\keras\\utils\\traceback_utils.py\", line 92, in error_handler\n>>>     return fn(*args, **kwargs)\n>>> \n>>>   File \"C:\\Anaconda3\\envs\\packt.nlp.tf2\\lib\\site-packages\\transformers\\models\\bert\\modeling_tf_bert.py\", line 283, in call\n>>>     query_layer = self.transpose_for_scores(mixed_query_layer, batch_size)\n>>> \n>>>   File \"C:\\Anaconda3\\envs\\packt.nlp.tf2\\lib\\site-packages\\transformers\\models\\bert\\modeling_tf_bert.py\", line 244, in transpose_for_scores\n>>>     return tf.transpose(tensor, perm=[0, 2, 1, 3])\n>>> \n\nInput Source operations connected to node model_1/tf_bert_for_question_answering_1/bert/encoder/layer_._5/attention/self/transpose_2:\nIn[0] model_1/tf_bert_for_question_answering_1/bert/encoder/layer_._5/attention/self/Reshape_2 (defined at C:\\Anaconda3\\envs\\packt.nlp.tf2\\lib\\site-packages\\transformers\\models\\bert\\modeling_tf_bert.py:241)\t\nIn[1] model_1/tf_bert_for_question_answering_1/bert/encoder/layer_._5/attention/self/transpose_2/perm:\n\nOperation defined at: (most recent call last)\n>>>   File \"C:\\Anaconda3\\envs\\packt.nlp.tf2\\lib\\runpy.py\", line 193, in _run_module_as_main\n>>>     \"__main__\", mod_spec)\n>>> \n>>>   File \"C:\\Anaconda3\\envs\\packt.nlp.tf2\\lib\\runpy.py\", line 85, in _run_code\n>>>     exec(code, run_globals)\n>>> \n>>>   File \"C:\\Anaconda3\\envs\\packt.nlp.tf2\\lib\\site-packages\\ipykernel_launcher.py\", line 16, in <module>\n>>>     app.launch_new_instance()\n>>> \n>>>   File \"C:\\Anaconda3\\envs\\packt.nlp.tf2\\lib\\site-packages\\traitlets\\config\\application.py\", line 846, in launch_instance\n>>>     app.start()\n>>> \n>>>   File \"C:\\Anaconda3\\envs\\packt.nlp.tf2\\lib\\site-packages\\ipykernel\\kernelapp.py\", line 677, in start\n>>>     self.io_loop.start()\n>>> \n>>>   File \"C:\\Anaconda3\\envs\\packt.nlp.tf2\\lib\\site-packages\\tornado\\platform\\asyncio.py\", line 199, in start\n>>>     self.asyncio_loop.run_forever()\n>>> \n>>>   File \"C:\\Anaconda3\\envs\\packt.nlp.tf2\\lib\\asyncio\\base_events.py\", line 541, in run_forever\n>>>     self._run_once()\n>>> \n>>>   File \"C:\\Anaconda3\\envs\\packt.nlp.tf2\\lib\\asyncio\\base_events.py\", line 1786, in _run_once\n>>>     handle._run()\n>>> \n>>>   File \"C:\\Anaconda3\\envs\\packt.nlp.tf2\\lib\\asyncio\\events.py\", line 88, in _run\n>>>     self._context.run(self._callback, *self._args)\n>>> \n>>>   File \"C:\\Anaconda3\\envs\\packt.nlp.tf2\\lib\\site-packages\\ipykernel\\kernelbase.py\", line 457, in dispatch_queue\n>>>     await self.process_one()\n>>> \n>>>   File \"C:\\Anaconda3\\envs\\packt.nlp.tf2\\lib\\site-packages\\ipykernel\\kernelbase.py\", line 446, in process_one\n>>>     await dispatch(*args)\n>>> \n>>>   File \"C:\\Anaconda3\\envs\\packt.nlp.tf2\\lib\\site-packages\\ipykernel\\kernelbase.py\", line 353, in dispatch_shell\n>>>     await result\n>>> \n>>>   File \"C:\\Anaconda3\\envs\\packt.nlp.tf2\\lib\\site-packages\\ipykernel\\kernelbase.py\", line 648, in execute_request\n>>>     reply_content = await reply_content\n>>> \n>>>   File \"C:\\Anaconda3\\envs\\packt.nlp.tf2\\lib\\site-packages\\ipykernel\\ipkernel.py\", line 353, in do_execute\n>>>     res = shell.run_cell(code, store_history=store_history, silent=silent)\n>>> \n>>>   File \"C:\\Anaconda3\\envs\\packt.nlp.tf2\\lib\\site-packages\\ipykernel\\zmqshell.py\", line 532, in run_cell\n>>>     return super().run_cell(*args, **kwargs)\n>>> \n>>>   File \"C:\\Anaconda3\\envs\\packt.nlp.tf2\\lib\\site-packages\\IPython\\core\\interactiveshell.py\", line 2915, in run_cell\n>>>     raw_cell, store_history, silent, shell_futures)\n>>> \n>>>   File \"C:\\Anaconda3\\envs\\packt.nlp.tf2\\lib\\site-packages\\IPython\\core\\interactiveshell.py\", line 2960, in _run_cell\n>>>     return runner(coro)\n>>> \n>>>   File \"C:\\Anaconda3\\envs\\packt.nlp.tf2\\lib\\site-packages\\IPython\\core\\async_helpers.py\", line 78, in _pseudo_sync_runner\n>>>     coro.send(None)\n>>> \n>>>   File \"C:\\Anaconda3\\envs\\packt.nlp.tf2\\lib\\site-packages\\IPython\\core\\interactiveshell.py\", line 3186, in run_cell_async\n>>>     interactivity=interactivity, compiler=compiler, result=result)\n>>> \n>>>   File \"C:\\Anaconda3\\envs\\packt.nlp.tf2\\lib\\site-packages\\IPython\\core\\interactiveshell.py\", line 3377, in run_ast_nodes\n>>>     if (await self.run_code(code, result,  async_=asy)):\n>>> \n>>>   File \"C:\\Anaconda3\\envs\\packt.nlp.tf2\\lib\\site-packages\\IPython\\core\\interactiveshell.py\", line 3457, in run_code\n>>>     exec(code_obj, self.user_global_ns, self.user_ns)\n>>> \n>>>   File \"C:\\Users\\thush\\AppData\\Local\\Temp/ipykernel_16572/1305528741.py\", line 8, in <module>\n>>>     epochs=3\n>>> \n>>>   File \"C:\\Anaconda3\\envs\\packt.nlp.tf2\\lib\\site-packages\\keras\\utils\\traceback_utils.py\", line 64, in error_handler\n>>>     return fn(*args, **kwargs)\n>>> \n>>>   File \"C:\\Anaconda3\\envs\\packt.nlp.tf2\\lib\\site-packages\\keras\\engine\\training.py\", line 1216, in fit\n>>>     tmp_logs = self.train_function(iterator)\n>>> \n>>>   File \"C:\\Anaconda3\\envs\\packt.nlp.tf2\\lib\\site-packages\\keras\\engine\\training.py\", line 878, in train_function\n>>>     return step_function(self, iterator)\n>>> \n>>>   File \"C:\\Anaconda3\\envs\\packt.nlp.tf2\\lib\\site-packages\\keras\\engine\\training.py\", line 867, in step_function\n>>>     outputs = model.distribute_strategy.run(run_step, args=(data,))\n>>> \n>>>   File \"C:\\Anaconda3\\envs\\packt.nlp.tf2\\lib\\site-packages\\keras\\engine\\training.py\", line 860, in run_step\n>>>     outputs = model.train_step(data)\n>>> \n>>>   File \"C:\\Anaconda3\\envs\\packt.nlp.tf2\\lib\\site-packages\\keras\\engine\\training.py\", line 808, in train_step\n>>>     y_pred = self(x, training=True)\n>>> \n>>>   File \"C:\\Anaconda3\\envs\\packt.nlp.tf2\\lib\\site-packages\\keras\\utils\\traceback_utils.py\", line 64, in error_handler\n>>>     return fn(*args, **kwargs)\n>>> \n>>>   File \"C:\\Anaconda3\\envs\\packt.nlp.tf2\\lib\\site-packages\\keras\\engine\\base_layer.py\", line 1083, in __call__\n>>>     outputs = call_fn(inputs, *args, **kwargs)\n>>> \n>>>   File \"C:\\Anaconda3\\envs\\packt.nlp.tf2\\lib\\site-packages\\keras\\utils\\traceback_utils.py\", line 92, in error_handler\n>>>     return fn(*args, **kwargs)\n>>> \n>>>   File \"C:\\Anaconda3\\envs\\packt.nlp.tf2\\lib\\site-packages\\keras\\engine\\functional.py\", line 452, in call\n>>>     inputs, training=training, mask=mask)\n>>> \n>>>   File \"C:\\Anaconda3\\envs\\packt.nlp.tf2\\lib\\site-packages\\keras\\engine\\functional.py\", line 589, in _run_internal_graph\n>>>     outputs = node.layer(*args, **kwargs)\n>>> \n>>>   File \"C:\\Anaconda3\\envs\\packt.nlp.tf2\\lib\\site-packages\\keras\\utils\\traceback_utils.py\", line 64, in error_handler\n>>>     return fn(*args, **kwargs)\n>>> \n>>>   File \"C:\\Anaconda3\\envs\\packt.nlp.tf2\\lib\\site-packages\\keras\\engine\\base_layer.py\", line 1083, in __call__\n>>>     outputs = call_fn(inputs, *args, **kwargs)\n>>> \n>>>   File \"C:\\Anaconda3\\envs\\packt.nlp.tf2\\lib\\site-packages\\keras\\utils\\traceback_utils.py\", line 92, in error_handler\n>>>     return fn(*args, **kwargs)\n>>> \n>>>   File \"C:\\Anaconda3\\envs\\packt.nlp.tf2\\lib\\site-packages\\transformers\\models\\bert\\modeling_tf_bert.py\", line 2123, in call\n>>>     outputs = self.bert(\n>>> \n>>>   File \"C:\\Anaconda3\\envs\\packt.nlp.tf2\\lib\\site-packages\\keras\\utils\\traceback_utils.py\", line 64, in error_handler\n>>>     return fn(*args, **kwargs)\n>>> \n>>>   File \"C:\\Anaconda3\\envs\\packt.nlp.tf2\\lib\\site-packages\\keras\\engine\\base_layer.py\", line 1083, in __call__\n>>>     outputs = call_fn(inputs, *args, **kwargs)\n>>> \n>>>   File \"C:\\Anaconda3\\envs\\packt.nlp.tf2\\lib\\site-packages\\keras\\utils\\traceback_utils.py\", line 92, in error_handler\n>>>     return fn(*args, **kwargs)\n>>> \n>>>   File \"C:\\Anaconda3\\envs\\packt.nlp.tf2\\lib\\site-packages\\transformers\\models\\bert\\modeling_tf_bert.py\", line 868, in call\n>>>     encoder_outputs = self.encoder(\n>>> \n>>>   File \"C:\\Anaconda3\\envs\\packt.nlp.tf2\\lib\\site-packages\\keras\\utils\\traceback_utils.py\", line 64, in error_handler\n>>>     return fn(*args, **kwargs)\n>>> \n>>>   File \"C:\\Anaconda3\\envs\\packt.nlp.tf2\\lib\\site-packages\\keras\\engine\\base_layer.py\", line 1083, in __call__\n>>>     outputs = call_fn(inputs, *args, **kwargs)\n>>> \n>>>   File \"C:\\Anaconda3\\envs\\packt.nlp.tf2\\lib\\site-packages\\keras\\utils\\traceback_utils.py\", line 92, in error_handler\n>>>     return fn(*args, **kwargs)\n>>> \n>>>   File \"C:\\Anaconda3\\envs\\packt.nlp.tf2\\lib\\site-packages\\transformers\\models\\bert\\modeling_tf_bert.py\", line 535, in call\n>>>     for i, layer_module in enumerate(self.layer):\n>>> \n>>>   File \"C:\\Anaconda3\\envs\\packt.nlp.tf2\\lib\\site-packages\\transformers\\models\\bert\\modeling_tf_bert.py\", line 541, in call\n>>>     layer_outputs = layer_module(\n>>> \n>>>   File \"C:\\Anaconda3\\envs\\packt.nlp.tf2\\lib\\site-packages\\keras\\utils\\traceback_utils.py\", line 64, in error_handler\n>>>     return fn(*args, **kwargs)\n>>> \n>>>   File \"C:\\Anaconda3\\envs\\packt.nlp.tf2\\lib\\site-packages\\keras\\engine\\base_layer.py\", line 1083, in __call__\n>>>     outputs = call_fn(inputs, *args, **kwargs)\n>>> \n>>>   File \"C:\\Anaconda3\\envs\\packt.nlp.tf2\\lib\\site-packages\\keras\\utils\\traceback_utils.py\", line 92, in error_handler\n>>>     return fn(*args, **kwargs)\n>>> \n>>>   File \"C:\\Anaconda3\\envs\\packt.nlp.tf2\\lib\\site-packages\\transformers\\models\\bert\\modeling_tf_bert.py\", line 451, in call\n>>>     self_attention_outputs = self.attention(\n>>> \n>>>   File \"C:\\Anaconda3\\envs\\packt.nlp.tf2\\lib\\site-packages\\keras\\utils\\traceback_utils.py\", line 64, in error_handler\n>>>     return fn(*args, **kwargs)\n>>> \n>>>   File \"C:\\Anaconda3\\envs\\packt.nlp.tf2\\lib\\site-packages\\keras\\engine\\base_layer.py\", line 1083, in __call__\n>>>     outputs = call_fn(inputs, *args, **kwargs)\n>>> \n>>>   File \"C:\\Anaconda3\\envs\\packt.nlp.tf2\\lib\\site-packages\\keras\\utils\\traceback_utils.py\", line 92, in error_handler\n>>>     return fn(*args, **kwargs)\n>>> \n>>>   File \"C:\\Anaconda3\\envs\\packt.nlp.tf2\\lib\\site-packages\\transformers\\models\\bert\\modeling_tf_bert.py\", line 367, in call\n>>>     self_outputs = self.self_attention(\n>>> \n>>>   File \"C:\\Anaconda3\\envs\\packt.nlp.tf2\\lib\\site-packages\\keras\\utils\\traceback_utils.py\", line 64, in error_handler\n>>>     return fn(*args, **kwargs)\n>>> \n>>>   File \"C:\\Anaconda3\\envs\\packt.nlp.tf2\\lib\\site-packages\\keras\\engine\\base_layer.py\", line 1083, in __call__\n>>>     outputs = call_fn(inputs, *args, **kwargs)\n>>> \n>>>   File \"C:\\Anaconda3\\envs\\packt.nlp.tf2\\lib\\site-packages\\keras\\utils\\traceback_utils.py\", line 92, in error_handler\n>>>     return fn(*args, **kwargs)\n>>> \n>>>   File \"C:\\Anaconda3\\envs\\packt.nlp.tf2\\lib\\site-packages\\transformers\\models\\bert\\modeling_tf_bert.py\", line 283, in call\n>>>     query_layer = self.transpose_for_scores(mixed_query_layer, batch_size)\n>>> \n>>>   File \"C:\\Anaconda3\\envs\\packt.nlp.tf2\\lib\\site-packages\\transformers\\models\\bert\\modeling_tf_bert.py\", line 244, in transpose_for_scores\n>>>     return tf.transpose(tensor, perm=[0, 2, 1, 3])\n>>> \n\nFunction call stack:\ntrain_function -> train_function\n",
     "output_type": "error",
     "traceback": [
      "\u001b[1;31m---------------------------------------------------------------------------\u001b[0m",
      "\u001b[1;31mResourceExhaustedError\u001b[0m                    Traceback (most recent call last)",
      "\u001b[1;32m~\\AppData\\Local\\Temp/ipykernel_16572/1305528741.py\u001b[0m in \u001b[0;36m<module>\u001b[1;34m\u001b[0m\n\u001b[0;32m      6\u001b[0m     \u001b[0mtrain_dataset\u001b[0m\u001b[1;33m,\u001b[0m\u001b[1;33m\u001b[0m\u001b[1;33m\u001b[0m\u001b[0m\n\u001b[0;32m      7\u001b[0m     \u001b[0mvalidation_data\u001b[0m\u001b[1;33m=\u001b[0m\u001b[0mvalid_dataset\u001b[0m\u001b[1;33m,\u001b[0m\u001b[1;33m\u001b[0m\u001b[1;33m\u001b[0m\u001b[0m\n\u001b[1;32m----> 8\u001b[1;33m     \u001b[0mepochs\u001b[0m\u001b[1;33m=\u001b[0m\u001b[1;36m3\u001b[0m\u001b[1;33m\u001b[0m\u001b[1;33m\u001b[0m\u001b[0m\n\u001b[0m\u001b[0;32m      9\u001b[0m )\n\u001b[0;32m     10\u001b[0m \u001b[1;33m\u001b[0m\u001b[0m\n",
      "\u001b[1;32mC:\\Anaconda3\\envs\\packt.nlp.tf2\\lib\\site-packages\\keras\\utils\\traceback_utils.py\u001b[0m in \u001b[0;36merror_handler\u001b[1;34m(*args, **kwargs)\u001b[0m\n\u001b[0;32m     65\u001b[0m     \u001b[1;32mexcept\u001b[0m \u001b[0mException\u001b[0m \u001b[1;32mas\u001b[0m \u001b[0me\u001b[0m\u001b[1;33m:\u001b[0m  \u001b[1;31m# pylint: disable=broad-except\u001b[0m\u001b[1;33m\u001b[0m\u001b[1;33m\u001b[0m\u001b[0m\n\u001b[0;32m     66\u001b[0m       \u001b[0mfiltered_tb\u001b[0m \u001b[1;33m=\u001b[0m \u001b[0m_process_traceback_frames\u001b[0m\u001b[1;33m(\u001b[0m\u001b[0me\u001b[0m\u001b[1;33m.\u001b[0m\u001b[0m__traceback__\u001b[0m\u001b[1;33m)\u001b[0m\u001b[1;33m\u001b[0m\u001b[1;33m\u001b[0m\u001b[0m\n\u001b[1;32m---> 67\u001b[1;33m       \u001b[1;32mraise\u001b[0m \u001b[0me\u001b[0m\u001b[1;33m.\u001b[0m\u001b[0mwith_traceback\u001b[0m\u001b[1;33m(\u001b[0m\u001b[0mfiltered_tb\u001b[0m\u001b[1;33m)\u001b[0m \u001b[1;32mfrom\u001b[0m \u001b[1;32mNone\u001b[0m\u001b[1;33m\u001b[0m\u001b[1;33m\u001b[0m\u001b[0m\n\u001b[0m\u001b[0;32m     68\u001b[0m     \u001b[1;32mfinally\u001b[0m\u001b[1;33m:\u001b[0m\u001b[1;33m\u001b[0m\u001b[1;33m\u001b[0m\u001b[0m\n\u001b[0;32m     69\u001b[0m       \u001b[1;32mdel\u001b[0m \u001b[0mfiltered_tb\u001b[0m\u001b[1;33m\u001b[0m\u001b[1;33m\u001b[0m\u001b[0m\n",
      "\u001b[1;32mC:\\Anaconda3\\envs\\packt.nlp.tf2\\lib\\site-packages\\tensorflow\\python\\eager\\execute.py\u001b[0m in \u001b[0;36mquick_execute\u001b[1;34m(op_name, num_outputs, inputs, attrs, ctx, name)\u001b[0m\n\u001b[0;32m     57\u001b[0m     \u001b[0mctx\u001b[0m\u001b[1;33m.\u001b[0m\u001b[0mensure_initialized\u001b[0m\u001b[1;33m(\u001b[0m\u001b[1;33m)\u001b[0m\u001b[1;33m\u001b[0m\u001b[1;33m\u001b[0m\u001b[0m\n\u001b[0;32m     58\u001b[0m     tensors = pywrap_tfe.TFE_Py_Execute(ctx._handle, device_name, op_name,\n\u001b[1;32m---> 59\u001b[1;33m                                         inputs, attrs, num_outputs)\n\u001b[0m\u001b[0;32m     60\u001b[0m   \u001b[1;32mexcept\u001b[0m \u001b[0mcore\u001b[0m\u001b[1;33m.\u001b[0m\u001b[0m_NotOkStatusException\u001b[0m \u001b[1;32mas\u001b[0m \u001b[0me\u001b[0m\u001b[1;33m:\u001b[0m\u001b[1;33m\u001b[0m\u001b[1;33m\u001b[0m\u001b[0m\n\u001b[0;32m     61\u001b[0m     \u001b[1;32mif\u001b[0m \u001b[0mname\u001b[0m \u001b[1;32mis\u001b[0m \u001b[1;32mnot\u001b[0m \u001b[1;32mNone\u001b[0m\u001b[1;33m:\u001b[0m\u001b[1;33m\u001b[0m\u001b[1;33m\u001b[0m\u001b[0m\n",
      "\u001b[1;31mResourceExhaustedError\u001b[0m: 2 root error(s) found.\n  (0) RESOURCE_EXHAUSTED:  OOM when allocating tensor with shape[1,12,512,64] and type float on /job:localhost/replica:0/task:0/device:GPU:0 by allocator GPU_0_bfc\n\t [[node model_1/tf_bert_for_question_answering_1/bert/encoder/layer_._5/attention/self/transpose_2\n (defined at C:\\Anaconda3\\envs\\packt.nlp.tf2\\lib\\site-packages\\transformers\\models\\bert\\modeling_tf_bert.py:244)\n]]\nHint: If you want to see a list of allocated tensors when OOM happens, add report_tensor_allocations_upon_oom to RunOptions for current allocation info. This isn't available when running in Eager mode.\n\n\t [[sparse_categorical_crossentropy_1/cond/then/_12/sparse_categorical_crossentropy_1/cond/cond/then/_183/sparse_categorical_crossentropy_1/cond/cond/remove_squeezable_dimensions/Equal_1/_664]]\nHint: If you want to see a list of allocated tensors when OOM happens, add report_tensor_allocations_upon_oom to RunOptions for current allocation info. This isn't available when running in Eager mode.\n\n  (1) RESOURCE_EXHAUSTED:  OOM when allocating tensor with shape[1,12,512,64] and type float on /job:localhost/replica:0/task:0/device:GPU:0 by allocator GPU_0_bfc\n\t [[node model_1/tf_bert_for_question_answering_1/bert/encoder/layer_._5/attention/self/transpose_2\n (defined at C:\\Anaconda3\\envs\\packt.nlp.tf2\\lib\\site-packages\\transformers\\models\\bert\\modeling_tf_bert.py:244)\n]]\nHint: If you want to see a list of allocated tensors when OOM happens, add report_tensor_allocations_upon_oom to RunOptions for current allocation info. This isn't available when running in Eager mode.\n\n0 successful operations.\n0 derived errors ignored. [Op:__inference_train_function_36517]\n\nErrors may have originated from an input operation.\nInput Source operations connected to node model_1/tf_bert_for_question_answering_1/bert/encoder/layer_._5/attention/self/transpose_2:\nIn[0] model_1/tf_bert_for_question_answering_1/bert/encoder/layer_._5/attention/self/Reshape_2 (defined at C:\\Anaconda3\\envs\\packt.nlp.tf2\\lib\\site-packages\\transformers\\models\\bert\\modeling_tf_bert.py:241)\t\nIn[1] model_1/tf_bert_for_question_answering_1/bert/encoder/layer_._5/attention/self/transpose_2/perm:\n\nOperation defined at: (most recent call last)\n>>>   File \"C:\\Anaconda3\\envs\\packt.nlp.tf2\\lib\\runpy.py\", line 193, in _run_module_as_main\n>>>     \"__main__\", mod_spec)\n>>> \n>>>   File \"C:\\Anaconda3\\envs\\packt.nlp.tf2\\lib\\runpy.py\", line 85, in _run_code\n>>>     exec(code, run_globals)\n>>> \n>>>   File \"C:\\Anaconda3\\envs\\packt.nlp.tf2\\lib\\site-packages\\ipykernel_launcher.py\", line 16, in <module>\n>>>     app.launch_new_instance()\n>>> \n>>>   File \"C:\\Anaconda3\\envs\\packt.nlp.tf2\\lib\\site-packages\\traitlets\\config\\application.py\", line 846, in launch_instance\n>>>     app.start()\n>>> \n>>>   File \"C:\\Anaconda3\\envs\\packt.nlp.tf2\\lib\\site-packages\\ipykernel\\kernelapp.py\", line 677, in start\n>>>     self.io_loop.start()\n>>> \n>>>   File \"C:\\Anaconda3\\envs\\packt.nlp.tf2\\lib\\site-packages\\tornado\\platform\\asyncio.py\", line 199, in start\n>>>     self.asyncio_loop.run_forever()\n>>> \n>>>   File \"C:\\Anaconda3\\envs\\packt.nlp.tf2\\lib\\asyncio\\base_events.py\", line 541, in run_forever\n>>>     self._run_once()\n>>> \n>>>   File \"C:\\Anaconda3\\envs\\packt.nlp.tf2\\lib\\asyncio\\base_events.py\", line 1786, in _run_once\n>>>     handle._run()\n>>> \n>>>   File \"C:\\Anaconda3\\envs\\packt.nlp.tf2\\lib\\asyncio\\events.py\", line 88, in _run\n>>>     self._context.run(self._callback, *self._args)\n>>> \n>>>   File \"C:\\Anaconda3\\envs\\packt.nlp.tf2\\lib\\site-packages\\ipykernel\\kernelbase.py\", line 457, in dispatch_queue\n>>>     await self.process_one()\n>>> \n>>>   File \"C:\\Anaconda3\\envs\\packt.nlp.tf2\\lib\\site-packages\\ipykernel\\kernelbase.py\", line 446, in process_one\n>>>     await dispatch(*args)\n>>> \n>>>   File \"C:\\Anaconda3\\envs\\packt.nlp.tf2\\lib\\site-packages\\ipykernel\\kernelbase.py\", line 353, in dispatch_shell\n>>>     await result\n>>> \n>>>   File \"C:\\Anaconda3\\envs\\packt.nlp.tf2\\lib\\site-packages\\ipykernel\\kernelbase.py\", line 648, in execute_request\n>>>     reply_content = await reply_content\n>>> \n>>>   File \"C:\\Anaconda3\\envs\\packt.nlp.tf2\\lib\\site-packages\\ipykernel\\ipkernel.py\", line 353, in do_execute\n>>>     res = shell.run_cell(code, store_history=store_history, silent=silent)\n>>> \n>>>   File \"C:\\Anaconda3\\envs\\packt.nlp.tf2\\lib\\site-packages\\ipykernel\\zmqshell.py\", line 532, in run_cell\n>>>     return super().run_cell(*args, **kwargs)\n>>> \n>>>   File \"C:\\Anaconda3\\envs\\packt.nlp.tf2\\lib\\site-packages\\IPython\\core\\interactiveshell.py\", line 2915, in run_cell\n>>>     raw_cell, store_history, silent, shell_futures)\n>>> \n>>>   File \"C:\\Anaconda3\\envs\\packt.nlp.tf2\\lib\\site-packages\\IPython\\core\\interactiveshell.py\", line 2960, in _run_cell\n>>>     return runner(coro)\n>>> \n>>>   File \"C:\\Anaconda3\\envs\\packt.nlp.tf2\\lib\\site-packages\\IPython\\core\\async_helpers.py\", line 78, in _pseudo_sync_runner\n>>>     coro.send(None)\n>>> \n>>>   File \"C:\\Anaconda3\\envs\\packt.nlp.tf2\\lib\\site-packages\\IPython\\core\\interactiveshell.py\", line 3186, in run_cell_async\n>>>     interactivity=interactivity, compiler=compiler, result=result)\n>>> \n>>>   File \"C:\\Anaconda3\\envs\\packt.nlp.tf2\\lib\\site-packages\\IPython\\core\\interactiveshell.py\", line 3377, in run_ast_nodes\n>>>     if (await self.run_code(code, result,  async_=asy)):\n>>> \n>>>   File \"C:\\Anaconda3\\envs\\packt.nlp.tf2\\lib\\site-packages\\IPython\\core\\interactiveshell.py\", line 3457, in run_code\n>>>     exec(code_obj, self.user_global_ns, self.user_ns)\n>>> \n>>>   File \"C:\\Users\\thush\\AppData\\Local\\Temp/ipykernel_16572/1305528741.py\", line 8, in <module>\n>>>     epochs=3\n>>> \n>>>   File \"C:\\Anaconda3\\envs\\packt.nlp.tf2\\lib\\site-packages\\keras\\utils\\traceback_utils.py\", line 64, in error_handler\n>>>     return fn(*args, **kwargs)\n>>> \n>>>   File \"C:\\Anaconda3\\envs\\packt.nlp.tf2\\lib\\site-packages\\keras\\engine\\training.py\", line 1216, in fit\n>>>     tmp_logs = self.train_function(iterator)\n>>> \n>>>   File \"C:\\Anaconda3\\envs\\packt.nlp.tf2\\lib\\site-packages\\keras\\engine\\training.py\", line 878, in train_function\n>>>     return step_function(self, iterator)\n>>> \n>>>   File \"C:\\Anaconda3\\envs\\packt.nlp.tf2\\lib\\site-packages\\keras\\engine\\training.py\", line 867, in step_function\n>>>     outputs = model.distribute_strategy.run(run_step, args=(data,))\n>>> \n>>>   File \"C:\\Anaconda3\\envs\\packt.nlp.tf2\\lib\\site-packages\\keras\\engine\\training.py\", line 860, in run_step\n>>>     outputs = model.train_step(data)\n>>> \n>>>   File \"C:\\Anaconda3\\envs\\packt.nlp.tf2\\lib\\site-packages\\keras\\engine\\training.py\", line 808, in train_step\n>>>     y_pred = self(x, training=True)\n>>> \n>>>   File \"C:\\Anaconda3\\envs\\packt.nlp.tf2\\lib\\site-packages\\keras\\utils\\traceback_utils.py\", line 64, in error_handler\n>>>     return fn(*args, **kwargs)\n>>> \n>>>   File \"C:\\Anaconda3\\envs\\packt.nlp.tf2\\lib\\site-packages\\keras\\engine\\base_layer.py\", line 1083, in __call__\n>>>     outputs = call_fn(inputs, *args, **kwargs)\n>>> \n>>>   File \"C:\\Anaconda3\\envs\\packt.nlp.tf2\\lib\\site-packages\\keras\\utils\\traceback_utils.py\", line 92, in error_handler\n>>>     return fn(*args, **kwargs)\n>>> \n>>>   File \"C:\\Anaconda3\\envs\\packt.nlp.tf2\\lib\\site-packages\\keras\\engine\\functional.py\", line 452, in call\n>>>     inputs, training=training, mask=mask)\n>>> \n>>>   File \"C:\\Anaconda3\\envs\\packt.nlp.tf2\\lib\\site-packages\\keras\\engine\\functional.py\", line 589, in _run_internal_graph\n>>>     outputs = node.layer(*args, **kwargs)\n>>> \n>>>   File \"C:\\Anaconda3\\envs\\packt.nlp.tf2\\lib\\site-packages\\keras\\utils\\traceback_utils.py\", line 64, in error_handler\n>>>     return fn(*args, **kwargs)\n>>> \n>>>   File \"C:\\Anaconda3\\envs\\packt.nlp.tf2\\lib\\site-packages\\keras\\engine\\base_layer.py\", line 1083, in __call__\n>>>     outputs = call_fn(inputs, *args, **kwargs)\n>>> \n>>>   File \"C:\\Anaconda3\\envs\\packt.nlp.tf2\\lib\\site-packages\\keras\\utils\\traceback_utils.py\", line 92, in error_handler\n>>>     return fn(*args, **kwargs)\n>>> \n>>>   File \"C:\\Anaconda3\\envs\\packt.nlp.tf2\\lib\\site-packages\\transformers\\models\\bert\\modeling_tf_bert.py\", line 2123, in call\n>>>     outputs = self.bert(\n>>> \n>>>   File \"C:\\Anaconda3\\envs\\packt.nlp.tf2\\lib\\site-packages\\keras\\utils\\traceback_utils.py\", line 64, in error_handler\n>>>     return fn(*args, **kwargs)\n>>> \n>>>   File \"C:\\Anaconda3\\envs\\packt.nlp.tf2\\lib\\site-packages\\keras\\engine\\base_layer.py\", line 1083, in __call__\n>>>     outputs = call_fn(inputs, *args, **kwargs)\n>>> \n>>>   File \"C:\\Anaconda3\\envs\\packt.nlp.tf2\\lib\\site-packages\\keras\\utils\\traceback_utils.py\", line 92, in error_handler\n>>>     return fn(*args, **kwargs)\n>>> \n>>>   File \"C:\\Anaconda3\\envs\\packt.nlp.tf2\\lib\\site-packages\\transformers\\models\\bert\\modeling_tf_bert.py\", line 868, in call\n>>>     encoder_outputs = self.encoder(\n>>> \n>>>   File \"C:\\Anaconda3\\envs\\packt.nlp.tf2\\lib\\site-packages\\keras\\utils\\traceback_utils.py\", line 64, in error_handler\n>>>     return fn(*args, **kwargs)\n>>> \n>>>   File \"C:\\Anaconda3\\envs\\packt.nlp.tf2\\lib\\site-packages\\keras\\engine\\base_layer.py\", line 1083, in __call__\n>>>     outputs = call_fn(inputs, *args, **kwargs)\n>>> \n>>>   File \"C:\\Anaconda3\\envs\\packt.nlp.tf2\\lib\\site-packages\\keras\\utils\\traceback_utils.py\", line 92, in error_handler\n>>>     return fn(*args, **kwargs)\n>>> \n>>>   File \"C:\\Anaconda3\\envs\\packt.nlp.tf2\\lib\\site-packages\\transformers\\models\\bert\\modeling_tf_bert.py\", line 535, in call\n>>>     for i, layer_module in enumerate(self.layer):\n>>> \n>>>   File \"C:\\Anaconda3\\envs\\packt.nlp.tf2\\lib\\site-packages\\transformers\\models\\bert\\modeling_tf_bert.py\", line 541, in call\n>>>     layer_outputs = layer_module(\n>>> \n>>>   File \"C:\\Anaconda3\\envs\\packt.nlp.tf2\\lib\\site-packages\\keras\\utils\\traceback_utils.py\", line 64, in error_handler\n>>>     return fn(*args, **kwargs)\n>>> \n>>>   File \"C:\\Anaconda3\\envs\\packt.nlp.tf2\\lib\\site-packages\\keras\\engine\\base_layer.py\", line 1083, in __call__\n>>>     outputs = call_fn(inputs, *args, **kwargs)\n>>> \n>>>   File \"C:\\Anaconda3\\envs\\packt.nlp.tf2\\lib\\site-packages\\keras\\utils\\traceback_utils.py\", line 92, in error_handler\n>>>     return fn(*args, **kwargs)\n>>> \n>>>   File \"C:\\Anaconda3\\envs\\packt.nlp.tf2\\lib\\site-packages\\transformers\\models\\bert\\modeling_tf_bert.py\", line 451, in call\n>>>     self_attention_outputs = self.attention(\n>>> \n>>>   File \"C:\\Anaconda3\\envs\\packt.nlp.tf2\\lib\\site-packages\\keras\\utils\\traceback_utils.py\", line 64, in error_handler\n>>>     return fn(*args, **kwargs)\n>>> \n>>>   File \"C:\\Anaconda3\\envs\\packt.nlp.tf2\\lib\\site-packages\\keras\\engine\\base_layer.py\", line 1083, in __call__\n>>>     outputs = call_fn(inputs, *args, **kwargs)\n>>> \n>>>   File \"C:\\Anaconda3\\envs\\packt.nlp.tf2\\lib\\site-packages\\keras\\utils\\traceback_utils.py\", line 92, in error_handler\n>>>     return fn(*args, **kwargs)\n>>> \n>>>   File \"C:\\Anaconda3\\envs\\packt.nlp.tf2\\lib\\site-packages\\transformers\\models\\bert\\modeling_tf_bert.py\", line 367, in call\n>>>     self_outputs = self.self_attention(\n>>> \n>>>   File \"C:\\Anaconda3\\envs\\packt.nlp.tf2\\lib\\site-packages\\keras\\utils\\traceback_utils.py\", line 64, in error_handler\n>>>     return fn(*args, **kwargs)\n>>> \n>>>   File \"C:\\Anaconda3\\envs\\packt.nlp.tf2\\lib\\site-packages\\keras\\engine\\base_layer.py\", line 1083, in __call__\n>>>     outputs = call_fn(inputs, *args, **kwargs)\n>>> \n>>>   File \"C:\\Anaconda3\\envs\\packt.nlp.tf2\\lib\\site-packages\\keras\\utils\\traceback_utils.py\", line 92, in error_handler\n>>>     return fn(*args, **kwargs)\n>>> \n>>>   File \"C:\\Anaconda3\\envs\\packt.nlp.tf2\\lib\\site-packages\\transformers\\models\\bert\\modeling_tf_bert.py\", line 283, in call\n>>>     query_layer = self.transpose_for_scores(mixed_query_layer, batch_size)\n>>> \n>>>   File \"C:\\Anaconda3\\envs\\packt.nlp.tf2\\lib\\site-packages\\transformers\\models\\bert\\modeling_tf_bert.py\", line 244, in transpose_for_scores\n>>>     return tf.transpose(tensor, perm=[0, 2, 1, 3])\n>>> \n\nInput Source operations connected to node model_1/tf_bert_for_question_answering_1/bert/encoder/layer_._5/attention/self/transpose_2:\nIn[0] model_1/tf_bert_for_question_answering_1/bert/encoder/layer_._5/attention/self/Reshape_2 (defined at C:\\Anaconda3\\envs\\packt.nlp.tf2\\lib\\site-packages\\transformers\\models\\bert\\modeling_tf_bert.py:241)\t\nIn[1] model_1/tf_bert_for_question_answering_1/bert/encoder/layer_._5/attention/self/transpose_2/perm:\n\nOperation defined at: (most recent call last)\n>>>   File \"C:\\Anaconda3\\envs\\packt.nlp.tf2\\lib\\runpy.py\", line 193, in _run_module_as_main\n>>>     \"__main__\", mod_spec)\n>>> \n>>>   File \"C:\\Anaconda3\\envs\\packt.nlp.tf2\\lib\\runpy.py\", line 85, in _run_code\n>>>     exec(code, run_globals)\n>>> \n>>>   File \"C:\\Anaconda3\\envs\\packt.nlp.tf2\\lib\\site-packages\\ipykernel_launcher.py\", line 16, in <module>\n>>>     app.launch_new_instance()\n>>> \n>>>   File \"C:\\Anaconda3\\envs\\packt.nlp.tf2\\lib\\site-packages\\traitlets\\config\\application.py\", line 846, in launch_instance\n>>>     app.start()\n>>> \n>>>   File \"C:\\Anaconda3\\envs\\packt.nlp.tf2\\lib\\site-packages\\ipykernel\\kernelapp.py\", line 677, in start\n>>>     self.io_loop.start()\n>>> \n>>>   File \"C:\\Anaconda3\\envs\\packt.nlp.tf2\\lib\\site-packages\\tornado\\platform\\asyncio.py\", line 199, in start\n>>>     self.asyncio_loop.run_forever()\n>>> \n>>>   File \"C:\\Anaconda3\\envs\\packt.nlp.tf2\\lib\\asyncio\\base_events.py\", line 541, in run_forever\n>>>     self._run_once()\n>>> \n>>>   File \"C:\\Anaconda3\\envs\\packt.nlp.tf2\\lib\\asyncio\\base_events.py\", line 1786, in _run_once\n>>>     handle._run()\n>>> \n>>>   File \"C:\\Anaconda3\\envs\\packt.nlp.tf2\\lib\\asyncio\\events.py\", line 88, in _run\n>>>     self._context.run(self._callback, *self._args)\n>>> \n>>>   File \"C:\\Anaconda3\\envs\\packt.nlp.tf2\\lib\\site-packages\\ipykernel\\kernelbase.py\", line 457, in dispatch_queue\n>>>     await self.process_one()\n>>> \n>>>   File \"C:\\Anaconda3\\envs\\packt.nlp.tf2\\lib\\site-packages\\ipykernel\\kernelbase.py\", line 446, in process_one\n>>>     await dispatch(*args)\n>>> \n>>>   File \"C:\\Anaconda3\\envs\\packt.nlp.tf2\\lib\\site-packages\\ipykernel\\kernelbase.py\", line 353, in dispatch_shell\n>>>     await result\n>>> \n>>>   File \"C:\\Anaconda3\\envs\\packt.nlp.tf2\\lib\\site-packages\\ipykernel\\kernelbase.py\", line 648, in execute_request\n>>>     reply_content = await reply_content\n>>> \n>>>   File \"C:\\Anaconda3\\envs\\packt.nlp.tf2\\lib\\site-packages\\ipykernel\\ipkernel.py\", line 353, in do_execute\n>>>     res = shell.run_cell(code, store_history=store_history, silent=silent)\n>>> \n>>>   File \"C:\\Anaconda3\\envs\\packt.nlp.tf2\\lib\\site-packages\\ipykernel\\zmqshell.py\", line 532, in run_cell\n>>>     return super().run_cell(*args, **kwargs)\n>>> \n>>>   File \"C:\\Anaconda3\\envs\\packt.nlp.tf2\\lib\\site-packages\\IPython\\core\\interactiveshell.py\", line 2915, in run_cell\n>>>     raw_cell, store_history, silent, shell_futures)\n>>> \n>>>   File \"C:\\Anaconda3\\envs\\packt.nlp.tf2\\lib\\site-packages\\IPython\\core\\interactiveshell.py\", line 2960, in _run_cell\n>>>     return runner(coro)\n>>> \n>>>   File \"C:\\Anaconda3\\envs\\packt.nlp.tf2\\lib\\site-packages\\IPython\\core\\async_helpers.py\", line 78, in _pseudo_sync_runner\n>>>     coro.send(None)\n>>> \n>>>   File \"C:\\Anaconda3\\envs\\packt.nlp.tf2\\lib\\site-packages\\IPython\\core\\interactiveshell.py\", line 3186, in run_cell_async\n>>>     interactivity=interactivity, compiler=compiler, result=result)\n>>> \n>>>   File \"C:\\Anaconda3\\envs\\packt.nlp.tf2\\lib\\site-packages\\IPython\\core\\interactiveshell.py\", line 3377, in run_ast_nodes\n>>>     if (await self.run_code(code, result,  async_=asy)):\n>>> \n>>>   File \"C:\\Anaconda3\\envs\\packt.nlp.tf2\\lib\\site-packages\\IPython\\core\\interactiveshell.py\", line 3457, in run_code\n>>>     exec(code_obj, self.user_global_ns, self.user_ns)\n>>> \n>>>   File \"C:\\Users\\thush\\AppData\\Local\\Temp/ipykernel_16572/1305528741.py\", line 8, in <module>\n>>>     epochs=3\n>>> \n>>>   File \"C:\\Anaconda3\\envs\\packt.nlp.tf2\\lib\\site-packages\\keras\\utils\\traceback_utils.py\", line 64, in error_handler\n>>>     return fn(*args, **kwargs)\n>>> \n>>>   File \"C:\\Anaconda3\\envs\\packt.nlp.tf2\\lib\\site-packages\\keras\\engine\\training.py\", line 1216, in fit\n>>>     tmp_logs = self.train_function(iterator)\n>>> \n>>>   File \"C:\\Anaconda3\\envs\\packt.nlp.tf2\\lib\\site-packages\\keras\\engine\\training.py\", line 878, in train_function\n>>>     return step_function(self, iterator)\n>>> \n>>>   File \"C:\\Anaconda3\\envs\\packt.nlp.tf2\\lib\\site-packages\\keras\\engine\\training.py\", line 867, in step_function\n>>>     outputs = model.distribute_strategy.run(run_step, args=(data,))\n>>> \n>>>   File \"C:\\Anaconda3\\envs\\packt.nlp.tf2\\lib\\site-packages\\keras\\engine\\training.py\", line 860, in run_step\n>>>     outputs = model.train_step(data)\n>>> \n>>>   File \"C:\\Anaconda3\\envs\\packt.nlp.tf2\\lib\\site-packages\\keras\\engine\\training.py\", line 808, in train_step\n>>>     y_pred = self(x, training=True)\n>>> \n>>>   File \"C:\\Anaconda3\\envs\\packt.nlp.tf2\\lib\\site-packages\\keras\\utils\\traceback_utils.py\", line 64, in error_handler\n>>>     return fn(*args, **kwargs)\n>>> \n>>>   File \"C:\\Anaconda3\\envs\\packt.nlp.tf2\\lib\\site-packages\\keras\\engine\\base_layer.py\", line 1083, in __call__\n>>>     outputs = call_fn(inputs, *args, **kwargs)\n>>> \n>>>   File \"C:\\Anaconda3\\envs\\packt.nlp.tf2\\lib\\site-packages\\keras\\utils\\traceback_utils.py\", line 92, in error_handler\n>>>     return fn(*args, **kwargs)\n>>> \n>>>   File \"C:\\Anaconda3\\envs\\packt.nlp.tf2\\lib\\site-packages\\keras\\engine\\functional.py\", line 452, in call\n>>>     inputs, training=training, mask=mask)\n>>> \n>>>   File \"C:\\Anaconda3\\envs\\packt.nlp.tf2\\lib\\site-packages\\keras\\engine\\functional.py\", line 589, in _run_internal_graph\n>>>     outputs = node.layer(*args, **kwargs)\n>>> \n>>>   File \"C:\\Anaconda3\\envs\\packt.nlp.tf2\\lib\\site-packages\\keras\\utils\\traceback_utils.py\", line 64, in error_handler\n>>>     return fn(*args, **kwargs)\n>>> \n>>>   File \"C:\\Anaconda3\\envs\\packt.nlp.tf2\\lib\\site-packages\\keras\\engine\\base_layer.py\", line 1083, in __call__\n>>>     outputs = call_fn(inputs, *args, **kwargs)\n>>> \n>>>   File \"C:\\Anaconda3\\envs\\packt.nlp.tf2\\lib\\site-packages\\keras\\utils\\traceback_utils.py\", line 92, in error_handler\n>>>     return fn(*args, **kwargs)\n>>> \n>>>   File \"C:\\Anaconda3\\envs\\packt.nlp.tf2\\lib\\site-packages\\transformers\\models\\bert\\modeling_tf_bert.py\", line 2123, in call\n>>>     outputs = self.bert(\n>>> \n>>>   File \"C:\\Anaconda3\\envs\\packt.nlp.tf2\\lib\\site-packages\\keras\\utils\\traceback_utils.py\", line 64, in error_handler\n>>>     return fn(*args, **kwargs)\n>>> \n>>>   File \"C:\\Anaconda3\\envs\\packt.nlp.tf2\\lib\\site-packages\\keras\\engine\\base_layer.py\", line 1083, in __call__\n>>>     outputs = call_fn(inputs, *args, **kwargs)\n>>> \n>>>   File \"C:\\Anaconda3\\envs\\packt.nlp.tf2\\lib\\site-packages\\keras\\utils\\traceback_utils.py\", line 92, in error_handler\n>>>     return fn(*args, **kwargs)\n>>> \n>>>   File \"C:\\Anaconda3\\envs\\packt.nlp.tf2\\lib\\site-packages\\transformers\\models\\bert\\modeling_tf_bert.py\", line 868, in call\n>>>     encoder_outputs = self.encoder(\n>>> \n>>>   File \"C:\\Anaconda3\\envs\\packt.nlp.tf2\\lib\\site-packages\\keras\\utils\\traceback_utils.py\", line 64, in error_handler\n>>>     return fn(*args, **kwargs)\n>>> \n>>>   File \"C:\\Anaconda3\\envs\\packt.nlp.tf2\\lib\\site-packages\\keras\\engine\\base_layer.py\", line 1083, in __call__\n>>>     outputs = call_fn(inputs, *args, **kwargs)\n>>> \n>>>   File \"C:\\Anaconda3\\envs\\packt.nlp.tf2\\lib\\site-packages\\keras\\utils\\traceback_utils.py\", line 92, in error_handler\n>>>     return fn(*args, **kwargs)\n>>> \n>>>   File \"C:\\Anaconda3\\envs\\packt.nlp.tf2\\lib\\site-packages\\transformers\\models\\bert\\modeling_tf_bert.py\", line 535, in call\n>>>     for i, layer_module in enumerate(self.layer):\n>>> \n>>>   File \"C:\\Anaconda3\\envs\\packt.nlp.tf2\\lib\\site-packages\\transformers\\models\\bert\\modeling_tf_bert.py\", line 541, in call\n>>>     layer_outputs = layer_module(\n>>> \n>>>   File \"C:\\Anaconda3\\envs\\packt.nlp.tf2\\lib\\site-packages\\keras\\utils\\traceback_utils.py\", line 64, in error_handler\n>>>     return fn(*args, **kwargs)\n>>> \n>>>   File \"C:\\Anaconda3\\envs\\packt.nlp.tf2\\lib\\site-packages\\keras\\engine\\base_layer.py\", line 1083, in __call__\n>>>     outputs = call_fn(inputs, *args, **kwargs)\n>>> \n>>>   File \"C:\\Anaconda3\\envs\\packt.nlp.tf2\\lib\\site-packages\\keras\\utils\\traceback_utils.py\", line 92, in error_handler\n>>>     return fn(*args, **kwargs)\n>>> \n>>>   File \"C:\\Anaconda3\\envs\\packt.nlp.tf2\\lib\\site-packages\\transformers\\models\\bert\\modeling_tf_bert.py\", line 451, in call\n>>>     self_attention_outputs = self.attention(\n>>> \n>>>   File \"C:\\Anaconda3\\envs\\packt.nlp.tf2\\lib\\site-packages\\keras\\utils\\traceback_utils.py\", line 64, in error_handler\n>>>     return fn(*args, **kwargs)\n>>> \n>>>   File \"C:\\Anaconda3\\envs\\packt.nlp.tf2\\lib\\site-packages\\keras\\engine\\base_layer.py\", line 1083, in __call__\n>>>     outputs = call_fn(inputs, *args, **kwargs)\n>>> \n>>>   File \"C:\\Anaconda3\\envs\\packt.nlp.tf2\\lib\\site-packages\\keras\\utils\\traceback_utils.py\", line 92, in error_handler\n>>>     return fn(*args, **kwargs)\n>>> \n>>>   File \"C:\\Anaconda3\\envs\\packt.nlp.tf2\\lib\\site-packages\\transformers\\models\\bert\\modeling_tf_bert.py\", line 367, in call\n>>>     self_outputs = self.self_attention(\n>>> \n>>>   File \"C:\\Anaconda3\\envs\\packt.nlp.tf2\\lib\\site-packages\\keras\\utils\\traceback_utils.py\", line 64, in error_handler\n>>>     return fn(*args, **kwargs)\n>>> \n>>>   File \"C:\\Anaconda3\\envs\\packt.nlp.tf2\\lib\\site-packages\\keras\\engine\\base_layer.py\", line 1083, in __call__\n>>>     outputs = call_fn(inputs, *args, **kwargs)\n>>> \n>>>   File \"C:\\Anaconda3\\envs\\packt.nlp.tf2\\lib\\site-packages\\keras\\utils\\traceback_utils.py\", line 92, in error_handler\n>>>     return fn(*args, **kwargs)\n>>> \n>>>   File \"C:\\Anaconda3\\envs\\packt.nlp.tf2\\lib\\site-packages\\transformers\\models\\bert\\modeling_tf_bert.py\", line 283, in call\n>>>     query_layer = self.transpose_for_scores(mixed_query_layer, batch_size)\n>>> \n>>>   File \"C:\\Anaconda3\\envs\\packt.nlp.tf2\\lib\\site-packages\\transformers\\models\\bert\\modeling_tf_bert.py\", line 244, in transpose_for_scores\n>>>     return tf.transpose(tensor, perm=[0, 2, 1, 3])\n>>> \n\nFunction call stack:\ntrain_function -> train_function\n"
     ]
    }
   ],
   "source": [
    "import time\n",
    "\n",
    "t1 = time.time()\n",
    "\n",
    "model_v2.fit(\n",
    "    train_dataset, \n",
    "    validation_data=valid_dataset,    \n",
    "    epochs=3\n",
    ")\n",
    "\n",
    "t2 = time.time()\n",
    "\n",
    "print(f\"It took {t2-t1} seconds to complete the training\")"
   ]
  },
  {
   "cell_type": "markdown",
   "metadata": {},
   "source": [
    "### Save the model"
   ]
  },
  {
   "cell_type": "code",
   "execution_count": 13,
   "metadata": {},
   "outputs": [
    {
     "name": "stdout",
     "output_type": "stream",
     "text": [
      "Model: \"model\"\n",
      "__________________________________________________________________________________________________\n",
      " Layer (type)                   Output Shape         Param #     Connected to                     \n",
      "==================================================================================================\n",
      " input_ids (InputLayer)         [(None, None)]       0           []                               \n",
      "                                                                                                  \n",
      " attention_mask (InputLayer)    [(None, None)]       0           []                               \n",
      "                                                                                                  \n",
      " tf_bert_for_question_answering  TFQuestionAnswering  108893186  ['input_ids[0][0]',              \n",
      "  (TFBertForQuestionAnswering)  ModelOutput(loss=No               'attention_mask[0][0]']         \n",
      "                                ne, start_logits=(N                                               \n",
      "                                one, None),                                                       \n",
      "                                 end_logits=(None,                                                \n",
      "                                None),                                                            \n",
      "                                 hidden_states=None                                               \n",
      "                                , attentions=None)                                                \n",
      "                                                                                                  \n",
      "==================================================================================================\n",
      "Total params: 108,893,186\n",
      "Trainable params: 108,893,186\n",
      "Non-trainable params: 0\n",
      "__________________________________________________________________________________________________\n",
      "None\n"
     ]
    }
   ],
   "source": [
    "print(model_v2.summary())"
   ]
  },
  {
   "cell_type": "markdown",
   "metadata": {},
   "source": [
    "**Note**: We cannot save `model_v2` as is, because it raises an error about not finding config for the transformer model layer. THerefore, we will save just the transformer model layer, so that we can call the `tf_wrap_model()` function anytime and get the wrapped model. "
   ]
  },
  {
   "cell_type": "code",
   "execution_count": 15,
   "metadata": {},
   "outputs": [
    {
     "data": {
      "text/plain": [
       "('tokenizers\\\\bert_qa\\\\tokenizer_config.json',\n",
       " 'tokenizers\\\\bert_qa\\\\special_tokens_map.json',\n",
       " 'tokenizers\\\\bert_qa\\\\vocab.txt',\n",
       " 'tokenizers\\\\bert_qa\\\\added_tokens.json',\n",
       " 'tokenizers\\\\bert_qa\\\\tokenizer.json')"
      ]
     },
     "execution_count": 15,
     "metadata": {},
     "output_type": "execute_result"
    }
   ],
   "source": [
    "import os\n",
    "\n",
    "# Create folders\n",
    "if not os.path.exists('models'):\n",
    "    os.makedirs('models')\n",
    "if not os.path.exists('tokenizers'):\n",
    "    os.makedirs('tokenizers')\n",
    "    \n",
    "# Save the modle\n",
    "model_v2.get_layer(\"tf_bert_for_question_answering\").save_pretrained(os.path.join('models', 'bert_qa'))\n",
    "\n",
    "# Save the tokenizer\n",
    "tokenizer.save_pretrained(os.path.join('tokenizers', 'bert_qa'))\n",
    "\n"
   ]
  },
  {
   "cell_type": "markdown",
   "metadata": {},
   "source": [
    "### Testing on unseen data"
   ]
  },
  {
   "cell_type": "code",
   "execution_count": 14,
   "metadata": {},
   "outputs": [
    {
     "name": "stdout",
     "output_type": "stream",
     "text": [
      "1322/1322 [==============================] - 166s 126ms/step - loss: 2.4768 - tf_distil_bert_for_question_answering_loss: 1.2703 - tf_distil_bert_for_question_answering_1_loss: 1.2065 - tf_distil_bert_for_question_answering_sparse_categorical_accuracy: 0.6570 - tf_distil_bert_for_question_answering_1_sparse_categorical_accuracy: 0.6936\n"
     ]
    },
    {
     "data": {
      "text/plain": [
       "[2.4768142700195312,\n",
       " 1.2703046798706055,\n",
       " 1.2065105438232422,\n",
       " 0.657048225402832,\n",
       " 0.6935666799545288]"
      ]
     },
     "execution_count": 14,
     "metadata": {},
     "output_type": "execute_result"
    }
   ],
   "source": [
    "model_v2.evaluate(test_dataset)"
   ]
  },
  {
   "cell_type": "markdown",
   "metadata": {},
   "source": [
    "## Ask BERT a question ..."
   ]
  },
  {
   "cell_type": "code",
   "execution_count": 16,
   "metadata": {},
   "outputs": [
    {
     "name": "stdout",
     "output_type": "stream",
     "text": [
      "Question\n",
      "\t What was the theme of Super Bowl 50? \n",
      "\n",
      "Context\n",
      "\t Super Bowl 50 was an American football game to determine the champion of the National Football League (NFL) for the 2015 season. The American Football Conference (AFC) champion Denver Broncos defeated the National Football Conference (NFC) champion Carolina Panthers 24–10 to earn their third Super Bowl title. The game was played on February 7, 2016, at Levi's Stadium in the San Francisco Bay Area at Santa Clara, California. As this was the 50th Super Bowl, the league emphasized the \"golden anniversary\" with various gold-themed initiatives, as well as temporarily suspending the tradition of naming each Super Bowl game with Roman numerals (under which the game would have been known as \"Super Bowl L\"), so that the logo could prominently feature the Arabic numerals 50. \n",
      "\n",
      "Answer (char indexed)\n",
      "\t {'answer_start': 487, 'text': '\"golden anniversary\"', 'answer_end': 507} \n",
      "\n",
      "================================================== \n",
      "\n",
      "98-99 token ids contain the answer\n",
      "Answer (predicted)\n",
      "golden anniversary\n",
      "================================================== \n",
      "\n"
     ]
    }
   ],
   "source": [
    "i = 5\n",
    "\n",
    "# Define sample question\n",
    "sample_q = test_questions[i]\n",
    "# Define sample context\n",
    "sample_c = test_contexts[i]\n",
    "# Define sample answer \n",
    "sample_a = test_answers[i]\n",
    "\n",
    "# Get the input in the format BERT accepts\n",
    "sample_input = (test_encodings[\"input_ids\"][i:i+1], test_encodings[\"attention_mask\"][i:i+1])\n",
    "\n",
    "def ask_bert(sample_input, tokenizer, model):\n",
    "    \"\"\" This function takes an input, a tokenizer, a model and returns the prediciton \"\"\"\n",
    "    out = model.predict(sample_input)\n",
    "    pred_ans_start = tf.argmax(out[0][0])\n",
    "    pred_ans_end = tf.argmax(out[1][0])\n",
    "    print(f\"{pred_ans_start}-{pred_ans_end} token ids contain the answer\")\n",
    "    ans_tokens = sample_input[0][0][pred_ans_start:pred_ans_end+1]\n",
    "    \n",
    "    return \" \".join(tokenizer.convert_ids_to_tokens(ans_tokens))\n",
    "\n",
    "print(\"Question\")\n",
    "print(\"\\t\", sample_q, \"\\n\")\n",
    "print(\"Context\")\n",
    "print(\"\\t\", sample_c, \"\\n\")\n",
    "print(\"Answer (char indexed)\")\n",
    "print(\"\\t\", sample_a, \"\\n\")\n",
    "print('='*50,'\\n')\n",
    "\n",
    "sample_pred_ans = ask_bert(sample_input, tokenizer, model_v2)\n",
    "\n",
    "print(\"Answer (predicted)\")\n",
    "print(sample_pred_ans)\n",
    "print('='*50,'\\n')"
   ]
  },
  {
   "cell_type": "code",
   "execution_count": null,
   "metadata": {},
   "outputs": [],
   "source": []
  }
 ],
 "metadata": {
  "kernelspec": {
   "display_name": "Python 3 (ipykernel)",
   "language": "python",
   "name": "python3"
  },
  "language_info": {
   "codemirror_mode": {
    "name": "ipython",
    "version": 3
   },
   "file_extension": ".py",
   "mimetype": "text/x-python",
   "name": "python",
   "nbconvert_exporter": "python",
   "pygments_lexer": "ipython3",
   "version": "3.7.11"
  }
 },
 "nbformat": 4,
 "nbformat_minor": 4
}
