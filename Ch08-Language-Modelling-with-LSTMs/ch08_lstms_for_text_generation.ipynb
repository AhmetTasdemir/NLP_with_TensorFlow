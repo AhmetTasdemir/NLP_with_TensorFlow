{
 "cells": [
  {
   "cell_type": "markdown",
   "metadata": {},
   "source": [
    "# LSTMs for Text Generation"
   ]
  },
  {
   "cell_type": "code",
   "execution_count": 1,
   "metadata": {},
   "outputs": [],
   "source": [
    "import os\n",
    "from six.moves.urllib.request import urlretrieve\n",
    "import tensorflow as tf\n",
    "\n",
    "physical_devices = tf.config.list_physical_devices('GPU')\n",
    "try:\n",
    "  tf.config.experimental.set_memory_growth(physical_devices[0], True)\n",
    "except:\n",
    "  # Invalid device or cannot modify virtual devices once initialized.\n",
    "  pass\n",
    "\n"
   ]
  },
  {
   "cell_type": "markdown",
   "metadata": {},
   "source": [
    "## Downloading Stories\n",
    "Stories are automatically downloaded from https://www.cs.cmu.edu/~spok/grimmtmp/, if not detected in the disk. The total size of stories is around ~500KB. The dataset consists of 209 stories."
   ]
  },
  {
   "cell_type": "code",
   "execution_count": 2,
   "metadata": {
    "scrolled": true
   },
   "outputs": [
    {
     "name": "stdout",
     "output_type": "stream",
     "text": [
      "209 files found.\n"
     ]
    }
   ],
   "source": [
    "url = 'https://www.cs.cmu.edu/~spok/grimmtmp/'\n",
    "dir_name = 'data'\n",
    "\n",
    "def download_data(url, filename, download_dir):\n",
    "    \"\"\"Download a file if not present, and make sure it's the right size.\"\"\"\n",
    "      \n",
    "    # Create directories if doesn't exist\n",
    "    os.makedirs(download_dir, exist_ok=True)\n",
    "    \n",
    "    # If file doesn't exist download\n",
    "    if not os.path.exists(os.path.join(download_dir,filename)):\n",
    "        filepath, _ = urlretrieve(url + filename, os.path.join(download_dir,filename))\n",
    "    else:\n",
    "        filepath = os.path.join(download_dir, filename)\n",
    "        \n",
    "    return filepath\n",
    "\n",
    "# Number of files and their names to download\n",
    "num_files = 209\n",
    "filenames = [format(i, '03d')+'.txt' for i in range(1,num_files+1)]\n",
    "\n",
    "# Download each file\n",
    "for fn in filenames:\n",
    "    download_data(url, fn, dir_name)\n",
    "    \n",
    "# Check if all files are downloaded\n",
    "for i in range(len(filenames)):\n",
    "    file_exists = os.path.isfile(os.path.join(dir_name,filenames[i]))\n",
    "    assert file_exists\n",
    "print('{} files found.'.format(len(filenames))) "
   ]
  },
  {
   "cell_type": "markdown",
   "metadata": {},
   "source": [
    "## Split train, validation and test data"
   ]
  },
  {
   "cell_type": "code",
   "execution_count": 3,
   "metadata": {},
   "outputs": [
    {
     "name": "stdout",
     "output_type": "stream",
     "text": [
      "Got 167 files in the train dataset (e.g. ['data\\\\117.txt', 'data\\\\133.txt', 'data\\\\069.txt'])\n",
      "Got 21 files in the valid dataset (e.g. ['data\\\\023.txt', 'data\\\\078.txt', 'data\\\\176.txt'])\n",
      "Got 21 files in the test dataset (e.g. ['data\\\\129.txt', 'data\\\\207.txt', 'data\\\\170.txt'])\n"
     ]
    }
   ],
   "source": [
    "from sklearn.model_selection import train_test_split\n",
    "\n",
    "# Fix the random seed so we get the same outptu everytime\n",
    "random_state = 54321\n",
    "\n",
    "filenames = [os.path.join(dir_name, f) for f in os.listdir(dir_name)]\n",
    "\n",
    "# First separate train and valid+test data\n",
    "train_filenames, test_and_valid_filenames = train_test_split(filenames, test_size=0.2, random_state=random_state)\n",
    "\n",
    "# Separate valid+test data to validation and test data\n",
    "valid_filenames, test_filenames = train_test_split(test_and_valid_filenames, test_size=0.5, random_state=random_state) \n",
    "\n",
    "# Print out the sizes and some sample filenames\n",
    "for subset_id, subset in zip(('train', 'valid', 'test'), (train_filenames, valid_filenames, test_filenames)):\n",
    "    print(\"Got {} files in the {} dataset (e.g. {})\".format(len(subset), subset_id, subset[:3]))"
   ]
  },
  {
   "cell_type": "markdown",
   "metadata": {},
   "source": [
    "## Find the vocabulary size"
   ]
  },
  {
   "cell_type": "code",
   "execution_count": 4,
   "metadata": {},
   "outputs": [
    {
     "name": "stdout",
     "output_type": "stream",
     "text": [
      "Found 705 unique bigrams\n"
     ]
    }
   ],
   "source": [
    "bigram_set = set()\n",
    "\n",
    "# Go through each file in the training set\n",
    "for fname in train_filenames:\n",
    "    document = [] # This will hold all the text\n",
    "    with open(fname, 'r') as f:\n",
    "        for row in f:\n",
    "            # Convert text to lower case to reduce input dimensionality\n",
    "            document.append(row.lower())\n",
    "            \n",
    "        # From the list of text we have, generate one long string (containing all training stories)\n",
    "        document = \" \".join(document)\n",
    "        \n",
    "        # Update the set with all bigrams found\n",
    "        bigram_set.update([document[i:i+2] for i in range(0, len(document), 2)])\n",
    "\n",
    "# Assign to a variable and print \n",
    "n_vocab = len(bigram_set)\n",
    "print(\"Found {} unique bigrams\".format(n_vocab))"
   ]
  },
  {
   "cell_type": "markdown",
   "metadata": {},
   "source": [
    "## Reading data and generate batches for the model (`tf.data` API)\n",
    "\n",
    "Here we are going to define a somewhat complex `tf.data` pipeline that would do all the required transformations for us."
   ]
  },
  {
   "cell_type": "code",
   "execution_count": 16,
   "metadata": {},
   "outputs": [],
   "source": [
    "def generate_tf_dataset(filenames, ngram_width, window_size, batch_size, shuffle=False):\n",
    "    \"\"\" Generate batched data from a list of files speficied \"\"\"\n",
    "    \n",
    "    # Read the data found in the documents\n",
    "    documents = []\n",
    "    for f in filenames:\n",
    "        doc = tf.io.read_file(f)\n",
    "        doc = tf.strings.ngrams(    # Generate ngrams from the string\n",
    "            tf.strings.bytes_split(    # Create a list of chars from a string\n",
    "                tf.strings.regex_replace(    # Replace new lines with space\n",
    "                    tf.strings.lower(    # Convert string to lower case\n",
    "                        doc\n",
    "                    ), \"\\n\", \" \"\n",
    "                )\n",
    "            ),\n",
    "            ngram_width, separator=''\n",
    "        )\n",
    "        documents.append(doc.numpy().tolist())\n",
    "    \n",
    "    # documents is a list of list of strings, where each string is a story\n",
    "    # From that we generate a ragged tensor\n",
    "    documents = tf.ragged.constant(documents)\n",
    "    # Create a dataset where each row in the ragged tensor would be a sample\n",
    "    doc_dataset = tf.data.Dataset.from_tensor_slices(documents)\n",
    "    # We need to perform a quick transformation - tf.strings.ngrams would generate\n",
    "    # all the ngrams (e.g. abcd -> ab, bc, cd) with overlap, however for our data\n",
    "    # we do not need the overlap, so we need to skip the overlapping ngrams\n",
    "    # the following line does that\n",
    "    doc_dataset = doc_dataset.map(lambda x: x[::ngram_width])\n",
    "    \n",
    "    # Here we are using a window function to generate windows from text\n",
    "    # For a text sequence with window_size 3 and shift 1 you get\n",
    "    # e.g. ab, cd, ef, gh, ij, ... -> [ab, cd, ef], [cd, ef, gh], [ef, gh, ij], ...\n",
    "    # each of these windows is a single training sequence for our model\n",
    "    doc_dataset = doc_dataset.flat_map(\n",
    "        lambda x: tf.data.Dataset.from_tensor_slices(\n",
    "            x\n",
    "        ).window(\n",
    "            size=window_size+1, shift=int(window_size * 0.75)\n",
    "        ).flat_map(\n",
    "            lambda window: window.batch(window_size+1, drop_remainder=True)\n",
    "        )\n",
    "    )\n",
    "    \n",
    "    # From each windowed sequence we generate input and target tuple\n",
    "    # e.g. [ab, cd, ef] -> ([ab, cd], [cd, ef])\n",
    "    doc_dataset = doc_dataset.map(lambda x: (x[:-1], x[1:]))\n",
    "    \n",
    "    # Shuffle the data if required\n",
    "    doc_dataset = doc_dataset.shuffle(buffer_size=batch_size*10) if shuffle else doc_dataset\n",
    "    \n",
    "    # Batch the data\n",
    "    doc_dataset = doc_dataset.batch(batch_size=batch_size)\n",
    "    \n",
    "    # Return the data\n",
    "    return doc_dataset\n",
    "\n",
    "\n",
    "ngram_length = 2\n",
    "batch_size = 128\n",
    "window_size = 128\n",
    "\n",
    "train_ds = generate_tf_dataset(train_filenames, ngram_length, window_size, batch_size, shuffle=True)\n",
    "valid_ds = generate_tf_dataset(valid_filenames, ngram_length, window_size, batch_size)\n",
    "test_ds = generate_tf_dataset(test_filenames, ngram_length, window_size, batch_size)"
   ]
  },
  {
   "cell_type": "markdown",
   "metadata": {},
   "source": [
    "## Generate few samples from the dataset function"
   ]
  },
  {
   "cell_type": "code",
   "execution_count": 6,
   "metadata": {},
   "outputs": [
    {
     "name": "stdout",
     "output_type": "stream",
     "text": [
      "[[b'th' b'er' b'e ' b'wa' b's ' b'on' b'ce' b' u' b'po' b'n ']] -> [[b'er' b'e ' b'wa' b's ' b'on' b'ce' b' u' b'po' b'n ' b'a ']]\n",
      "[[b' u' b'po' b'n ' b'a ' b'ti' b'me' b' a' b' s' b'he' b'ph']] -> [[b'po' b'n ' b'a ' b'ti' b'me' b' a' b' s' b'he' b'ph' b'er']]\n",
      "[[b' s' b'he' b'ph' b'er' b'd ' b'bo' b'y ' b'wh' b'os' b'e ']] -> [[b'he' b'ph' b'er' b'd ' b'bo' b'y ' b'wh' b'os' b'e ' b'fa']]\n",
      "[[b'wh' b'os' b'e ' b'fa' b'me' b' s' b'pr' b'ea' b'd ' b'fa']] -> [[b'os' b'e ' b'fa' b'me' b' s' b'pr' b'ea' b'd ' b'fa' b'r ']]\n",
      "[[b'ea' b'd ' b'fa' b'r ' b'an' b'd ' b'wi' b'de' b' b' b'ec']] -> [[b'd ' b'fa' b'r ' b'an' b'd ' b'wi' b'de' b' b' b'ec' b'au']]\n"
     ]
    }
   ],
   "source": [
    "ds = generate_tf_dataset(train_filenames, 2, window_size=10, batch_size=1).take(5)\n",
    "\n",
    "for record in ds:\n",
    "    print(record[0].numpy(), '->', record[1].numpy())"
   ]
  },
  {
   "cell_type": "markdown",
   "metadata": {},
   "source": [
    "## Defining the model"
   ]
  },
  {
   "cell_type": "code",
   "execution_count": 7,
   "metadata": {},
   "outputs": [],
   "source": [
    "import tensorflow.keras.backend as K\n",
    "\n",
    "K.clear_session()\n",
    "tf.compat.v1.reset_default_graph()"
   ]
  },
  {
   "cell_type": "markdown",
   "metadata": {},
   "source": [
    "### Defining a `TextVectorization` layer"
   ]
  },
  {
   "cell_type": "code",
   "execution_count": 8,
   "metadata": {},
   "outputs": [],
   "source": [
    "import tensorflow.keras.layers as layers\n",
    "import tensorflow.keras.models as models\n",
    "\n",
    "# The vectorization layer that will convert string bigrams to IDs\n",
    "text_vectorizer = tf.keras.layers.TextVectorization(\n",
    "    max_tokens=n_vocab, standardize=None,\n",
    "    split=None, input_shape=(window_size,)\n",
    ")\n",
    "\n",
    "# Train the model on existing data\n",
    "text_vectorizer.adapt(train_ds)"
   ]
  },
  {
   "cell_type": "code",
   "execution_count": 9,
   "metadata": {},
   "outputs": [
    {
     "data": {
      "text/plain": [
       "['', '[UNK]', 'e ', 'he', ' t', 'th', 'd ', ' a', ', ', ' h']"
      ]
     },
     "execution_count": 9,
     "metadata": {},
     "output_type": "execute_result"
    }
   ],
   "source": [
    "# Print a few bigrams learnt by the vectorization layer\n",
    "text_vectorizer.get_vocabulary()[:10]"
   ]
  },
  {
   "cell_type": "markdown",
   "metadata": {},
   "source": [
    "### Convert the targets from string ngrams to ngram IDs"
   ]
  },
  {
   "cell_type": "code",
   "execution_count": 17,
   "metadata": {},
   "outputs": [],
   "source": [
    "train_ds = train_ds.map(lambda x, y: (x, text_vectorizer(y)))\n",
    "valid_ds = valid_ds.map(lambda x, y: (x, text_vectorizer(y)))\n",
    "test_ds = test_ds.map(lambda x, y: (x, text_vectorizer(y)))"
   ]
  },
  {
   "cell_type": "markdown",
   "metadata": {},
   "source": [
    "### Language model"
   ]
  },
  {
   "cell_type": "code",
   "execution_count": 11,
   "metadata": {},
   "outputs": [],
   "source": [
    "lm_model = models.Sequential([\n",
    "    text_vectorizer,\n",
    "    layers.Embedding(n_vocab+2, 96),\n",
    "    layers.LSTM(512, return_sequences=True),\n",
    "    layers.LSTM(256, return_sequences=True),\n",
    "    layers.Dense(1024, activation='relu'),\n",
    "    layers.Dropout(0.5),\n",
    "    layers.Dense(n_vocab, activation='softmax')\n",
    "])"
   ]
  },
  {
   "cell_type": "markdown",
   "metadata": {},
   "source": [
    "### Metrics and compilation"
   ]
  },
  {
   "cell_type": "code",
   "execution_count": 12,
   "metadata": {},
   "outputs": [],
   "source": [
    "# Inspired by https://gist.github.com/Gregorgeous/dbad1ec22efc250c76354d949a13cec3\n",
    "class PerplexityMetric(tf.keras.metrics.Mean):\n",
    "    \n",
    "    def __init__(self, name='perplexity', **kwargs):\n",
    "      super().__init__(name=name, **kwargs)\n",
    "      self.cross_entropy = tf.keras.losses.SparseCategoricalCrossentropy(from_logits=False, reduction='none')\n",
    "\n",
    "    def _calculate_perplexity(self, real, pred):\n",
    "        \n",
    "      # The next 4 lines zero-out the padding from loss calculations, \n",
    "      # this follows the logic from: https://www.tensorflow.org/beta/tutorials/text/transformer#loss_and_metrics \t\t\t      \n",
    "      loss_ = self.cross_entropy(real, pred)\n",
    "      \n",
    "      # Calculating the perplexity steps: \n",
    "      step1 = K.mean(loss_, axis=-1)\n",
    "      perplexity = K.exp(step1)\n",
    "    \n",
    "      return perplexity \n",
    "\n",
    "    def update_state(self, y_true, y_pred, sample_weight=None):            \n",
    "      perplexity = self._calculate_perplexity(y_true, y_pred)\n",
    "      # Remember self.perplexity is a tensor (tf.Variable), so using simply \"self.perplexity = perplexity\" will result in error because of mixing EagerTensor and Graph operations \n",
    "      super().update_state(perplexity)\n"
   ]
  },
  {
   "cell_type": "code",
   "execution_count": 13,
   "metadata": {},
   "outputs": [
    {
     "name": "stdout",
     "output_type": "stream",
     "text": [
      "Model: \"sequential\"\n",
      "_________________________________________________________________\n",
      " Layer (type)                Output Shape              Param #   \n",
      "=================================================================\n",
      " text_vectorization (TextVec  (None, 128)              0         \n",
      " torization)                                                     \n",
      "                                                                 \n",
      " embedding (Embedding)       (None, 128, 96)           67872     \n",
      "                                                                 \n",
      " lstm (LSTM)                 (None, 128, 512)          1247232   \n",
      "                                                                 \n",
      " lstm_1 (LSTM)               (None, 128, 256)          787456    \n",
      "                                                                 \n",
      " dense (Dense)               (None, 128, 1024)         263168    \n",
      "                                                                 \n",
      " dropout (Dropout)           (None, 128, 1024)         0         \n",
      "                                                                 \n",
      " dense_1 (Dense)             (None, 128, 705)          722625    \n",
      "                                                                 \n",
      "=================================================================\n",
      "Total params: 3,088,353\n",
      "Trainable params: 3,088,353\n",
      "Non-trainable params: 0\n",
      "_________________________________________________________________\n"
     ]
    }
   ],
   "source": [
    "lm_model.compile(loss='sparse_categorical_crossentropy', optimizer='adam', metrics=['accuracy', PerplexityMetric()])\n",
    "lm_model.summary()"
   ]
  },
  {
   "cell_type": "code",
   "execution_count": 14,
   "metadata": {},
   "outputs": [
    {
     "name": "stdout",
     "output_type": "stream",
     "text": [
      "Epoch 1/50\n",
      "49/49 [==============================] - 13s 152ms/step - loss: 5.3618 - accuracy: 0.0313 - perplexity: 238.9863 - val_loss: 5.1130 - val_accuracy: 0.0392 - val_perplexity: 167.2491\n",
      "Epoch 2/50\n",
      "49/49 [==============================] - 7s 139ms/step - loss: 5.1392 - accuracy: 0.0344 - perplexity: 172.1411 - val_loss: 5.0826 - val_accuracy: 0.0392 - val_perplexity: 162.3444\n",
      "Epoch 3/50\n",
      "49/49 [==============================] - 7s 141ms/step - loss: 5.0416 - accuracy: 0.0407 - perplexity: 156.5191 - val_loss: 4.8507 - val_accuracy: 0.0608 - val_perplexity: 129.0649\n",
      "Epoch 4/50\n",
      "49/49 [==============================] - 7s 141ms/step - loss: 4.6950 - accuracy: 0.0888 - perplexity: 111.8154 - val_loss: 4.4363 - val_accuracy: 0.1153 - val_perplexity: 85.6340\n",
      "Epoch 5/50\n",
      "49/49 [==============================] - 7s 142ms/step - loss: 4.3200 - accuracy: 0.1302 - perplexity: 77.3074 - val_loss: 4.0458 - val_accuracy: 0.1634 - val_perplexity: 58.0992\n",
      "Epoch 6/50\n",
      "49/49 [==============================] - 7s 141ms/step - loss: 3.9970 - accuracy: 0.1727 - perplexity: 55.8697 - val_loss: 3.7944 - val_accuracy: 0.2000 - val_perplexity: 45.2552\n",
      "Epoch 7/50\n",
      "49/49 [==============================] - 7s 142ms/step - loss: 3.7912 - accuracy: 0.2022 - perplexity: 45.4186 - val_loss: 3.6264 - val_accuracy: 0.2243 - val_perplexity: 38.3450\n",
      "Epoch 8/50\n",
      "49/49 [==============================] - 7s 142ms/step - loss: 3.6397 - accuracy: 0.2234 - perplexity: 39.0240 - val_loss: 3.4977 - val_accuracy: 0.2410 - val_perplexity: 33.7733\n",
      "Epoch 9/50\n",
      "49/49 [==============================] - 7s 142ms/step - loss: 3.5207 - accuracy: 0.2393 - perplexity: 34.6755 - val_loss: 3.3893 - val_accuracy: 0.2571 - val_perplexity: 30.3231\n",
      "Epoch 10/50\n",
      "49/49 [==============================] - 7s 142ms/step - loss: 3.4235 - accuracy: 0.2527 - perplexity: 31.4679 - val_loss: 3.3075 - val_accuracy: 0.2684 - val_perplexity: 27.9774\n",
      "Epoch 11/50\n",
      "49/49 [==============================] - 7s 142ms/step - loss: 3.3413 - accuracy: 0.2636 - perplexity: 29.0080 - val_loss: 3.2271 - val_accuracy: 0.2791 - val_perplexity: 25.8629\n",
      "Epoch 12/50\n",
      "49/49 [==============================] - 7s 142ms/step - loss: 3.2722 - accuracy: 0.2724 - perplexity: 27.0868 - val_loss: 3.1616 - val_accuracy: 0.2853 - val_perplexity: 24.2371\n",
      "Epoch 13/50\n",
      "49/49 [==============================] - 7s 142ms/step - loss: 3.2084 - accuracy: 0.2804 - perplexity: 25.4256 - val_loss: 3.1049 - val_accuracy: 0.2942 - val_perplexity: 22.9102\n",
      "Epoch 14/50\n",
      "49/49 [==============================] - 7s 142ms/step - loss: 3.1527 - accuracy: 0.2881 - perplexity: 24.0587 - val_loss: 3.0524 - val_accuracy: 0.3029 - val_perplexity: 21.7587\n",
      "Epoch 15/50\n",
      "49/49 [==============================] - 7s 142ms/step - loss: 3.0995 - accuracy: 0.2966 - perplexity: 22.8137 - val_loss: 3.0059 - val_accuracy: 0.3108 - val_perplexity: 20.7901\n",
      "Epoch 16/50\n",
      "49/49 [==============================] - 7s 142ms/step - loss: 3.0520 - accuracy: 0.3034 - perplexity: 21.7647 - val_loss: 2.9636 - val_accuracy: 0.3206 - val_perplexity: 19.9241\n",
      "Epoch 17/50\n",
      "49/49 [==============================] - 7s 142ms/step - loss: 3.0079 - accuracy: 0.3104 - perplexity: 20.8243 - val_loss: 2.9270 - val_accuracy: 0.3239 - val_perplexity: 19.2573\n",
      "Epoch 18/50\n",
      "49/49 [==============================] - 7s 142ms/step - loss: 2.9714 - accuracy: 0.3155 - perplexity: 20.0875 - val_loss: 2.8872 - val_accuracy: 0.3303 - val_perplexity: 18.5008\n",
      "Epoch 19/50\n",
      "49/49 [==============================] - 7s 141ms/step - loss: 2.9300 - accuracy: 0.3216 - perplexity: 19.2750 - val_loss: 2.8584 - val_accuracy: 0.3344 - val_perplexity: 18.0153\n",
      "Epoch 20/50\n",
      "49/49 [==============================] - 7s 142ms/step - loss: 2.8970 - accuracy: 0.3264 - perplexity: 18.6552 - val_loss: 2.8221 - val_accuracy: 0.3413 - val_perplexity: 17.3597\n",
      "Epoch 21/50\n",
      "49/49 [==============================] - 7s 142ms/step - loss: 2.8633 - accuracy: 0.3313 - perplexity: 18.0325 - val_loss: 2.7971 - val_accuracy: 0.3436 - val_perplexity: 16.9549\n",
      "Epoch 22/50\n",
      "49/49 [==============================] - 7s 142ms/step - loss: 2.8313 - accuracy: 0.3360 - perplexity: 17.4667 - val_loss: 2.7696 - val_accuracy: 0.3485 - val_perplexity: 16.4809\n",
      "Epoch 23/50\n",
      "49/49 [==============================] - 7s 142ms/step - loss: 2.8032 - accuracy: 0.3401 - perplexity: 16.9865 - val_loss: 2.7418 - val_accuracy: 0.3543 - val_perplexity: 16.0427\n",
      "Epoch 24/50\n",
      "49/49 [==============================] - 7s 142ms/step - loss: 2.7792 - accuracy: 0.3446 - perplexity: 16.5836 - val_loss: 2.7246 - val_accuracy: 0.3577 - val_perplexity: 15.7672\n",
      "Epoch 25/50\n",
      "49/49 [==============================] - 7s 142ms/step - loss: 2.7541 - accuracy: 0.3480 - perplexity: 16.1758 - val_loss: 2.7063 - val_accuracy: 0.3593 - val_perplexity: 15.4968\n",
      "Epoch 26/50\n",
      "49/49 [==============================] - 7s 142ms/step - loss: 2.7302 - accuracy: 0.3516 - perplexity: 15.7898 - val_loss: 2.6849 - val_accuracy: 0.3642 - val_perplexity: 15.1958\n",
      "Epoch 27/50\n",
      "49/49 [==============================] - 7s 142ms/step - loss: 2.7075 - accuracy: 0.3552 - perplexity: 15.4359 - val_loss: 2.6656 - val_accuracy: 0.3669 - val_perplexity: 14.9020\n",
      "Epoch 28/50\n",
      "49/49 [==============================] - 7s 142ms/step - loss: 2.6868 - accuracy: 0.3588 - perplexity: 15.1184 - val_loss: 2.6466 - val_accuracy: 0.3712 - val_perplexity: 14.6327\n",
      "Epoch 29/50\n",
      "49/49 [==============================] - 7s 142ms/step - loss: 2.6661 - accuracy: 0.3616 - perplexity: 14.8032 - val_loss: 2.6298 - val_accuracy: 0.3731 - val_perplexity: 14.3892\n",
      "Epoch 30/50\n",
      "49/49 [==============================] - 7s 142ms/step - loss: 2.6465 - accuracy: 0.3651 - perplexity: 14.5218 - val_loss: 2.6195 - val_accuracy: 0.3750 - val_perplexity: 14.2801\n",
      "Epoch 31/50\n",
      "49/49 [==============================] - 7s 142ms/step - loss: 2.6284 - accuracy: 0.3679 - perplexity: 14.2612 - val_loss: 2.6044 - val_accuracy: 0.3777 - val_perplexity: 14.0469\n",
      "Epoch 32/50\n",
      "49/49 [==============================] - 7s 142ms/step - loss: 2.6101 - accuracy: 0.3706 - perplexity: 14.0014 - val_loss: 2.5880 - val_accuracy: 0.3821 - val_perplexity: 13.8119\n",
      "Epoch 33/50\n",
      "49/49 [==============================] - 7s 142ms/step - loss: 2.5943 - accuracy: 0.3734 - perplexity: 13.7792 - val_loss: 2.5755 - val_accuracy: 0.3829 - val_perplexity: 13.6574\n",
      "Epoch 34/50\n",
      "49/49 [==============================] - 7s 142ms/step - loss: 2.5779 - accuracy: 0.3761 - perplexity: 13.5544 - val_loss: 2.5617 - val_accuracy: 0.3843 - val_perplexity: 13.4681\n",
      "Epoch 35/50\n",
      "49/49 [==============================] - 7s 142ms/step - loss: 2.5634 - accuracy: 0.3778 - perplexity: 13.3558 - val_loss: 2.5515 - val_accuracy: 0.3870 - val_perplexity: 13.3486\n",
      "Epoch 36/50\n",
      "49/49 [==============================] - 7s 143ms/step - loss: 2.5477 - accuracy: 0.3807 - perplexity: 13.1471 - val_loss: 2.5430 - val_accuracy: 0.3878 - val_perplexity: 13.2334\n",
      "Epoch 37/50\n",
      "49/49 [==============================] - 7s 143ms/step - loss: 2.5345 - accuracy: 0.3825 - perplexity: 12.9742 - val_loss: 2.5260 - val_accuracy: 0.3914 - val_perplexity: 13.0145\n",
      "Epoch 38/50\n",
      "49/49 [==============================] - 7s 144ms/step - loss: 2.5183 - accuracy: 0.3852 - perplexity: 12.7649 - val_loss: 2.5171 - val_accuracy: 0.3940 - val_perplexity: 12.8903\n",
      "Epoch 39/50\n",
      "49/49 [==============================] - 7s 142ms/step - loss: 2.5050 - accuracy: 0.3873 - perplexity: 12.5938 - val_loss: 2.5091 - val_accuracy: 0.3959 - val_perplexity: 12.8176\n",
      "Epoch 40/50\n",
      "49/49 [==============================] - 7s 142ms/step - loss: 2.4929 - accuracy: 0.3890 - perplexity: 12.4416 - val_loss: 2.5038 - val_accuracy: 0.3955 - val_perplexity: 12.7586\n",
      "Epoch 41/50\n",
      "49/49 [==============================] - 7s 142ms/step - loss: 2.4808 - accuracy: 0.3913 - perplexity: 12.2920 - val_loss: 2.4882 - val_accuracy: 0.3989 - val_perplexity: 12.5382\n",
      "Epoch 42/50\n",
      "49/49 [==============================] - 7s 142ms/step - loss: 2.4674 - accuracy: 0.3932 - perplexity: 12.1319 - val_loss: 2.4829 - val_accuracy: 0.4001 - val_perplexity: 12.4981\n",
      "Epoch 43/50\n",
      "49/49 [==============================] - 7s 142ms/step - loss: 2.4542 - accuracy: 0.3956 - perplexity: 11.9669 - val_loss: 2.4728 - val_accuracy: 0.4018 - val_perplexity: 12.3870\n"
     ]
    },
    {
     "name": "stdout",
     "output_type": "stream",
     "text": [
      "Epoch 44/50\n",
      "49/49 [==============================] - 7s 142ms/step - loss: 2.4438 - accuracy: 0.3970 - perplexity: 11.8396 - val_loss: 2.4633 - val_accuracy: 0.4037 - val_perplexity: 12.2677\n",
      "Epoch 45/50\n",
      "49/49 [==============================] - 7s 142ms/step - loss: 2.4302 - accuracy: 0.3993 - perplexity: 11.6786 - val_loss: 2.4588 - val_accuracy: 0.4048 - val_perplexity: 12.2275\n",
      "Epoch 46/50\n",
      "49/49 [==============================] - 7s 142ms/step - loss: 2.4201 - accuracy: 0.4015 - perplexity: 11.5618 - val_loss: 2.4500 - val_accuracy: 0.4056 - val_perplexity: 12.1123\n",
      "Epoch 47/50\n",
      "49/49 [==============================] - 7s 142ms/step - loss: 2.4103 - accuracy: 0.4027 - perplexity: 11.4494 - val_loss: 2.4400 - val_accuracy: 0.4077 - val_perplexity: 11.9825\n",
      "Epoch 48/50\n",
      "49/49 [==============================] - 7s 142ms/step - loss: 2.4001 - accuracy: 0.4045 - perplexity: 11.3288 - val_loss: 2.4334 - val_accuracy: 0.4090 - val_perplexity: 11.9072\n",
      "Epoch 49/50\n",
      "49/49 [==============================] - 7s 142ms/step - loss: 2.3884 - accuracy: 0.4069 - perplexity: 11.1945 - val_loss: 2.4258 - val_accuracy: 0.4097 - val_perplexity: 11.8284\n",
      "Epoch 50/50\n",
      "49/49 [==============================] - 7s 142ms/step - loss: 2.3776 - accuracy: 0.4079 - perplexity: 11.0743 - val_loss: 2.4198 - val_accuracy: 0.4104 - val_perplexity: 11.7590\n"
     ]
    }
   ],
   "source": [
    "lstm_history = lm_model.fit(train_ds, validation_data=valid_ds, epochs=50)"
   ]
  },
  {
   "cell_type": "code",
   "execution_count": 18,
   "metadata": {},
   "outputs": [
    {
     "name": "stdout",
     "output_type": "stream",
     "text": [
      "5/5 [==============================] - 0s 45ms/step - loss: 2.4742 - accuracy: 0.3968 - perplexity: 12.3155\n"
     ]
    },
    {
     "data": {
      "text/plain": [
       "[2.4741671085357666, 0.39684802293777466, 12.315534591674805]"
      ]
     },
     "execution_count": 18,
     "metadata": {},
     "output_type": "execute_result"
    }
   ],
   "source": [
    "lm_model.evaluate(test_ds)"
   ]
  },
  {
   "cell_type": "markdown",
   "metadata": {},
   "source": [
    "## Inferring from the trained model"
   ]
  },
  {
   "cell_type": "code",
   "execution_count": 15,
   "metadata": {},
   "outputs": [
    {
     "name": "stdout",
     "output_type": "stream",
     "text": [
      "Model: \"model\"\n",
      "__________________________________________________________________________________________________\n",
      " Layer (type)                   Output Shape         Param #     Connected to                     \n",
      "==================================================================================================\n",
      " input_1 (InputLayer)           [(None, 1)]          0           []                               \n",
      "                                                                                                  \n",
      " text_vectorization (TextVector  multiple            0           ['input_1[0][0]']                \n",
      " ization)                                                                                         \n",
      "                                                                                                  \n",
      " embedding (Embedding)          multiple             67872       ['text_vectorization[1][0]']     \n",
      "                                                                                                  \n",
      " input_2 (InputLayer)           [(None, 512)]        0           []                               \n",
      "                                                                                                  \n",
      " input_3 (InputLayer)           [(None, 512)]        0           []                               \n",
      "                                                                                                  \n",
      " lstm_2 (LSTM)                  [(None, 1, 512),     1247232     ['embedding[1][0]',              \n",
      "                                 (None, 512),                     'input_2[0][0]',                \n",
      "                                 (None, 512)]                     'input_3[0][0]']                \n",
      "                                                                                                  \n",
      " input_4 (InputLayer)           [(None, 256)]        0           []                               \n",
      "                                                                                                  \n",
      " input_5 (InputLayer)           [(None, 256)]        0           []                               \n",
      "                                                                                                  \n",
      " lstm_3 (LSTM)                  [(None, 1, 256),     787456      ['lstm_2[0][0]',                 \n",
      "                                 (None, 256),                     'input_4[0][0]',                \n",
      "                                 (None, 256)]                     'input_5[0][0]']                \n",
      "                                                                                                  \n",
      " dense (Dense)                  multiple             263168      ['lstm_3[0][0]']                 \n",
      "                                                                                                  \n",
      " dense_1 (Dense)                multiple             722625      ['dense[1][0]']                  \n",
      "                                                                                                  \n",
      "==================================================================================================\n",
      "Total params: 3,088,353\n",
      "Trainable params: 3,088,353\n",
      "Non-trainable params: 0\n",
      "__________________________________________________________________________________________________\n"
     ]
    }
   ],
   "source": [
    "# Define inputs to the model\n",
    "inp = tf.keras.layers.Input(dtype=tf.string, shape=(1,))\n",
    "\n",
    "text_vectorized_out = lm_model.get_layer('text_vectorization')(inp)\n",
    "\n",
    "inp_state_c_lstm = tf.keras.layers.Input(shape=(512,))\n",
    "inp_state_h_lstm = tf.keras.layers.Input(shape=(512,))\n",
    "inp_state_c_lstm_1 = tf.keras.layers.Input(shape=(256,))\n",
    "inp_state_h_lstm_1 = tf.keras.layers.Input(shape=(256,))\n",
    "\n",
    "# Define embedding layer and output\n",
    "emb_layer = lm_model.get_layer('embedding')\n",
    "emb_out = emb_layer(text_vectorized_out)\n",
    "\n",
    "# Defining a LSTM layers and output\n",
    "lstm_layer = tf.keras.layers.LSTM(512, return_state=True, return_sequences=True)\n",
    "lstm_out, lstm_state_c, lstm_state_h = lstm_layer(emb_out, initial_state=[inp_state_c_lstm, inp_state_h_lstm])\n",
    "\n",
    "lstm_1_layer = tf.keras.layers.LSTM(256, return_state=True, return_sequences=True)\n",
    "lstm_1_out, lstm_1_state_c, lstm_1_state_h = lstm_1_layer(lstm_out, initial_state=[inp_state_c_lstm_1, inp_state_h_lstm_1])\n",
    "\n",
    "# Defining a Dense layer and output\n",
    "dense_out = lm_model.get_layer('dense')(lstm_1_out)\n",
    "\n",
    "# Defining the final Dense layer and output\n",
    "final_out = lm_model.get_layer('dense_1')(dense_out)\n",
    "#softmax_out = tf.keras.layers.Activation(activation='softmax')(final_out)\n",
    "\n",
    "# Copy the weights from the original model\n",
    "lstm_layer.set_weights(lm_model.get_layer('lstm').get_weights())\n",
    "lstm_1_layer.set_weights(lm_model.get_layer('lstm_1').get_weights())\n",
    "\n",
    "# Define final model\n",
    "infer_model = tf.keras.models.Model(\n",
    "    inputs=[inp, inp_state_c_lstm, inp_state_h_lstm, inp_state_c_lstm_1, inp_state_h_lstm_1], \n",
    "    outputs=[final_out, lstm_state_c, lstm_state_h, lstm_1_state_c, lstm_1_state_h])\n",
    "\n",
    "\n",
    "# Summary\n",
    "infer_model.summary()"
   ]
  },
  {
   "cell_type": "code",
   "execution_count": 16,
   "metadata": {},
   "outputs": [
    {
     "name": "stdout",
     "output_type": "stream",
     "text": [
      "Making predictions from a 58 element long input\n",
      "\n",
      "\n",
      "============================================================\n",
      "Final text: \n",
      "When adam and eve were driven out of paradise, they were compelled to build a house for themselves on barren groundr, and then this they were all the third began to be able to the forests, and they were.  the king's daughter was no one was about to the king's daughter to the forest of them to the stone.  then the king's daughter was, and then the king's daughter was nothing-eyes, and the king's daughter was still, and then that had there was about through the third, and the king's daughters was seems to the king's daughter to the forest of them to the stone for them to the forests, and that it was not been to be ables, and the king's daughter wanted to be and said, \"i will go to the forest of them to the forest of them to the stone, and the king's daughter was still before him and said, \"i will go to the forests, and they were began to the forests, and they were began to the forest of them to the forest of them to the stone, and the king's daughters was so much to the king's daughter to the forest answered, and they were began to the forest, and they were all the third began to be able to the forest \n"
     ]
    }
   ],
   "source": [
    "import numpy as np\n",
    "\n",
    "text = [\"When adam and eve were driven out of paradise, they were compelled to build a house for themselves on barren ground\"]\n",
    "\n",
    "seq = [text[0][i:i+2] for i in range(0, len(text[0]), 2)]\n",
    "\n",
    "# build up model state using the given string\n",
    "print(\"Making predictions from a {} element long input\".format(len(seq)))\n",
    "\n",
    "vocabulary = infer_model.get_layer(\"text_vectorization\").get_vocabulary()\n",
    "index_word = dict(zip(range(len(vocabulary)), vocabulary))\n",
    "\n",
    "# Reset the state of the model initially\n",
    "infer_model.reset_states()\n",
    "# Definin the initial state as all zeros\n",
    "state_c = np.zeros(shape=(1,512))\n",
    "state_h = np.zeros(shape=(1,512))\n",
    "state_c_1 = np.zeros(shape=(1,256))\n",
    "state_h_1 = np.zeros(shape=(1,256))\n",
    "\n",
    "# Recursively update the model by assining new state to state\n",
    "for c in seq:    \n",
    "    #print(c)\n",
    "    out, state_c, state_h, state_c_1, state_h_1 = infer_model.predict(\n",
    "        [np.array([[c]]), state_c, state_h, state_c_1, state_h_1]\n",
    ")\n",
    "\n",
    "# Get final prediction after feeding the input string\n",
    "wid = int(np.argmax(out[0],axis=-1).ravel())\n",
    "word = index_word[wid]\n",
    "text.append(word)\n",
    "\n",
    "# Define first input to generate text recursively from\n",
    "x = np.array([[word]])\n",
    "\n",
    "# Code listing 10.7\n",
    "for _ in range(500):\n",
    "    \n",
    "    # Get the next output and state\n",
    "    out, state_c, state_h, state_c_1, state_h_1  = infer_model.predict([x, state_c, state_h, state_c_1, state_h_1 ])\n",
    "    \n",
    "    # Get the word id and the word from out\n",
    "    out_argsort = np.argsort(out[0], axis=-1).ravel()        \n",
    "    wid = int(out_argsort[-1])\n",
    "    word = index_word[wid]\n",
    "    \n",
    "    # If the word ends with space, we introduce a bit of randomness\n",
    "    # Essentially pick one of the top 3 outputs for that timestep depending on their likelihood\n",
    "    if word.endswith(' '):\n",
    "        if np.random.normal()>0.5:\n",
    "            width = 5\n",
    "            i = np.random.choice(list(range(-width,0)), p=out_argsort[-width:]/out_argsort[-width:].sum())    \n",
    "            wid = int(out_argsort[i])    \n",
    "            word = index_word[wid]\n",
    "            \n",
    "    # Append the prediction\n",
    "    text.append(word)\n",
    "    \n",
    "    # Recursively make the current prediction the next input\n",
    "    x = np.array([[word]])\n",
    "    \n",
    "# Print the final output    \n",
    "print('\\n')\n",
    "print('='*60)\n",
    "print(\"Final text: \")\n",
    "print(''.join(text))"
   ]
  },
  {
   "cell_type": "markdown",
   "metadata": {},
   "source": [
    "## Comparing to LSTMs with Peepholes and GRUs"
   ]
  },
  {
   "cell_type": "code",
   "execution_count": 19,
   "metadata": {},
   "outputs": [
    {
     "name": "stdout",
     "output_type": "stream",
     "text": [
      "Epoch 1/50\n",
      "49/49 [==============================] - 46s 910ms/step - loss: 5.3646 - accuracy: 0.0317 - perplexity: 239.8510 - val_loss: 5.1131 - val_accuracy: 0.0523 - val_perplexity: 167.2880\n",
      "Epoch 2/50\n",
      "49/49 [==============================] - 36s 725ms/step - loss: 5.1388 - accuracy: 0.0344 - perplexity: 172.0644 - val_loss: 5.0802 - val_accuracy: 0.0392 - val_perplexity: 161.9693\n",
      "Epoch 3/50\n",
      "49/49 [==============================] - 35s 713ms/step - loss: 5.0171 - accuracy: 0.0438 - perplexity: 152.9957 - val_loss: 4.7839 - val_accuracy: 0.0771 - val_perplexity: 120.7943\n",
      "Epoch 4/50\n",
      "49/49 [==============================] - 36s 727ms/step - loss: 4.6461 - accuracy: 0.0963 - perplexity: 6334707.5000 - val_loss: 4.3748 - val_accuracy: 0.1239 - val_perplexity: 80.5711\n",
      "Epoch 5/50\n",
      "49/49 [==============================] - 37s 743ms/step - loss: 4.2967 - accuracy: 0.1297 - perplexity: 75.2980 - val_loss: 4.0942 - val_accuracy: 0.1471 - val_perplexity: 60.9475\n",
      "Epoch 6/50\n",
      "49/49 [==============================] - 37s 745ms/step - loss: 4.0500 - accuracy: 0.1573 - perplexity: 58.8336 - val_loss: 3.8582 - val_accuracy: 0.1895 - val_perplexity: 48.2065\n",
      "Epoch 7/50\n",
      "49/49 [==============================] - 36s 729ms/step - loss: 3.8318 - accuracy: 0.1956 - perplexity: 47.2854 - val_loss: 3.6616 - val_accuracy: 0.2172 - val_perplexity: 39.6635\n",
      "Epoch 8/50\n",
      "49/49 [==============================] - 35s 722ms/step - loss: 3.6781 - accuracy: 0.2183 - perplexity: 40.5466 - val_loss: 3.5337 - val_accuracy: 0.2404 - val_perplexity: 34.9835\n",
      "Epoch 9/50\n",
      "49/49 [==============================] - 36s 733ms/step - loss: 3.5604 - accuracy: 0.2349 - perplexity: 36.0699 - val_loss: 3.4378 - val_accuracy: 0.2511 - val_perplexity: 31.7948\n",
      "Epoch 10/50\n",
      "49/49 [==============================] - 37s 763ms/step - loss: 3.4664 - accuracy: 0.2471 - perplexity: 32.8544 - val_loss: 3.3473 - val_accuracy: 0.2627 - val_perplexity: 29.0889\n",
      "Epoch 11/50\n",
      "49/49 [==============================] - 35s 719ms/step - loss: 3.3880 - accuracy: 0.2571 - perplexity: 30.3973 - val_loss: 3.2770 - val_accuracy: 0.2704 - val_perplexity: 27.1609\n",
      "Epoch 12/50\n",
      "49/49 [==============================] - 34s 679ms/step - loss: 3.3161 - accuracy: 0.2666 - perplexity: 28.3086 - val_loss: 3.2121 - val_accuracy: 0.2788 - val_perplexity: 25.4882\n",
      "Epoch 13/50\n",
      "49/49 [==============================] - 26s 537ms/step - loss: 3.2499 - accuracy: 0.2761 - perplexity: 26.5045 - val_loss: 3.1496 - val_accuracy: 0.2893 - val_perplexity: 23.9874\n",
      "Epoch 14/50\n",
      "49/49 [==============================] - 27s 557ms/step - loss: 3.1908 - accuracy: 0.2843 - perplexity: 24.9956 - val_loss: 3.0865 - val_accuracy: 0.2983 - val_perplexity: 22.5184\n",
      "Epoch 15/50\n",
      "49/49 [==============================] - 27s 556ms/step - loss: 3.1352 - accuracy: 0.2916 - perplexity: 23.6535 - val_loss: 3.0390 - val_accuracy: 0.3076 - val_perplexity: 21.4996\n",
      "Epoch 16/50\n",
      "49/49 [==============================] - 27s 552ms/step - loss: 3.0869 - accuracy: 0.2990 - perplexity: 22.5419 - val_loss: 2.9943 - val_accuracy: 0.3134 - val_perplexity: 20.5529\n",
      "Epoch 17/50\n",
      "49/49 [==============================] - 28s 564ms/step - loss: 3.0383 - accuracy: 0.3058 - perplexity: 21.4738 - val_loss: 2.9521 - val_accuracy: 0.3195 - val_perplexity: 19.7617\n",
      "Epoch 18/50\n",
      "49/49 [==============================] - 29s 579ms/step - loss: 2.9977 - accuracy: 0.3115 - perplexity: 20.6312 - val_loss: 2.9100 - val_accuracy: 0.3265 - val_perplexity: 18.9226\n",
      "Epoch 19/50\n",
      "49/49 [==============================] - 28s 559ms/step - loss: 2.9587 - accuracy: 0.3173 - perplexity: 19.8440 - val_loss: 2.8774 - val_accuracy: 0.3311 - val_perplexity: 18.3434\n",
      "Epoch 20/50\n",
      "49/49 [==============================] - 29s 577ms/step - loss: 2.9231 - accuracy: 0.3229 - perplexity: 19.1575 - val_loss: 2.8493 - val_accuracy: 0.3372 - val_perplexity: 17.8315\n",
      "Epoch 21/50\n",
      "49/49 [==============================] - 29s 585ms/step - loss: 2.8902 - accuracy: 0.3278 - perplexity: 18.5332 - val_loss: 2.8182 - val_accuracy: 0.3420 - val_perplexity: 17.3323\n",
      "Epoch 22/50\n",
      "49/49 [==============================] - 29s 588ms/step - loss: 2.8589 - accuracy: 0.3328 - perplexity: 17.9661 - val_loss: 2.7976 - val_accuracy: 0.3460 - val_perplexity: 16.9880\n",
      "Epoch 23/50\n",
      "49/49 [==============================] - 29s 585ms/step - loss: 2.8304 - accuracy: 0.3370 - perplexity: 17.4567 - val_loss: 2.7684 - val_accuracy: 0.3499 - val_perplexity: 16.4789\n",
      "Epoch 24/50\n",
      "49/49 [==============================] - 29s 585ms/step - loss: 2.8042 - accuracy: 0.3412 - perplexity: 17.0111 - val_loss: 2.7430 - val_accuracy: 0.3557 - val_perplexity: 16.0637\n",
      "Epoch 25/50\n",
      "49/49 [==============================] - 29s 586ms/step - loss: 2.7784 - accuracy: 0.3453 - perplexity: 16.5834 - val_loss: 2.7220 - val_accuracy: 0.3587 - val_perplexity: 15.7780\n",
      "Epoch 26/50\n",
      "49/49 [==============================] - 30s 597ms/step - loss: 2.7527 - accuracy: 0.3491 - perplexity: 16.1578 - val_loss: 2.7000 - val_accuracy: 0.3620 - val_perplexity: 15.4336\n",
      "Epoch 27/50\n",
      "49/49 [==============================] - 29s 589ms/step - loss: 2.7310 - accuracy: 0.3525 - perplexity: 15.8115 - val_loss: 2.6832 - val_accuracy: 0.3651 - val_perplexity: 15.1661\n",
      "Epoch 28/50\n",
      "49/49 [==============================] - 29s 589ms/step - loss: 2.7086 - accuracy: 0.3559 - perplexity: 15.4602 - val_loss: 2.6642 - val_accuracy: 0.3686 - val_perplexity: 14.9090\n",
      "Epoch 29/50\n",
      "49/49 [==============================] - 29s 587ms/step - loss: 2.6874 - accuracy: 0.3590 - perplexity: 15.1360 - val_loss: 2.6478 - val_accuracy: 0.3708 - val_perplexity: 14.6652\n",
      "Epoch 30/50\n",
      "49/49 [==============================] - 29s 589ms/step - loss: 2.6685 - accuracy: 0.3624 - perplexity: 14.8540 - val_loss: 2.6305 - val_accuracy: 0.3750 - val_perplexity: 14.4192\n",
      "Epoch 31/50\n",
      "49/49 [==============================] - 29s 587ms/step - loss: 2.6482 - accuracy: 0.3654 - perplexity: 14.5567 - val_loss: 2.6151 - val_accuracy: 0.3758 - val_perplexity: 14.2115\n",
      "Epoch 32/50\n",
      "49/49 [==============================] - 29s 581ms/step - loss: 2.6322 - accuracy: 0.3682 - perplexity: 14.3256 - val_loss: 2.6095 - val_accuracy: 0.3770 - val_perplexity: 14.1695\n",
      "Epoch 33/50\n",
      "49/49 [==============================] - 30s 598ms/step - loss: 2.6128 - accuracy: 0.3707 - perplexity: 14.0460 - val_loss: 2.5846 - val_accuracy: 0.3828 - val_perplexity: 13.7971\n",
      "Epoch 34/50\n",
      "49/49 [==============================] - 30s 598ms/step - loss: 2.5960 - accuracy: 0.3737 - perplexity: 13.8101 - val_loss: 2.5741 - val_accuracy: 0.3840 - val_perplexity: 13.6671\n",
      "Epoch 35/50\n",
      "49/49 [==============================] - 29s 588ms/step - loss: 2.5795 - accuracy: 0.3761 - perplexity: 13.5814 - val_loss: 2.5600 - val_accuracy: 0.3860 - val_perplexity: 13.4558\n",
      "Epoch 36/50\n",
      "49/49 [==============================] - 30s 614ms/step - loss: 2.5640 - accuracy: 0.3785 - perplexity: 13.3763 - val_loss: 2.5470 - val_accuracy: 0.3892 - val_perplexity: 13.2950\n",
      "Epoch 37/50\n",
      "49/49 [==============================] - 30s 602ms/step - loss: 2.5481 - accuracy: 0.3814 - perplexity: 13.1647 - val_loss: 2.5368 - val_accuracy: 0.3907 - val_perplexity: 13.1556\n",
      "Epoch 38/50\n",
      "49/49 [==============================] - 32s 646ms/step - loss: 2.5339 - accuracy: 0.3837 - perplexity: 12.9757 - val_loss: 2.5265 - val_accuracy: 0.3933 - val_perplexity: 13.0419\n",
      "Epoch 39/50\n",
      "49/49 [==============================] - 31s 627ms/step - loss: 2.5200 - accuracy: 0.3858 - perplexity: 12.7987 - val_loss: 2.5141 - val_accuracy: 0.3965 - val_perplexity: 12.8577\n",
      "Epoch 40/50\n",
      "49/49 [==============================] - 31s 625ms/step - loss: 2.5068 - accuracy: 0.3873 - perplexity: 12.6243 - val_loss: 2.5090 - val_accuracy: 0.3963 - val_perplexity: 12.8095\n",
      "Epoch 41/50\n",
      "49/49 [==============================] - 31s 629ms/step - loss: 2.4933 - accuracy: 0.3900 - perplexity: 12.4552 - val_loss: 2.4941 - val_accuracy: 0.3984 - val_perplexity: 12.6351\n",
      "Epoch 42/50\n",
      "49/49 [==============================] - 32s 643ms/step - loss: 2.4794 - accuracy: 0.3925 - perplexity: 12.2829 - val_loss: 2.4852 - val_accuracy: 0.4009 - val_perplexity: 12.5106\n",
      "Epoch 43/50\n",
      "49/49 [==============================] - 32s 659ms/step - loss: 2.4684 - accuracy: 0.3939 - perplexity: 12.1445 - val_loss: 2.4753 - val_accuracy: 0.4029 - val_perplexity: 12.4022\n"
     ]
    },
    {
     "name": "stdout",
     "output_type": "stream",
     "text": [
      "Epoch 44/50\n",
      "49/49 [==============================] - 32s 649ms/step - loss: 2.4555 - accuracy: 0.3957 - perplexity: 11.9885 - val_loss: 2.4687 - val_accuracy: 0.4032 - val_perplexity: 12.3356\n",
      "Epoch 45/50\n",
      "49/49 [==============================] - 33s 673ms/step - loss: 2.4431 - accuracy: 0.3979 - perplexity: 11.8389 - val_loss: 2.4602 - val_accuracy: 0.4053 - val_perplexity: 12.2168\n",
      "Epoch 46/50\n",
      "49/49 [==============================] - 34s 686ms/step - loss: 2.4319 - accuracy: 0.3998 - perplexity: 11.7055 - val_loss: 2.4533 - val_accuracy: 0.4070 - val_perplexity: 12.1446\n",
      "Epoch 47/50\n",
      "49/49 [==============================] - 32s 653ms/step - loss: 2.4204 - accuracy: 0.4018 - perplexity: 11.5728 - val_loss: 2.4470 - val_accuracy: 0.4088 - val_perplexity: 12.0891\n",
      "Epoch 48/50\n",
      "49/49 [==============================] - 33s 678ms/step - loss: 2.4085 - accuracy: 0.4035 - perplexity: 11.4314 - val_loss: 2.4395 - val_accuracy: 0.4104 - val_perplexity: 11.9765\n",
      "Epoch 49/50\n",
      "49/49 [==============================] - 33s 676ms/step - loss: 2.3998 - accuracy: 0.4048 - perplexity: 11.3294 - val_loss: 2.4311 - val_accuracy: 0.4118 - val_perplexity: 11.8840\n",
      "Epoch 50/50\n",
      "49/49 [==============================] - 34s 685ms/step - loss: 2.3888 - accuracy: 0.4064 - perplexity: 11.2056 - val_loss: 2.4317 - val_accuracy: 0.4115 - val_perplexity: 11.9185\n"
     ]
    }
   ],
   "source": [
    "import tensorflow.keras.backend as K\n",
    "import tensorflow_addons as tfa\n",
    "import tensorflow.keras.layers as layers\n",
    "import tensorflow.keras.models as models\n",
    "\n",
    "K.clear_session()\n",
    "tf.compat.v1.reset_default_graph()\n",
    "\n",
    "ngram_length = 2\n",
    "batch_size = 128\n",
    "window_size = 128\n",
    "\n",
    "train_ds = generate_tf_dataset(train_filenames, ngram_length, window_size, batch_size, shuffle=True)\n",
    "valid_ds = generate_tf_dataset(valid_filenames, ngram_length, window_size, batch_size)\n",
    "\n",
    "\n",
    "# The vectorization layer that will convert string bigrams to IDs\n",
    "text_vectorizer = tf.keras.layers.TextVectorization(\n",
    "    max_tokens=n_vocab, standardize=None,\n",
    "    split=None, input_shape=(window_size,)\n",
    ")\n",
    "\n",
    "# Train the model on existing data\n",
    "text_vectorizer.adapt(train_ds)\n",
    "\n",
    "lm_peephole_model = models.Sequential([\n",
    "    text_vectorizer,\n",
    "    layers.Embedding(n_vocab+2, 96),\n",
    "    layers.RNN(\n",
    "        tfa.rnn.PeepholeLSTMCell(512),\n",
    "        return_sequences=True\n",
    "    ),\n",
    "    layers.RNN(\n",
    "        tfa.rnn.PeepholeLSTMCell(256),\n",
    "        return_sequences=True\n",
    "    ),\n",
    "    layers.Dense(1024, activation='relu'),\n",
    "    layers.Dropout(0.5),\n",
    "    layers.Dense(n_vocab, activation='softmax')\n",
    "])\n",
    "\n",
    "lm_peephole_model.compile(loss='sparse_categorical_crossentropy', optimizer='adam', metrics=['accuracy', PerplexityMetric()])\n",
    "\n",
    "train_ds = train_ds.map(lambda x, y: (x, text_vectorizer(y)))\n",
    "valid_ds = valid_ds.map(lambda x, y: (x, text_vectorizer(y)))\n",
    "\n",
    "lstm_peephole_history = lm_peephole_model.fit(train_ds, validation_data=valid_ds, epochs=50)"
   ]
  },
  {
   "cell_type": "code",
   "execution_count": 21,
   "metadata": {},
   "outputs": [
    {
     "name": "stdout",
     "output_type": "stream",
     "text": [
      "Epoch 1/50\n",
      "49/49 [==============================] - 8s 132ms/step - loss: 5.4110 - accuracy: 0.0314 - perplexity: 254.0058 - val_loss: 5.0910 - val_accuracy: 0.0462 - val_perplexity: 163.7233\n",
      "Epoch 2/50\n",
      "49/49 [==============================] - 6s 122ms/step - loss: 5.0181 - accuracy: 0.0531 - perplexity: 153.5602 - val_loss: 4.6447 - val_accuracy: 0.1032 - val_perplexity: 105.4144\n",
      "Epoch 3/50\n",
      "49/49 [==============================] - 6s 122ms/step - loss: 4.2796 - accuracy: 0.1464 - perplexity: 75.9240 - val_loss: 3.8163 - val_accuracy: 0.2089 - val_perplexity: 46.3932\n",
      "Epoch 4/50\n",
      "49/49 [==============================] - 6s 122ms/step - loss: 3.6909 - accuracy: 0.2219 - perplexity: 41.4837 - val_loss: 3.4062 - val_accuracy: 0.2595 - val_perplexity: 30.8842\n",
      "Epoch 5/50\n",
      "49/49 [==============================] - 6s 123ms/step - loss: 3.3830 - accuracy: 0.2606 - perplexity: 30.3657 - val_loss: 3.1793 - val_accuracy: 0.2873 - val_perplexity: 24.7193\n",
      "Epoch 6/50\n",
      "49/49 [==============================] - 6s 123ms/step - loss: 3.1879 - accuracy: 0.2856 - perplexity: 24.9849 - val_loss: 3.0241 - val_accuracy: 0.3103 - val_perplexity: 21.2155\n",
      "Epoch 7/50\n",
      "49/49 [==============================] - 6s 123ms/step - loss: 3.0450 - accuracy: 0.3067 - perplexity: 21.6693 - val_loss: 2.9076 - val_accuracy: 0.3294 - val_perplexity: 18.9530\n",
      "Epoch 8/50\n",
      "49/49 [==============================] - 6s 124ms/step - loss: 2.9302 - accuracy: 0.3249 - perplexity: 19.3331 - val_loss: 2.8106 - val_accuracy: 0.3460 - val_perplexity: 17.2220\n",
      "Epoch 9/50\n",
      "49/49 [==============================] - 6s 123ms/step - loss: 2.8353 - accuracy: 0.3391 - perplexity: 17.5915 - val_loss: 2.7347 - val_accuracy: 0.3577 - val_perplexity: 15.9933\n",
      "Epoch 10/50\n",
      "49/49 [==============================] - 6s 123ms/step - loss: 2.7540 - accuracy: 0.3521 - perplexity: 16.2117 - val_loss: 2.6698 - val_accuracy: 0.3711 - val_perplexity: 14.9851\n",
      "Epoch 11/50\n",
      "49/49 [==============================] - 6s 123ms/step - loss: 2.6858 - accuracy: 0.3629 - perplexity: 15.1448 - val_loss: 2.6203 - val_accuracy: 0.3776 - val_perplexity: 14.2847\n",
      "Epoch 12/50\n",
      "49/49 [==============================] - 6s 123ms/step - loss: 2.6264 - accuracy: 0.3724 - perplexity: 14.2671 - val_loss: 2.5685 - val_accuracy: 0.3876 - val_perplexity: 13.5585\n",
      "Epoch 13/50\n",
      "49/49 [==============================] - 6s 123ms/step - loss: 2.5736 - accuracy: 0.3801 - perplexity: 13.5296 - val_loss: 2.5329 - val_accuracy: 0.3942 - val_perplexity: 13.0979\n",
      "Epoch 14/50\n",
      "49/49 [==============================] - 6s 123ms/step - loss: 2.5267 - accuracy: 0.3873 - perplexity: 12.9047 - val_loss: 2.5003 - val_accuracy: 0.3992 - val_perplexity: 12.7124\n",
      "Epoch 15/50\n",
      "49/49 [==============================] - 6s 123ms/step - loss: 2.4839 - accuracy: 0.3944 - perplexity: 12.3587 - val_loss: 2.4740 - val_accuracy: 0.4031 - val_perplexity: 12.3991\n",
      "Epoch 16/50\n",
      "49/49 [==============================] - 6s 123ms/step - loss: 2.4453 - accuracy: 0.4002 - perplexity: 11.8802 - val_loss: 2.4450 - val_accuracy: 0.4090 - val_perplexity: 12.0468\n",
      "Epoch 17/50\n",
      "49/49 [==============================] - 6s 124ms/step - loss: 2.4117 - accuracy: 0.4053 - perplexity: 11.4872 - val_loss: 2.4236 - val_accuracy: 0.4130 - val_perplexity: 11.7961\n",
      "Epoch 18/50\n",
      "49/49 [==============================] - 6s 123ms/step - loss: 2.3788 - accuracy: 0.4111 - perplexity: 11.1102 - val_loss: 2.4054 - val_accuracy: 0.4174 - val_perplexity: 11.5893\n",
      "Epoch 19/50\n",
      "49/49 [==============================] - 6s 123ms/step - loss: 2.3504 - accuracy: 0.4155 - perplexity: 10.7925 - val_loss: 2.3878 - val_accuracy: 0.4213 - val_perplexity: 11.3972\n",
      "Epoch 20/50\n",
      "49/49 [==============================] - 6s 123ms/step - loss: 2.3221 - accuracy: 0.4204 - perplexity: 10.4873 - val_loss: 2.3748 - val_accuracy: 0.4231 - val_perplexity: 11.2509\n",
      "Epoch 21/50\n",
      "49/49 [==============================] - 6s 123ms/step - loss: 2.2949 - accuracy: 0.4254 - perplexity: 10.2031 - val_loss: 2.3616 - val_accuracy: 0.4252 - val_perplexity: 11.1250\n",
      "Epoch 22/50\n",
      "49/49 [==============================] - 6s 123ms/step - loss: 2.2714 - accuracy: 0.4287 - perplexity: 9.9608 - val_loss: 2.3553 - val_accuracy: 0.4284 - val_perplexity: 11.0805\n",
      "Epoch 23/50\n",
      "49/49 [==============================] - 6s 123ms/step - loss: 2.2470 - accuracy: 0.4334 - perplexity: 9.7142 - val_loss: 2.3327 - val_accuracy: 0.4311 - val_perplexity: 10.7785\n",
      "Epoch 24/50\n",
      "49/49 [==============================] - 6s 124ms/step - loss: 2.2228 - accuracy: 0.4368 - perplexity: 9.4729 - val_loss: 2.3308 - val_accuracy: 0.4327 - val_perplexity: 10.8112\n",
      "Epoch 25/50\n",
      "49/49 [==============================] - 6s 123ms/step - loss: 2.2020 - accuracy: 0.4408 - perplexity: 9.2772 - val_loss: 2.3236 - val_accuracy: 0.4336 - val_perplexity: 10.7486\n",
      "Epoch 26/50\n",
      "49/49 [==============================] - 6s 123ms/step - loss: 2.1787 - accuracy: 0.4446 - perplexity: 9.0572 - val_loss: 2.3175 - val_accuracy: 0.4355 - val_perplexity: 10.6845\n",
      "Epoch 27/50\n",
      "49/49 [==============================] - 6s 123ms/step - loss: 2.1580 - accuracy: 0.4487 - perplexity: 8.8687 - val_loss: 2.3045 - val_accuracy: 0.4375 - val_perplexity: 10.5196\n",
      "Epoch 28/50\n",
      "49/49 [==============================] - 6s 123ms/step - loss: 2.1378 - accuracy: 0.4523 - perplexity: 8.6900 - val_loss: 2.2993 - val_accuracy: 0.4395 - val_perplexity: 10.4894\n",
      "Epoch 29/50\n",
      "49/49 [==============================] - 6s 123ms/step - loss: 2.1167 - accuracy: 0.4556 - perplexity: 8.5035 - val_loss: 2.2938 - val_accuracy: 0.4402 - val_perplexity: 10.4303\n",
      "Epoch 30/50\n",
      "49/49 [==============================] - 6s 123ms/step - loss: 2.0962 - accuracy: 0.4588 - perplexity: 8.3250 - val_loss: 2.2997 - val_accuracy: 0.4407 - val_perplexity: 10.5366\n",
      "Epoch 31/50\n",
      "49/49 [==============================] - 6s 123ms/step - loss: 2.0758 - accuracy: 0.4629 - perplexity: 8.1548 - val_loss: 2.2947 - val_accuracy: 0.4421 - val_perplexity: 10.4783\n",
      "Epoch 32/50\n",
      "49/49 [==============================] - 6s 123ms/step - loss: 2.0555 - accuracy: 0.4663 - perplexity: 7.9875 - val_loss: 2.2986 - val_accuracy: 0.4421 - val_perplexity: 10.5430\n",
      "Epoch 33/50\n",
      "49/49 [==============================] - 6s 123ms/step - loss: 2.0356 - accuracy: 0.4697 - perplexity: 7.8265 - val_loss: 2.2955 - val_accuracy: 0.4431 - val_perplexity: 10.5244\n",
      "Epoch 34/50\n",
      "49/49 [==============================] - 6s 123ms/step - loss: 2.0148 - accuracy: 0.4733 - perplexity: 7.6612 - val_loss: 2.2957 - val_accuracy: 0.4432 - val_perplexity: 10.5379\n",
      "Epoch 35/50\n",
      "49/49 [==============================] - 6s 123ms/step - loss: 1.9940 - accuracy: 0.4771 - perplexity: 7.5018 - val_loss: 2.3015 - val_accuracy: 0.4440 - val_perplexity: 10.6257\n",
      "Epoch 36/50\n",
      "49/49 [==============================] - 6s 123ms/step - loss: 1.9731 - accuracy: 0.4816 - perplexity: 7.3431 - val_loss: 2.2974 - val_accuracy: 0.4451 - val_perplexity: 10.5700\n",
      "Epoch 37/50\n",
      "49/49 [==============================] - 6s 123ms/step - loss: 1.9537 - accuracy: 0.4848 - perplexity: 7.1970 - val_loss: 2.3036 - val_accuracy: 0.4445 - val_perplexity: 10.6567\n",
      "Epoch 38/50\n",
      "49/49 [==============================] - 6s 124ms/step - loss: 1.9337 - accuracy: 0.4884 - perplexity: 7.0540 - val_loss: 2.3180 - val_accuracy: 0.4445 - val_perplexity: 10.8735\n",
      "Epoch 39/50\n",
      "49/49 [==============================] - 6s 123ms/step - loss: 1.9101 - accuracy: 0.4928 - perplexity: 6.8855 - val_loss: 2.3187 - val_accuracy: 0.4445 - val_perplexity: 10.8824\n",
      "Epoch 40/50\n",
      "49/49 [==============================] - 6s 124ms/step - loss: 1.8901 - accuracy: 0.4971 - perplexity: 6.7478 - val_loss: 2.3189 - val_accuracy: 0.4446 - val_perplexity: 10.8640\n",
      "Epoch 41/50\n",
      "49/49 [==============================] - 6s 124ms/step - loss: 1.8711 - accuracy: 0.5004 - perplexity: 6.6180 - val_loss: 2.3314 - val_accuracy: 0.4451 - val_perplexity: 11.0477\n",
      "Epoch 42/50\n",
      "49/49 [==============================] - 6s 124ms/step - loss: 1.8471 - accuracy: 0.5052 - perplexity: 6.4581 - val_loss: 2.3348 - val_accuracy: 0.4457 - val_perplexity: 11.1074\n",
      "Epoch 43/50\n",
      "49/49 [==============================] - 6s 123ms/step - loss: 1.8255 - accuracy: 0.5094 - perplexity: 6.3173 - val_loss: 2.3533 - val_accuracy: 0.4438 - val_perplexity: 11.3709\n",
      "Epoch 44/50\n"
     ]
    },
    {
     "name": "stdout",
     "output_type": "stream",
     "text": [
      "49/49 [==============================] - 6s 123ms/step - loss: 1.8022 - accuracy: 0.5138 - perplexity: 6.1690 - val_loss: 2.3664 - val_accuracy: 0.4431 - val_perplexity: 11.5471\n",
      "Epoch 45/50\n",
      "49/49 [==============================] - 6s 124ms/step - loss: 1.7818 - accuracy: 0.5182 - perplexity: 6.0414 - val_loss: 2.3787 - val_accuracy: 0.4430 - val_perplexity: 11.7137\n",
      "Epoch 46/50\n",
      "49/49 [==============================] - 6s 124ms/step - loss: 1.7573 - accuracy: 0.5231 - perplexity: 5.8932 - val_loss: 2.3987 - val_accuracy: 0.4422 - val_perplexity: 12.0315\n",
      "Epoch 47/50\n",
      "49/49 [==============================] - 6s 123ms/step - loss: 1.7372 - accuracy: 0.5276 - perplexity: 5.7741 - val_loss: 2.4056 - val_accuracy: 0.4414 - val_perplexity: 12.1241\n",
      "Epoch 48/50\n",
      "49/49 [==============================] - 6s 124ms/step - loss: 1.7151 - accuracy: 0.5314 - perplexity: 5.6454 - val_loss: 2.4405 - val_accuracy: 0.4406 - val_perplexity: 12.6324\n",
      "Epoch 49/50\n",
      "49/49 [==============================] - 6s 123ms/step - loss: 1.6948 - accuracy: 0.5359 - perplexity: 5.5308 - val_loss: 2.4480 - val_accuracy: 0.4406 - val_perplexity: 12.7432\n",
      "Epoch 50/50\n",
      "49/49 [==============================] - 6s 123ms/step - loss: 1.6725 - accuracy: 0.5408 - perplexity: 5.4068 - val_loss: 2.4616 - val_accuracy: 0.4387 - val_perplexity: 12.9632\n"
     ]
    }
   ],
   "source": [
    "import tensorflow.keras.backend as K\n",
    "import tensorflow_addons as tfa\n",
    "import tensorflow.keras.layers as layers\n",
    "import tensorflow.keras.models as models\n",
    "\n",
    "K.clear_session()\n",
    "tf.compat.v1.reset_default_graph()\n",
    "\n",
    "ngram_length = 2\n",
    "batch_size = 128\n",
    "window_size = 128\n",
    "\n",
    "train_ds = generate_tf_dataset(train_filenames, ngram_length, window_size, batch_size, shuffle=True)\n",
    "valid_ds = generate_tf_dataset(valid_filenames, ngram_length, window_size, batch_size)\n",
    "\n",
    "\n",
    "# The vectorization layer that will convert string bigrams to IDs\n",
    "text_vectorizer = tf.keras.layers.TextVectorization(\n",
    "    max_tokens=n_vocab, standardize=None,\n",
    "    split=None, input_shape=(window_size,)\n",
    ")\n",
    "\n",
    "# Train the model on existing data\n",
    "text_vectorizer.adapt(train_ds)\n",
    "\n",
    "lm_gru_model = models.Sequential([\n",
    "    text_vectorizer,\n",
    "    layers.Embedding(n_vocab+2, 96),\n",
    "    layers.GRU(512, return_sequences=True),\n",
    "    layers.GRU(256, return_sequences=True),\n",
    "    layers.Dense(1024, activation='relu'),\n",
    "    layers.Dropout(0.5),\n",
    "    layers.Dense(n_vocab, activation='softmax')\n",
    "])\n",
    "\n",
    "lm_gru_model.compile(loss='sparse_categorical_crossentropy', optimizer='adam', metrics=['accuracy', PerplexityMetric()])\n",
    "\n",
    "train_ds = train_ds.map(lambda x, y: (x, text_vectorizer(y)))\n",
    "valid_ds = valid_ds.map(lambda x, y: (x, text_vectorizer(y)))\n",
    "\n",
    "gru_history = lm_gru_model.fit(train_ds, validation_data=valid_ds, epochs=50)"
   ]
  },
  {
   "cell_type": "markdown",
   "metadata": {},
   "source": [
    "### Running Training, Validation and Generation\n",
    "\n",
    "We traing the LSTM on existing training data, check the validaiton perplexity on an unseen chunk of text and generate a fresh segment of text"
   ]
  },
  {
   "cell_type": "code",
   "execution_count": 35,
   "metadata": {
    "scrolled": true
   },
   "outputs": [
    {
     "data": {
      "text/plain": [
       "Text(0, 0.5, 'Perplexity')"
      ]
     },
     "execution_count": 35,
     "metadata": {},
     "output_type": "execute_result"
    },
    {
     "data": {
      "image/png": "[encoded data removed]",
      "text/plain": [
       "<Figure size 864x432 with 1 Axes>"
      ]
     },
     "metadata": {
      "needs_background": "light"
     },
     "output_type": "display_data"
    }
   ],
   "source": [
    "import matplotlib.pyplot as plt\n",
    "%matplotlib inline\n",
    "\n",
    "# Plots without the Word2vec related results\n",
    "plt.figure(figsize=(12, 6)) \n",
    "k = 5\n",
    "\n",
    "for model_name, history, marker, color in zip(\n",
    "    ['LSTM', 'LSTM (Peephole)', 'GRU'], \n",
    "    [lstm_history, lstm_peephole_history, gru_history],\n",
    "    ['o', '+', 'x'],\n",
    "    ['red', 'green', 'blue']\n",
    "):\n",
    "    \n",
    "    train_perplexity = history.history[\"perplexity\"][k:]\n",
    "    val_perplexity = history.history[\"val_perplexity\"][k:]\n",
    "    \n",
    "    # Plot the training perplexities\n",
    "    plt.plot(np.arange(k,len(train_perplexity)+k), \n",
    "               train_perplexity, marker=marker, markersize=6, linestyle='--' , color=color,\n",
    "               label = model_name)\n",
    "    \n",
    "    plt.plot(np.arange(k, len(val_perplexity)+k), \n",
    "           val_perplexity, marker=marker, markersize=6, color=color,\n",
    "           label = model_name)\n",
    "\n",
    "plt.legend(loc=1,fontsize=16)\n",
    "plt.title('Train/Valid perplexity behavior for various sequential models',fontsize=18)\n",
    "plt.ylabel('Perplexity',fontsize=18)\n"
   ]
  },
  {
   "cell_type": "markdown",
   "metadata": {
    "collapsed": true
   },
   "source": [
    "## LSTM with Beam-Search\n",
    "\n",
    "Here we alter the previously defined prediction related TensorFlow operations to employ beam-search. Beam search is a way of predicting several time steps ahead. Concretely instead of predicting the best prediction we have at a given time step, we get predictions for several time steps and get the sequence of highest joint probability."
   ]
  },
  {
   "cell_type": "code",
   "execution_count": 43,
   "metadata": {},
   "outputs": [],
   "source": [
    "def beam_one_step(model, input_, states): \n",
    "    \"\"\" Perform the model update and output for one step\"\"\"\n",
    "    out = model.predict([input_, *states])\n",
    "    output, new_states = out[0], out[1:]\n",
    "    return output, new_states\n",
    "\n",
    "\n",
    "def beam_search(model, input_, states, beam_depth=5, beam_width=3):\n",
    "    \"\"\" Defines an outer wrapper for the computational function of beam search \"\"\"\n",
    "    \n",
    "    vocabulary = infer_model.get_layer(\"text_vectorization\").get_vocabulary()\n",
    "    index_word = dict(zip(range(len(vocabulary)), vocabulary))\n",
    "\n",
    "    def recursive_fn(input_, states, sequence, log_prob, i):\n",
    "        \"\"\" This function performs actual recursive computation of the long string\"\"\"\n",
    "        \n",
    "        if i == beam_depth:\n",
    "            \"\"\" Base case: Terminate the beam search \"\"\"\n",
    "            results.append((list(sequence), states, np.exp(log_prob)))            \n",
    "            return sequence, log_prob, states\n",
    "        else:\n",
    "            \"\"\" Recursive case: Keep computing the output using the previous outputs\"\"\"\n",
    "            output, new_states = beam_one_step(model, input_, states)\n",
    "            \n",
    "            # Get the top beam_widht candidates for the given depth\n",
    "            top_probs, top_ids = tf.nn.top_k(output, k=beam_width)\n",
    "            top_probs, top_ids = top_probs.numpy().ravel(), top_ids.numpy().ravel()\n",
    "            \n",
    "            # For each candidate compute the next prediction\n",
    "            for p, wid in zip(top_probs, top_ids):                \n",
    "                new_log_prob = log_prob + np.log(p)\n",
    "                \n",
    "                # we are going to penalize joint probability whenever the same symbol is repeating\n",
    "                if len(sequence)>0 and wid == sequence[-1]:\n",
    "                    new_log_prob = new_log_prob + np.log(1e-1)\n",
    "                    \n",
    "                sequence.append(wid)                \n",
    "                _ = recursive_fn(np.array([[index_word[wid]]]), new_states, sequence, new_log_prob, i+1)                                         \n",
    "                sequence.pop()\n",
    "        \n",
    "    \n",
    "    results = []\n",
    "    sequence = []\n",
    "    log_prob = 0.0\n",
    "    recursive_fn(input_, states, sequence, log_prob, 0)    \n",
    "\n",
    "    results = sorted(results, key=lambda x: x[2], reverse=True)\n",
    "\n",
    "    return results"
   ]
  },
  {
   "cell_type": "code",
   "execution_count": 48,
   "metadata": {},
   "outputs": [
    {
     "name": "stdout",
     "output_type": "stream",
     "text": [
      "Making 58 predictions from input\n",
      "..................................................\n",
      "\n",
      "============================================================\n",
      "Final text: \n",
      "When adam and eve were driven out of paradise, they were compelled to build a house for themselves on barren groundr, said the king's daughter went out of the king's son to the king's daughter, and then the king's daughter went into the world, and asked the hedgehog's daughter that the king was about to the forest, and there was on the window, and said, \"if you will give her that you have been and said, i will give him the king's daughter, but when she went to the king's sister, and when she was still before the window, and said to himself, and when he said to her father, and that he had nothing and said to hi\n"
     ]
    }
   ],
   "source": [
    "text = [\"When adam and eve were driven out of paradise, they were compelled to build a house for themselves on barren ground\"]\n",
    "\n",
    "vocabulary = infer_model.get_layer(\"text_vectorization\").get_vocabulary()\n",
    "index_word = dict(zip(range(len(vocabulary)), vocabulary))\n",
    "\n",
    "\n",
    "seq = [text[0][i:i+2] for i in range(0, len(text[0]), 2)]\n",
    "\n",
    "# build up model state using the given string\n",
    "print(\"Making {} predictions from input\".format(len(seq)))\n",
    "\n",
    "\n",
    "# Reset the state of the model initially\n",
    "lm_model.reset_states()\n",
    "\n",
    "# Definin the initial state as all zeros\n",
    "state_c = np.zeros(shape=(1,512))\n",
    "state_h = np.zeros(shape=(1,512))\n",
    "state_c_1 = np.zeros(shape=(1,256))\n",
    "state_h_1 = np.zeros(shape=(1,256))\n",
    "\n",
    "states = [state_c, state_h, state_c_1, state_h_1]\n",
    "\n",
    "# Recursively update the model by assining new state to state\n",
    "for c in seq:    \n",
    "    out, state_c, state_h, state_c_1, state_h_1 = infer_model.predict(\n",
    "        [np.array([[c]]), state_c, state_h, state_c_1, state_h_1]\n",
    ")\n",
    "\n",
    "# Get final prediction after feeding the input string\n",
    "wid = int(np.argmax(out[0],axis=-1).ravel())\n",
    "word = index_word[wid]\n",
    "text.append(word)\n",
    "\n",
    "# Define first input to generate text recursively from\n",
    "x = np.array([[word]])\n",
    "\n",
    "# Predict for 100 time steps\n",
    "for i in range(50):    \n",
    "    print('.', end='')\n",
    "    \n",
    "    # Get the results from beam search\n",
    "    result = beam_search(infer_model, x, states, 5, 5)\n",
    "    \n",
    "    # Get one of the top 10 results based on their likelihood\n",
    "    n_probs = np.array([p for _,_,p in result[:10]])\n",
    "    p_j = np.random.choice(list(range(n_probs.size)), p=n_probs/n_probs.sum())                    \n",
    "    best_beam_ids, states, _ = result[p_j]\n",
    "    x = np.array([[index_word[best_beam_ids[-1]]]])\n",
    "            \n",
    "    text.extend([index_word[w] for w in best_beam_ids])    \n",
    "\n",
    "print('\\n')\n",
    "print('='*60)\n",
    "print(\"Final text: \")\n",
    "print(''.join(text))"
   ]
  },
  {
   "cell_type": "code",
   "execution_count": null,
   "metadata": {
    "collapsed": true
   },
   "outputs": [],
   "source": []
  }
 ],
 "metadata": {
  "kernelspec": {
   "display_name": "Python 3 (ipykernel)",
   "language": "python",
   "name": "python3"
  },
  "language_info": {
   "codemirror_mode": {
    "name": "ipython",
    "version": 3
   },
   "file_extension": ".py",
   "mimetype": "text/x-python",
   "name": "python",
   "nbconvert_exporter": "python",
   "pygments_lexer": "ipython3",
   "version": "3.7.11"
  }
 },
 "nbformat": 4,
 "nbformat_minor": 2
}
