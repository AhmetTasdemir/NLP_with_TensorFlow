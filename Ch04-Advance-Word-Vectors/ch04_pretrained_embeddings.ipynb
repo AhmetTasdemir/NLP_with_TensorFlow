{
 "cells": [
  {
   "cell_type": "code",
   "execution_count": 1,
   "id": "6647d3eb",
   "metadata": {},
   "outputs": [
    {
     "name": "stdout",
     "output_type": "stream",
     "text": [
      "env: TF_FORCE_GPU_ALLOW_GROWTH=true\n"
     ]
    }
   ],
   "source": [
    "# These are all the modules we'll be using later. Make sure you can import them\n",
    "# before proceeding further.\n",
    "import numpy as np\n",
    "import os\n",
    "import time\n",
    "import random\n",
    "import tensorflow as tf\n",
    "\n",
    "%env TF_FORCE_GPU_ALLOW_GROWTH=true"
   ]
  },
  {
   "cell_type": "markdown",
   "id": "08272665",
   "metadata": {},
   "source": [
    "## Using pre-trained ELMo Model\n",
    "\n",
    "### Downloading the ELMo Model from TFHub"
   ]
  },
  {
   "cell_type": "code",
   "execution_count": 2,
   "id": "a7c5a1d3",
   "metadata": {},
   "outputs": [],
   "source": [
    "import tensorflow_hub as hub\n",
    "import tensorflow.keras.backend as K\n",
    "\n",
    "K.clear_session()\n",
    "elmo_layer = hub.KerasLayer(\"https://tfhub.dev/google/elmo/3\", signature=\"tokens\",signature_outputs_as_dict=True)"
   ]
  },
  {
   "cell_type": "markdown",
   "id": "38e46bcf",
   "metadata": {},
   "source": [
    "### Formatting the input for ELMo"
   ]
  },
  {
   "cell_type": "code",
   "execution_count": 3,
   "id": "c0f0cdef",
   "metadata": {},
   "outputs": [
    {
     "name": "stdout",
     "output_type": "stream",
     "text": [
      "{'tokens': <tf.Tensor: shape=(2, 6), dtype=string, numpy=\n",
      "array([[b'the', b'cat', b'sat', b'on', b'the', b'mat'],\n",
      "       [b'the', b'mat', b'sat', b'', b'', b'']], dtype=object)>, 'sequence_len': <tf.Tensor: shape=(2,), dtype=int32, numpy=array([6, 3], dtype=int32)>}\n"
     ]
    }
   ],
   "source": [
    "def format_text_for_elmo(texts, lower=True, split=\" \"):\n",
    "    \n",
    "    token_inputs = []\n",
    "    token_lengths = []\n",
    "    \n",
    "    max_len = 0\n",
    "    for text in texts:        \n",
    "        tokens = tf.keras.preprocessing.text.text_to_word_sequence(text, lower=lower, split=split)\n",
    "        \n",
    "        token_inputs.append(tokens)\n",
    "        token_lengths.append(len(tokens))           \n",
    "        \n",
    "        if len(tokens)>max_len:\n",
    "            max_len = len(tokens)\n",
    "    \n",
    "    token_inputs = [inp+[\"\"]*(max_len-len(inp)) for inp in token_inputs]\n",
    "    \n",
    "    return {\n",
    "        \"tokens\": tf.constant(token_inputs), \n",
    "        \"sequence_len\": tf.constant(token_lengths)\n",
    "    }\n",
    "\n",
    "\n",
    "print(format_text_for_elmo([\"the cat sat on the mat\", \"the mat sat\"]))"
   ]
  },
  {
   "cell_type": "code",
   "execution_count": 5,
   "id": "45986d0d",
   "metadata": {},
   "outputs": [
    {
     "name": "stdout",
     "output_type": "stream",
     "text": [
      "Tensor under key=sequence_len is a (5,) shaped Tensor\n",
      "Tensor under key=word_emb is a (5, 6, 512) shaped Tensor\n",
      "Tensor under key=lstm_outputs2 is a (5, 6, 1024) shaped Tensor\n",
      "Tensor under key=elmo is a (5, 6, 1024) shaped Tensor\n",
      "Tensor under key=default is a (5, 1024) shaped Tensor\n",
      "Tensor under key=lstm_outputs1 is a (5, 6, 1024) shaped Tensor\n"
     ]
    }
   ],
   "source": [
    "# 001.txt - 005.txt in bbc/business\n",
    "elmo_inputs = format_text_for_elmo([\n",
    "    \"Ad sales boost Time Warner profit\",\n",
    "    \"Dollar gains on Greenspan speech\",\n",
    "    \"Yukos unit buyer faces loan claim\",\n",
    "    \"High fuel prices hit BA's profits\",\n",
    "    \"Pernod takeover talk lifts Domecq\"\n",
    "])\n",
    "\n",
    "\n",
    "elmo_result = elmo_layer(elmo_inputs)\n",
    "\n",
    "for k,v in elmo_result.items():\n",
    "    \n",
    "    print(\"Tensor under key={} is a {} shaped Tensor\".format(k, v.shape))"
   ]
  },
  {
   "cell_type": "markdown",
   "id": "e5eb329b",
   "metadata": {},
   "source": [
    "## Using pre-trained FastText"
   ]
  },
  {
   "cell_type": "code",
   "execution_count": null,
   "id": "801a2bd8",
   "metadata": {},
   "outputs": [],
   "source": []
  }
 ],
 "metadata": {
  "kernelspec": {
   "display_name": "Python 3",
   "language": "python",
   "name": "python3"
  },
  "language_info": {
   "codemirror_mode": {
    "name": "ipython",
    "version": 3
   },
   "file_extension": ".py",
   "mimetype": "text/x-python",
   "name": "python",
   "nbconvert_exporter": "python",
   "pygments_lexer": "ipython3",
   "version": "3.6.13"
  }
 },
 "nbformat": 4,
 "nbformat_minor": 5
}
