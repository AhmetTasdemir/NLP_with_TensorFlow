{
 "cells": [
  {
   "cell_type": "code",
   "execution_count": 8,
   "id": "66cf2460",
   "metadata": {},
   "outputs": [],
   "source": [
    "# These are all the modules we'll be using later. Make sure you can import them\n",
    "# before proceeding further.\n",
    "%matplotlib inline\n",
    "from six.moves.urllib.request import urlretrieve\n",
    "import zipfile\n",
    "import numpy as np\n",
    "import pandas as pd\n",
    "import os\n",
    "import time\n",
    "import random\n",
    "import tensorflow as tf\n",
    "from matplotlib import pylab"
   ]
  },
  {
   "cell_type": "markdown",
   "id": "975ea2c9",
   "metadata": {},
   "source": [
    "## Downloading the data\n",
    "\n",
    "This code downloads a [BBC dataset](hhttp://mlg.ucd.ie/files/datasets/bbc-fulltext.zip) consisting of news articles published by BBC. "
   ]
  },
  {
   "cell_type": "code",
   "execution_count": 2,
   "id": "4a066561",
   "metadata": {},
   "outputs": [
    {
     "name": "stdout",
     "output_type": "stream",
     "text": [
      "File already exists\n",
      "bbc-fulltext.zip has already been extracted\n"
     ]
    }
   ],
   "source": [
    "url = 'http://mlg.ucd.ie/files/datasets/bbc-fulltext.zip'\n",
    "\n",
    "\n",
    "def download_data(url, data_dir):\n",
    "    \"\"\"Download a file if not present, and make sure it's the right size.\"\"\"\n",
    "    \n",
    "    # Create the data directory if not exist\n",
    "    os.makedirs(data_dir, exist_ok=True)\n",
    "\n",
    "    file_path = os.path.join(data_dir, 'bbc-fulltext.zip')\n",
    "    \n",
    "    # If file doesnt exist, download\n",
    "    if not os.path.exists(file_path):\n",
    "        print('Downloading file...')\n",
    "        filename, _ = urlretrieve(url, file_path)\n",
    "    else:\n",
    "        print(\"File already exists\")\n",
    "  \n",
    "    extract_path = os.path.join(data_dir, 'bbc')\n",
    "    \n",
    "    # If data has not been extracted already, extract data\n",
    "    if not os.path.exists(extract_path):        \n",
    "        with zipfile.ZipFile(os.path.join(data_dir, 'bbc-fulltext.zip'), 'r') as zipf:\n",
    "            zipf.extractall(data_dir)\n",
    "    else:\n",
    "        print(\"bbc-fulltext.zip has already been extracted\")\n",
    "    \n",
    "download_data(url, 'data')"
   ]
  },
  {
   "cell_type": "markdown",
   "id": "0544e94b",
   "metadata": {},
   "source": [
    "### Read Data\n",
    "\n",
    "Here we read all the files and keep them as a list of strings, where each string is a single article"
   ]
  },
  {
   "cell_type": "code",
   "execution_count": 6,
   "id": "bc7494c5",
   "metadata": {},
   "outputs": [
    {
     "name": "stdout",
     "output_type": "stream",
     "text": [
      "Reading files\n",
      "................................................................................................................................................................................................................................................................................................................................................................................................................................................................................................................................................................................................................................................................................................................................................................................................................................................................................................................................................................................................................................................................................................................................................................................................................................................................................................................................................................................................................................................................................................................................................................................................................................................................................................................................................................................................................................................................................................................................................................................................................................................................................................................................................................................................................................................................................................................. 361.txt\n",
      "Detected 2225 stories\n",
      "865163 words found in the total news set\n",
      "Example words (start):  Windows worm travels with Tetris  Users are being \n",
      "Example words (end):  is years at Stradey as \"the best time of my life.\"\n"
     ]
    }
   ],
   "source": [
    "def read_data(data_dir):\n",
    "    \n",
    "    # This will contain the full list of stories\n",
    "    news_stories = []    \n",
    "    filenames = []\n",
    "    print(\"Reading files\")\n",
    "    \n",
    "    i = 0 # Just used for printing progress\n",
    "    for root, dirs, files in os.walk(data_dir):\n",
    "        \n",
    "        for fi, f in enumerate(files):\n",
    "            \n",
    "            # We don't read the readme file\n",
    "            if 'README' in f:\n",
    "                continue\n",
    "            \n",
    "            # Printing progress\n",
    "            i += 1\n",
    "            print(\".\"*i, f, end='\\r')\n",
    "            \n",
    "            # Open the file\n",
    "            with open(os.path.join(root, f), encoding='latin-1') as text_file:\n",
    "                \n",
    "                story = []\n",
    "                # Read all the lines\n",
    "                for row in text_file:\n",
    "                                        \n",
    "                    story.append(row.strip())\n",
    "                    \n",
    "                # Create a single string with all the rows in the doc\n",
    "                story = ' '.join(story)                        \n",
    "                # Add that to the list\n",
    "                news_stories.append(story)  \n",
    "                filenames.append(os.path.join(root, f))\n",
    "                \n",
    "        print('', end='\\r')\n",
    "        \n",
    "    print(\"\\nDetected {} stories\".format(len(news_stories)))\n",
    "    return news_stories, filenames\n",
    "                \n",
    "  \n",
    "news_stories, filenames = read_data(os.path.join('data', 'bbc'))\n",
    "\n",
    "# Printing some stats and sample data\n",
    "print('{} words found in the total news set'.format(sum([len(story.split(' ')) for story in news_stories])))\n",
    "print('Example words (start): ',news_stories[0][:50])\n",
    "print('Example words (end): ',news_stories[-1][-50:])"
   ]
  },
  {
   "cell_type": "markdown",
   "id": "12298545",
   "metadata": {},
   "source": [
    "## Build a Tokenizer\n",
    "\n",
    "Here we build a tokenizer, that performs simple preprocessing like,\n",
    "\n",
    "* Converting letters to lower case\n",
    "* Removing punctuation\n",
    "\n",
    "and tokenize the strings based on a defined separator. Then each token is converted to an Integer ID, as computers understand numbers, not strings. In the background, the tokenizer builds a word to index dictionary, that defines a unique ID for each word in the vocabulary."
   ]
  },
  {
   "cell_type": "code",
   "execution_count": 5,
   "id": "d3405d1e",
   "metadata": {},
   "outputs": [
    {
     "name": "stdout",
     "output_type": "stream",
     "text": [
      "Data fitted on the tokenizer\n"
     ]
    }
   ],
   "source": [
    "from tensorflow.keras.preprocessing.text import Tokenizer\n",
    "\n",
    "n_vocab = 15000 + 1\n",
    "tokenizer = Tokenizer(\n",
    "    num_words=n_vocab - 1,\n",
    "    filters='!\"#$%&()*+,-./:;<=>?@[\\\\]^_`{|}~\\t\\n',\n",
    "    lower=True, split=' ', oov_token=''\n",
    ")\n",
    "\n",
    "tokenizer.fit_on_texts(news_stories)\n",
    "print(\"Data fitted on the tokenizer\")"
   ]
  },
  {
   "cell_type": "markdown",
   "id": "bd6cc22a",
   "metadata": {},
   "source": [
    "## Generate labels for data\n",
    "\n",
    "We generate a label using the filenames to train a classifier"
   ]
  },
  {
   "cell_type": "code",
   "execution_count": 18,
   "id": "43c25400",
   "metadata": {},
   "outputs": [
    {
     "data": {
      "text/plain": [
       "data/bbc/tech/272.txt    4\n",
       "data/bbc/tech/127.txt    4\n",
       "data/bbc/tech/370.txt    4\n",
       "data/bbc/tech/329.txt    4\n",
       "data/bbc/tech/240.txt    4\n",
       "Name: 2, dtype: int64"
      ]
     },
     "execution_count": 18,
     "metadata": {},
     "output_type": "execute_result"
    }
   ],
   "source": [
    "labels_ser = pd.Series(filenames, index=filenames).str.split(os.path.sep, expand=True).iloc[:, -2].map(\n",
    "    {'business': 0, 'entertainment': 1, 'politics': 2, 'sport': 3, 'tech': 4}\n",
    ")\n",
    "labels_ser.head()"
   ]
  },
  {
   "cell_type": "markdown",
   "id": "edec0dcc",
   "metadata": {},
   "source": [
    "## Create train/test split\n",
    "\n",
    "Here we use 67% data as training and 33% as testing data."
   ]
  },
  {
   "cell_type": "code",
   "execution_count": 20,
   "id": "1876e67e",
   "metadata": {},
   "outputs": [],
   "source": [
    "from sklearn.model_selection import train_test_split\n",
    "\n",
    "train_labels, test_labels = train_test_split(labels_ser, test_size=0.33)"
   ]
  },
  {
   "cell_type": "markdown",
   "id": "e457b5d1",
   "metadata": {},
   "source": [
    "## Generating document embeddings\n",
    "\n",
    "Here we write a function to generate document embeddings from the previous embedding arrays we saved to the disk for `skip-gram`, `CBOW` and `GloVe` algorithms."
   ]
  },
  {
   "cell_type": "code",
   "execution_count": 25,
   "id": "0c0967e6",
   "metadata": {},
   "outputs": [],
   "source": [
    "def generate_document_embeddings(texts, filenames, tokenizer, embeddings):\n",
    "    \n",
    "    \"\"\" This function takes a sequence of tokens and compute the mean embedding vector \\\n",
    "    from the word vectors of all the tokens in the document \"\"\"\n",
    "    \n",
    "    doc_embedding_df = [] # Contains document embeddings for all the articles\n",
    "    assert isinstance(embeddings, pd.DataFrame), 'embeddings must be a pd.DataFrame'\n",
    "    \n",
    "    # This is a trick we use to quickly get the text preprocessed by the tokenizer\n",
    "    # We first convert text to a sequences, and then back to text, which will give the\n",
    "    # preprocessed tokens\n",
    "    sequences = tokenizer.texts_to_sequences(texts)    \n",
    "    preprocessed_texts = tokenizer.sequences_to_texts(sequences)\n",
    "    \n",
    "    # For each text,\n",
    "    for text in preprocessed_texts:\n",
    "        # Make sure we had matches for tokens in the embedding matrx\n",
    "        assert embeddings.loc[text.split(' '), :].shape[0]>0\n",
    "        # Compute mean of all the embeddings associated with words\n",
    "        mean_embedding = embeddings.loc[text.split(' '), :].mean(axis=0)\n",
    "        # Add that to list\n",
    "        doc_embedding_df.append(mean_embedding)\n",
    "        \n",
    "    # Save the doc embeddings in a dataframe\n",
    "    doc_embedding_df = pd.DataFrame(doc_embedding_df, index=filenames)\n",
    "    \n",
    "    return doc_embedding_df\n"
   ]
  },
  {
   "cell_type": "markdown",
   "id": "4088f799",
   "metadata": {},
   "source": [
    "## Compute skip-gram based document embeddings"
   ]
  },
  {
   "cell_type": "code",
   "execution_count": null,
   "id": "8508fcff",
   "metadata": {},
   "outputs": [],
   "source": [
    "    # Load the skip-gram embeddings context and target\n",
    "skipgram_context_embeddings = pd.read_pickle(\n",
    "    os.path.join('../Ch03-Word-Vectors/skipgram_embeddings', 'context_embedding.pkl')\n",
    ")\n",
    "skipgram_target_embeddings = pd.read_pickle(\n",
    "    os.path.join('../Ch03-Word-Vectors/skipgram_embeddings', 'target_embedding.pkl')\n",
    ")\n",
    "\n",
    "# Compute the mean of context & target embeddings for better embeddings\n",
    "skipgram_embeddings = (skipgram_context_embeddings + skipgram_target_embeddings)/2\n",
    "# Generate the document embeddings with the average context target embeddings\n",
    "skipgram_doc_embeddings = generate_document_embeddings(news_stories, filenames, tokenizer, skipgram_embeddings)"
   ]
  },
  {
   "cell_type": "markdown",
   "id": "c29543a4",
   "metadata": {},
   "source": [
    "## Train a document classifier\n",
    "\n",
    "Here we train a simple document classifier, using document embeddings as inputs and labels we generated as targets. To get a consistent measure, we will run several trials."
   ]
  },
  {
   "cell_type": "code",
   "execution_count": 50,
   "id": "25b3ba1f",
   "metadata": {},
   "outputs": [
    {
     "name": "stderr",
     "output_type": "stream",
     "text": [
      "/home/thushv89/anaconda3/envs/packt.nlp.tf2/lib/python3.6/site-packages/sklearn/neural_network/_multilayer_perceptron.py:571: ConvergenceWarning: Stochastic Optimizer: Maximum iterations (200) reached and the optimization hasn't converged yet.\n",
      "  % self.max_iter, ConvergenceWarning)\n",
      "/home/thushv89/anaconda3/envs/packt.nlp.tf2/lib/python3.6/site-packages/sklearn/neural_network/_multilayer_perceptron.py:571: ConvergenceWarning: Stochastic Optimizer: Maximum iterations (200) reached and the optimization hasn't converged yet.\n",
      "  % self.max_iter, ConvergenceWarning)\n",
      "/home/thushv89/anaconda3/envs/packt.nlp.tf2/lib/python3.6/site-packages/sklearn/neural_network/_multilayer_perceptron.py:571: ConvergenceWarning: Stochastic Optimizer: Maximum iterations (200) reached and the optimization hasn't converged yet.\n",
      "  % self.max_iter, ConvergenceWarning)\n",
      "/home/thushv89/anaconda3/envs/packt.nlp.tf2/lib/python3.6/site-packages/sklearn/neural_network/_multilayer_perceptron.py:571: ConvergenceWarning: Stochastic Optimizer: Maximum iterations (200) reached and the optimization hasn't converged yet.\n",
      "  % self.max_iter, ConvergenceWarning)\n"
     ]
    },
    {
     "name": "stdout",
     "output_type": "stream",
     "text": [
      "[0.9319727891156463, 0.9292517006802721, 0.9374149659863945, 0.9360544217687075, 0.9346938775510204]\n"
     ]
    },
    {
     "name": "stderr",
     "output_type": "stream",
     "text": [
      "/home/thushv89/anaconda3/envs/packt.nlp.tf2/lib/python3.6/site-packages/sklearn/neural_network/_multilayer_perceptron.py:571: ConvergenceWarning: Stochastic Optimizer: Maximum iterations (200) reached and the optimization hasn't converged yet.\n",
      "  % self.max_iter, ConvergenceWarning)\n"
     ]
    }
   ],
   "source": [
    "from sklearn.neural_network import MLPClassifier\n",
    "from sklearn.metrics import accuracy_score\n",
    "\n",
    "def get_classification_accuracy(doc_embeddings, train_labels, test_labels, n_trials):\n",
    "    \"\"\" Train a simple MLP model for several trials and measure test accuracy\"\"\"\n",
    "    \n",
    "    accuracies = [] # Store accuracies across trials\n",
    "    \n",
    "    # For each trial\n",
    "    for trial in range(n_trials):\n",
    "        # Create a MLP classifier\n",
    "        mlp_classifier = MLPClassifier()\n",
    "        \n",
    "        # Fit the model on training data\n",
    "        mlp_classifier.fit(doc_embeddings.loc[train_labels.index], train_labels)\n",
    "        \n",
    "        # Get the predictions for test data\n",
    "        predictions = mlp_classifier.predict(doc_embeddings.loc[test_labels.index])\n",
    "    \n",
    "        # Compute accuracy\n",
    "        accuracies.append(accuracy_score(predictions, test_labels))\n",
    "    \n",
    "    return accuracies\n",
    "\n",
    "# Get classification accuracy for skip-gram models\n",
    "skipgram_accuracies = get_classification_accuracy(\n",
    "    skipgram_doc_embeddings, train_labels, test_labels, n_trials=5\n",
    ")\n",
    "\n",
    "print(\"Skip-gram accuracies: {}\".format(skipgram_accuracies))"
   ]
  },
  {
   "cell_type": "markdown",
   "id": "b3aec63b",
   "metadata": {},
   "source": [
    "## Train a classifier on CBOW based document embeddings"
   ]
  },
  {
   "cell_type": "code",
   "execution_count": 26,
   "id": "1eeb9bd3",
   "metadata": {},
   "outputs": [],
   "source": [
    "cbow_context_embeddings = pd.read_pickle(\n",
    "    os.path.join('../Ch03-Word-Vectors/cbow_embeddings', 'context_embedding.pkl')\n",
    ")\n",
    "cbow_target_embeddings = pd.read_pickle(\n",
    "    os.path.join('../Ch03-Word-Vectors/cbow_embeddings', 'target_embedding.pkl')\n",
    ")\n",
    "\n",
    "cbow_embeddings = (cbow_context_embeddings + cbow_target_embeddings)/2\n",
    "cbow_doc_embeddings = generate_document_embeddings(news_stories, filenames, tokenizer, cbow_embeddings)"
   ]
  },
  {
   "cell_type": "code",
   "execution_count": 51,
   "id": "bf065086",
   "metadata": {},
   "outputs": [
    {
     "name": "stderr",
     "output_type": "stream",
     "text": [
      "/home/thushv89/anaconda3/envs/packt.nlp.tf2/lib/python3.6/site-packages/sklearn/neural_network/_multilayer_perceptron.py:571: ConvergenceWarning: Stochastic Optimizer: Maximum iterations (200) reached and the optimization hasn't converged yet.\n",
      "  % self.max_iter, ConvergenceWarning)\n",
      "/home/thushv89/anaconda3/envs/packt.nlp.tf2/lib/python3.6/site-packages/sklearn/neural_network/_multilayer_perceptron.py:571: ConvergenceWarning: Stochastic Optimizer: Maximum iterations (200) reached and the optimization hasn't converged yet.\n",
      "  % self.max_iter, ConvergenceWarning)\n",
      "/home/thushv89/anaconda3/envs/packt.nlp.tf2/lib/python3.6/site-packages/sklearn/neural_network/_multilayer_perceptron.py:571: ConvergenceWarning: Stochastic Optimizer: Maximum iterations (200) reached and the optimization hasn't converged yet.\n",
      "  % self.max_iter, ConvergenceWarning)\n",
      "/home/thushv89/anaconda3/envs/packt.nlp.tf2/lib/python3.6/site-packages/sklearn/neural_network/_multilayer_perceptron.py:571: ConvergenceWarning: Stochastic Optimizer: Maximum iterations (200) reached and the optimization hasn't converged yet.\n",
      "  % self.max_iter, ConvergenceWarning)\n"
     ]
    },
    {
     "name": "stdout",
     "output_type": "stream",
     "text": [
      "[0.9360544217687075, 0.9292517006802721, 0.9319727891156463, 0.9346938775510204, 0.9333333333333333]\n"
     ]
    },
    {
     "name": "stderr",
     "output_type": "stream",
     "text": [
      "/home/thushv89/anaconda3/envs/packt.nlp.tf2/lib/python3.6/site-packages/sklearn/neural_network/_multilayer_perceptron.py:571: ConvergenceWarning: Stochastic Optimizer: Maximum iterations (200) reached and the optimization hasn't converged yet.\n",
      "  % self.max_iter, ConvergenceWarning)\n"
     ]
    }
   ],
   "source": [
    "cbow_accuracies = get_classification_accuracy(\n",
    "    cbow_doc_embeddings, train_labels, test_labels, n_trials=5\n",
    ")\n",
    "print(cbow_accuracies)"
   ]
  },
  {
   "cell_type": "markdown",
   "id": "14000a4d",
   "metadata": {},
   "source": [
    "## Train a classifier on GloVe embeddings"
   ]
  },
  {
   "cell_type": "code",
   "execution_count": 52,
   "id": "e383884c",
   "metadata": {},
   "outputs": [],
   "source": [
    "glove_context_embeddings = pd.read_pickle(\n",
    "    os.path.join('glove_embeddings', 'context_embedding_and_bias.pkl')\n",
    ")\n",
    "glove_target_embeddings = pd.read_pickle(\n",
    "    os.path.join('glove_embeddings', 'target_embedding_and_bias.pkl')\n",
    ")\n",
    "\n",
    "glove_embeddings = (glove_context_embeddings.iloc[:, :-1] + glove_target_embeddings.iloc[:, :-1])/2\n",
    "glove_doc_embeddings = generate_document_embeddings(news_stories, filenames, tokenizer, glove_embeddings)"
   ]
  },
  {
   "cell_type": "code",
   "execution_count": 53,
   "id": "584e58b5",
   "metadata": {},
   "outputs": [
    {
     "name": "stderr",
     "output_type": "stream",
     "text": [
      "/home/thushv89/anaconda3/envs/packt.nlp.tf2/lib/python3.6/site-packages/sklearn/neural_network/_multilayer_perceptron.py:571: ConvergenceWarning: Stochastic Optimizer: Maximum iterations (200) reached and the optimization hasn't converged yet.\n",
      "  % self.max_iter, ConvergenceWarning)\n",
      "/home/thushv89/anaconda3/envs/packt.nlp.tf2/lib/python3.6/site-packages/sklearn/neural_network/_multilayer_perceptron.py:571: ConvergenceWarning: Stochastic Optimizer: Maximum iterations (200) reached and the optimization hasn't converged yet.\n",
      "  % self.max_iter, ConvergenceWarning)\n",
      "/home/thushv89/anaconda3/envs/packt.nlp.tf2/lib/python3.6/site-packages/sklearn/neural_network/_multilayer_perceptron.py:571: ConvergenceWarning: Stochastic Optimizer: Maximum iterations (200) reached and the optimization hasn't converged yet.\n",
      "  % self.max_iter, ConvergenceWarning)\n",
      "/home/thushv89/anaconda3/envs/packt.nlp.tf2/lib/python3.6/site-packages/sklearn/neural_network/_multilayer_perceptron.py:571: ConvergenceWarning: Stochastic Optimizer: Maximum iterations (200) reached and the optimization hasn't converged yet.\n",
      "  % self.max_iter, ConvergenceWarning)\n"
     ]
    },
    {
     "name": "stdout",
     "output_type": "stream",
     "text": [
      "[0.8136054421768707, 0.8081632653061225, 0.819047619047619, 0.8149659863945579, 0.8095238095238095]\n"
     ]
    },
    {
     "name": "stderr",
     "output_type": "stream",
     "text": [
      "/home/thushv89/anaconda3/envs/packt.nlp.tf2/lib/python3.6/site-packages/sklearn/neural_network/_multilayer_perceptron.py:571: ConvergenceWarning: Stochastic Optimizer: Maximum iterations (200) reached and the optimization hasn't converged yet.\n",
      "  % self.max_iter, ConvergenceWarning)\n"
     ]
    }
   ],
   "source": [
    "glove_accuracies = get_classification_accuracy(\n",
    "    glove_doc_embeddings, train_labels, test_labels, n_trials=5\n",
    ")\n",
    "print(glove_accuracies)"
   ]
  },
  {
   "cell_type": "markdown",
   "id": "193f8174",
   "metadata": {},
   "source": [
    "## Train a classifier on ELMo document embeddings"
   ]
  },
  {
   "cell_type": "code",
   "execution_count": 54,
   "id": "1973783f",
   "metadata": {},
   "outputs": [],
   "source": [
    "elmo_doc_embeddings = pd.read_pickle(\n",
    "    os.path.join('elmo_embeddings', 'elmo_embeddings.pkl')\n",
    ")"
   ]
  },
  {
   "cell_type": "code",
   "execution_count": 55,
   "id": "e02751f3",
   "metadata": {},
   "outputs": [
    {
     "name": "stdout",
     "output_type": "stream",
     "text": [
      "[0.9823129251700681, 0.9850340136054422, 0.9823129251700681, 0.9809523809523809, 0.9782312925170068]\n"
     ]
    }
   ],
   "source": [
    "elmo_accuracies = get_classification_accuracy(\n",
    "    elmo_doc_embeddings, train_labels, test_labels, n_trials=5\n",
    ")\n",
    "print(elmo_accuracies)"
   ]
  },
  {
   "cell_type": "markdown",
   "id": "e06df915",
   "metadata": {},
   "source": [
    "## Plot the accuracies of different models\n",
    "\n",
    "Here we plot the accuracies from 5 trials, for different algorithms as box plots."
   ]
  },
  {
   "cell_type": "code",
   "execution_count": 56,
   "id": "7c3f2383",
   "metadata": {},
   "outputs": [
    {
     "data": {
      "text/html": [
       "<div>\n",
       "<style scoped>\n",
       "    .dataframe tbody tr th:only-of-type {\n",
       "        vertical-align: middle;\n",
       "    }\n",
       "\n",
       "    .dataframe tbody tr th {\n",
       "        vertical-align: top;\n",
       "    }\n",
       "\n",
       "    .dataframe thead th {\n",
       "        text-align: right;\n",
       "    }\n",
       "</style>\n",
       "<table border=\"1\" class=\"dataframe\">\n",
       "  <thead>\n",
       "    <tr style=\"text-align: right;\">\n",
       "      <th></th>\n",
       "      <th>Skipgram</th>\n",
       "      <th>CBOW</th>\n",
       "      <th>GloVe</th>\n",
       "      <th>ELMo</th>\n",
       "    </tr>\n",
       "  </thead>\n",
       "  <tbody>\n",
       "    <tr>\n",
       "      <th>0</th>\n",
       "      <td>0.931973</td>\n",
       "      <td>0.936054</td>\n",
       "      <td>0.813605</td>\n",
       "      <td>0.982313</td>\n",
       "    </tr>\n",
       "    <tr>\n",
       "      <th>1</th>\n",
       "      <td>0.929252</td>\n",
       "      <td>0.929252</td>\n",
       "      <td>0.808163</td>\n",
       "      <td>0.985034</td>\n",
       "    </tr>\n",
       "    <tr>\n",
       "      <th>2</th>\n",
       "      <td>0.937415</td>\n",
       "      <td>0.931973</td>\n",
       "      <td>0.819048</td>\n",
       "      <td>0.982313</td>\n",
       "    </tr>\n",
       "    <tr>\n",
       "      <th>3</th>\n",
       "      <td>0.936054</td>\n",
       "      <td>0.934694</td>\n",
       "      <td>0.814966</td>\n",
       "      <td>0.980952</td>\n",
       "    </tr>\n",
       "    <tr>\n",
       "      <th>4</th>\n",
       "      <td>0.934694</td>\n",
       "      <td>0.933333</td>\n",
       "      <td>0.809524</td>\n",
       "      <td>0.978231</td>\n",
       "    </tr>\n",
       "  </tbody>\n",
       "</table>\n",
       "</div>"
      ],
      "text/plain": [
       "   Skipgram      CBOW     GloVe      ELMo\n",
       "0  0.931973  0.936054  0.813605  0.982313\n",
       "1  0.929252  0.929252  0.808163  0.985034\n",
       "2  0.937415  0.931973  0.819048  0.982313\n",
       "3  0.936054  0.934694  0.814966  0.980952\n",
       "4  0.934694  0.933333  0.809524  0.978231"
      ]
     },
     "execution_count": 56,
     "metadata": {},
     "output_type": "execute_result"
    }
   ],
   "source": [
    "accuracy_df = pd.DataFrame(\n",
    "    np.array([skipgram_accuracies, cbow_accuracies, glove_accuracies, elmo_accuracies]).T,\n",
    "    columns = ['Skipgram', 'CBOW', \"GloVe\", \"ELMo\"]\n",
    ")\n",
    "\n",
    "accuracy_df.head()"
   ]
  },
  {
   "cell_type": "code",
   "execution_count": 59,
   "id": "6499c821",
   "metadata": {},
   "outputs": [
    {
     "data": {
      "image/png": "[encoded data removed]",
      "text/plain": [
       "<Figure size 720x576 with 1 Axes>"
      ]
     },
     "metadata": {
      "needs_background": "light"
     },
     "output_type": "display_data"
    }
   ],
   "source": [
    "boxplot = accuracy_df.boxplot(figsize=(10,8))"
   ]
  },
  {
   "cell_type": "code",
   "execution_count": null,
   "id": "aea8a1cf",
   "metadata": {},
   "outputs": [],
   "source": []
  }
 ],
 "metadata": {
  "kernelspec": {
   "display_name": "Python 3",
   "language": "python",
   "name": "python3"
  },
  "language_info": {
   "codemirror_mode": {
    "name": "ipython",
    "version": 3
   },
   "file_extension": ".py",
   "mimetype": "text/x-python",
   "name": "python",
   "nbconvert_exporter": "python",
   "pygments_lexer": "ipython3",
   "version": "3.6.13"
  }
 },
 "nbformat": 4,
 "nbformat_minor": 5
}
