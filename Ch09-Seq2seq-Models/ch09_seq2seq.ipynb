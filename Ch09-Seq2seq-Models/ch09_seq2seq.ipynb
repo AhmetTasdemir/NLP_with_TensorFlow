{
 "cells": [
  {
   "cell_type": "markdown",
   "metadata": {},
   "source": [
    "# Neural Machine Translation: German to English\n",
    "\n",
    "Here we implement a neural machine translator using standard TensorFlow operations."
   ]
  },
  {
   "cell_type": "code",
   "execution_count": 1,
   "metadata": {},
   "outputs": [
    {
     "name": "stdout",
     "output_type": "stream",
     "text": [
      "TensorFlow version: 2.7.0\n"
     ]
    }
   ],
   "source": [
    "import os\n",
    "import random\n",
    "import tensorflow as tf\n",
    "import numpy as np\n",
    "import pandas as pd\n",
    "import time\n",
    "import json\n",
    "\n",
    "def fix_random_seed(seed):\n",
    "    \"\"\" Setting the random seed of various libraries \"\"\"\n",
    "    try:\n",
    "        np.random.seed(seed)\n",
    "    except NameError:\n",
    "        print(\"Warning: Numpy is not imported. Setting the seed for Numpy failed.\")\n",
    "    try:\n",
    "        tf.random.set_seed(seed)\n",
    "    except NameError:\n",
    "        print(\"Warning: TensorFlow is not imported. Setting the seed for TensorFlow failed.\")\n",
    "    try:\n",
    "        random.seed(seed)\n",
    "    except NameError:\n",
    "        print(\"Warning: random module is not imported. Setting the seed for random failed.\")\n",
    " \n",
    "# Fixing the random seed\n",
    "random_seed=4321\n",
    "fix_random_seed(random_seed)\n",
    "\n",
    "print(\"TensorFlow version: {}\".format(tf.__version__))"
   ]
  },
  {
   "cell_type": "markdown",
   "metadata": {},
   "source": [
    "## Downloading the Data \n",
    "\n",
    "First, download the data from this [page](https://nlp.stanford.edu/projects/nmt/). Place these files in a sub-folder called `data` located as `Ch09-Seq2seq-models/data`  folder. The required files are:\n",
    "\n",
    "* File containing German sentences: [`train.de`](https://nlp.stanford.edu/projects/nmt/data/wmt14.en-de/train.de)\n",
    "* File containing English sentences: [`train.en`](https://nlp.stanford.edu/projects/nmt/data/wmt14.en-de/train.en)\n",
    "* File containing German vocabulary: [`vocab.50K.de`](https://nlp.stanford.edu/projects/nmt/data/wmt14.en-de/vocab.50K.de)\n",
    "* File containing English vocabulary: [`vocab.50K.en`](https://nlp.stanford.edu/projects/nmt/data/wmt14.en-de/vocab.50K.en)"
   ]
  },
  {
   "cell_type": "markdown",
   "metadata": {},
   "source": [
    "## Loading the data\n",
    "\n",
    "Let's now load the sentences in `train.de` and `train.en`. Each line in these files contains a German and an English sentence respectively."
   ]
  },
  {
   "cell_type": "code",
   "execution_count": 2,
   "metadata": {},
   "outputs": [],
   "source": [
    "n_sentences = 200000\n",
    "\n",
    "# Loading English sentences\n",
    "original_en_sentences = []\n",
    "with open(os.path.join('data', 'train.en'), 'r', encoding='utf-8') as en_file:\n",
    "    for i,row in enumerate(en_file):\n",
    "        if i < 50: continue # or i==22183 or i==27781 or i==81827: continue\n",
    "        if i >= n_sentences: break\n",
    "        original_en_sentences.append(row.strip().split(\" \"))\n",
    "        \n",
    "# Loading German sentences\n",
    "original_de_sentences = []\n",
    "with open(os.path.join('data', 'train.de'), 'r', encoding='utf-8') as de_file:\n",
    "    for i, row in enumerate(de_file):\n",
    "        if i < 50: continue # or i==22183 or i==27781 or i==81827: continue\n",
    "        if i >= n_sentences: break\n",
    "        original_de_sentences.append(row.strip().split(\" \"))\n",
    "        \n"
   ]
  },
  {
   "cell_type": "code",
   "execution_count": 3,
   "metadata": {},
   "outputs": [
    {
     "name": "stdout",
     "output_type": "stream",
     "text": [
      "Today , QuarkXPress ® 8 has tighter integration with Photoshop ® and Illustrator ® than ever before , and through standards like HTML and CSS , QuarkXPress users can publish across media both independently and alongside Adobe ® Creative Suite ® applications like Adobe Flash ® ( SWF ) and Adobe Dreamweaver ® . -> Heute verstehen sich QuarkXPress ® 8 , Photoshop ® und Illustrator ® besser als jemals zuvor . Dank HTML und CSS ­ können Anwender von QuarkXPress inzwischen alle Medien bedienen , und das unabhängig von Anwendungen der Adobe ® Creative Suite ® wie Adobe Flash ® ( SWF ) und Adobe Dreamweaver ® .\n",
      "\n",
      "Here , you ’ ll find out how Creative Suite users can get the best possible interaction with QuarkXPress . -> Hier erfahren Sie , wie Sie Creative Suite 2 und Creative Suite 3 am besten zusammen mit QuarkXPress nutzen können .\n",
      "\n",
      "You ’ ll be surprised how easy Quark has made it to unlock the full potential of all your design software . -> Sie werden überrascht sein , wie einfach sich mit Quark das volle Potenzial Ihrer Design ##AT##-##AT## Software erschließen lässt .\n",
      "\n",
      "QuarkXPress 8 is considered by many to have the best integration with Photoshop ’ s PSD file format of any layout tool available today . -> Häufig wird die Meinung vertreten , dass QuarkXPress 8 von allen heute verfügbaren Layout ##AT##-##AT## Programmen die beste Integration mit Photoshop über das PSD ##AT##-##AT## Dateiformat bietet .\n",
      "\n",
      "In this section we ’ ll explain when you should use the PSD format for your images and how to get the most out of them . -> In diesem Abschnitt erläutern wir , wann Sie für Ihre Bilder das PSD ##AT##-##AT## Format verwenden sollten und wie Sie es für Ihre Bilder optimal nutzen .\n",
      "\n",
      "For example , you may have multiple layers in your PSD with different product shots , which will vary from publication to publication . -> Angenommen Sie haben verschiedene Ebenen in Ihrer PSD ##AT##-##AT## Datei mit verschiedenen Darstellungen eines Produkts , die je nach Verwendungszweck ausgewählt werden .\n",
      "\n",
      "If you use PSD , you can switch those layers on or off in QuarkXPress without having to save a separate TIFF for each publication . -> Wenn Sie mit PSD arbeiten , können Sie diese Ebenen in QuarkXPress ein- oder ausschalten , ohne für jede Veröffentlichung eine eigene TIFF ##AT##-##AT## Datei generieren zu müssen .\n",
      "\n",
      "Another question that might tip you in favor of PSD is , &quot; Do I need to use a spot color with this image ? -> Eine andere mögliche Frage für die Entscheidung zwischen PSD und TIFF ist : „ Muss ich für dieses Bild eine Volltonfarbe verwenden ?\n",
      "\n",
      "&quot; Using spot colors in most image formats is often complicated . -> &quot; In den meisten Bildformaten sind Volltonfarben oft problematisch .\n",
      "\n",
      "However , because of the way QuarkXPress supports PSD channels , it ’ s simpler and more flexible . -> Da QuarkXPress jedoch PSD ##AT##-##AT## Kanäle unterstützt , geht es mit PSD einfacher und flexibler .\n",
      "\n"
     ]
    }
   ],
   "source": [
    "# Print a few sentences\n",
    "for de_s, en_s in zip(original_en_sentences[:10], original_de_sentences[:10]):\n",
    "    print(f\"{' '.join(de_s)} -> {' '.join(en_s)}\\n\")"
   ]
  },
  {
   "cell_type": "markdown",
   "metadata": {},
   "source": [
    "## Adding special tokens\n",
    "\n",
    "We add special tokens `<s>` and `</s>` to denote the beginning and end of sequences respectively. They play a special role when it comes to generating translations with the trained model as discussed in the book."
   ]
  },
  {
   "cell_type": "code",
   "execution_count": 5,
   "metadata": {},
   "outputs": [],
   "source": [
    "en_sentences = [[\"<s>\"]+sent+[\"</s>\"] for sent in original_en_sentences]\n",
    "de_sentences = [[\"<s>\"]+sent+[\"</s>\"] for sent in original_de_sentences]"
   ]
  },
  {
   "cell_type": "code",
   "execution_count": 6,
   "metadata": {},
   "outputs": [
    {
     "name": "stdout",
     "output_type": "stream",
     "text": [
      "<s> Today , QuarkXPress ® 8 has tighter integration with Photoshop ® and Illustrator ® than ever before , and through standards like HTML and CSS , QuarkXPress users can publish across media both independently and alongside Adobe ® Creative Suite ® applications like Adobe Flash ® ( SWF ) and Adobe Dreamweaver ® . </s> -> <s> Heute verstehen sich QuarkXPress ® 8 , Photoshop ® und Illustrator ® besser als jemals zuvor . Dank HTML und CSS ­ können Anwender von QuarkXPress inzwischen alle Medien bedienen , und das unabhängig von Anwendungen der Adobe ® Creative Suite ® wie Adobe Flash ® ( SWF ) und Adobe Dreamweaver ® . </s>\n",
      "\n",
      "<s> Here , you ’ ll find out how Creative Suite users can get the best possible interaction with QuarkXPress . </s> -> <s> Hier erfahren Sie , wie Sie Creative Suite 2 und Creative Suite 3 am besten zusammen mit QuarkXPress nutzen können . </s>\n",
      "\n",
      "<s> You ’ ll be surprised how easy Quark has made it to unlock the full potential of all your design software . </s> -> <s> Sie werden überrascht sein , wie einfach sich mit Quark das volle Potenzial Ihrer Design ##AT##-##AT## Software erschließen lässt . </s>\n",
      "\n",
      "<s> QuarkXPress 8 is considered by many to have the best integration with Photoshop ’ s PSD file format of any layout tool available today . </s> -> <s> Häufig wird die Meinung vertreten , dass QuarkXPress 8 von allen heute verfügbaren Layout ##AT##-##AT## Programmen die beste Integration mit Photoshop über das PSD ##AT##-##AT## Dateiformat bietet . </s>\n",
      "\n",
      "<s> In this section we ’ ll explain when you should use the PSD format for your images and how to get the most out of them . </s> -> <s> In diesem Abschnitt erläutern wir , wann Sie für Ihre Bilder das PSD ##AT##-##AT## Format verwenden sollten und wie Sie es für Ihre Bilder optimal nutzen . </s>\n",
      "\n"
     ]
    }
   ],
   "source": [
    "# Print a few sentences\n",
    "for de_s, en_s in zip(en_sentences[:5], de_sentences[:5]):\n",
    "    print(f\"{' '.join(de_s)} -> {' '.join(en_s)}\\n\")"
   ]
  },
  {
   "cell_type": "markdown",
   "metadata": {},
   "source": [
    "## Train, validation and test split\n",
    "\n",
    "Here we split the full dataset as follows.\n",
    "* Train - 80%\n",
    "* Validation - 10%\n",
    "* Test - 10%"
   ]
  },
  {
   "cell_type": "code",
   "execution_count": 7,
   "metadata": {},
   "outputs": [
    {
     "name": "stdout",
     "output_type": "stream",
     "text": [
      "Train size: 159960\n",
      "Valid size: 19995\n",
      "Test size: 19995\n"
     ]
    },
    {
     "name": "stderr",
     "output_type": "stream",
     "text": [
      "C:\\Anaconda3\\envs\\packt.nlp.tf2\\lib\\site-packages\\ipykernel_launcher.py:4: VisibleDeprecationWarning: Creating an ndarray from ragged nested sequences (which is a list-or-tuple of lists-or-tuples-or ndarrays with different lengths or shapes) is deprecated. If you meant to do this, you must specify 'dtype=object' when creating the ndarray.\n",
      "  after removing the cwd from sys.path.\n"
     ]
    }
   ],
   "source": [
    "from sklearn.model_selection import train_test_split\n",
    "\n",
    "train_en_sentences, valid_test_en_sentences, train_de_sentences, valid_test_de_sentences = train_test_split(\n",
    "    np.array(en_sentences), np.array(de_sentences), test_size=0.2\n",
    ")\n",
    "\n",
    "valid_en_sentences, test_en_sentences, valid_de_sentences, test_de_sentences = train_test_split(\n",
    "    valid_test_en_sentences, valid_test_de_sentences, test_size=0.5)\n",
    "\n",
    "print(\"Train size: {}\".format(len(train_en_sentences)))\n",
    "print(\"Valid size: {}\".format(len(valid_en_sentences)))\n",
    "print(\"Test size: {}\".format(len(test_en_sentences)))\n"
   ]
  },
  {
   "cell_type": "markdown",
   "metadata": {},
   "source": [
    "## Analyse lengths of sequences\n",
    "\n",
    "We will find out the 80% percentile of the sequence lengths for each language. We will then use this as a threshold to,\n",
    "* Truncate sequences longer than that\n",
    "* Add a special token (`<pad>`) to bring shorter sentences to that length"
   ]
  },
  {
   "cell_type": "code",
   "execution_count": 8,
   "metadata": {},
   "outputs": [
    {
     "name": "stdout",
     "output_type": "stream",
     "text": [
      "Sequence lengths (English)\n",
      "count    159960.000000\n",
      "mean         26.874569\n",
      "std          13.529752\n",
      "min           8.000000\n",
      "20%          16.000000\n",
      "50%          24.000000\n",
      "80%          36.000000\n",
      "max         102.000000\n",
      "dtype: float64\n",
      "Sequence lengths (German)\n",
      "count    159960.000000\n",
      "mean         24.648650\n",
      "std          12.273613\n",
      "min           8.000000\n",
      "20%          15.000000\n",
      "50%          22.000000\n",
      "80%          33.000000\n",
      "max         102.000000\n",
      "dtype: float64\n"
     ]
    }
   ],
   "source": [
    "print(\"Sequence lengths (English)\")\n",
    "print(pd.Series(train_en_sentences).str.len().describe(percentiles=[0.2, 0.5, 0.8]))\n",
    "\n",
    "print(\"Sequence lengths (German)\")\n",
    "print(pd.Series(train_de_sentences).str.len().describe(percentiles=[0.2, 0.5, 0.8]))"
   ]
  },
  {
   "cell_type": "code",
   "execution_count": 9,
   "metadata": {},
   "outputs": [],
   "source": [
    "n_en_seq_length = 36\n",
    "n_de_seq_length = 33"
   ]
  },
  {
   "cell_type": "markdown",
   "metadata": {},
   "source": [
    "## Padding sentences to a fixed length"
   ]
  },
  {
   "cell_type": "code",
   "execution_count": 11,
   "metadata": {},
   "outputs": [],
   "source": [
    "from tensorflow.keras.preprocessing.sequence import pad_sequences\n",
    "\n",
    "pad_token = '<pad>'\n",
    "\n",
    "train_en_sentences_padded = pad_sequences(train_en_sentences, maxlen=n_en_seq_length, value=pad_token, dtype=object, truncating='post', padding='pre')\n",
    "valid_en_sentences_padded = pad_sequences(valid_en_sentences, maxlen=n_en_seq_length, value=pad_token, dtype=object, truncating='post', padding='pre')\n",
    "test_en_sentences_padded = pad_sequences(test_en_sentences, maxlen=n_en_seq_length, value=pad_token, dtype=object, truncating='post', padding='pre')\n",
    "\n",
    "train_de_sentences_padded = pad_sequences(train_de_sentences, maxlen=n_de_seq_length, value=pad_token, dtype=object, truncating='post', padding='post')\n",
    "valid_de_sentences_padded = pad_sequences(valid_de_sentences, maxlen=n_de_seq_length, value=pad_token, dtype=object, truncating='post', padding='post')\n",
    "test_de_sentences_padded = pad_sequences(test_de_sentences, maxlen=n_de_seq_length, value=pad_token, dtype=object, truncating='post', padding='post')\n",
    "\n",
    "\n",
    "print(\"Some validation sentences ...\")\n",
    "for en_sent, de_sent in zip(valid_en_sentences_padded[:3], valid_de_sentences_padded[:3]):\n",
    "    en_sent_str = ' '.join(en_sent)\n",
    "    de_sent_str = ' '.join(de_sent)\n",
    "    print(f\"{en_sent_str} -> {de_sent_str}\")\n",
    "\n",
    "print(\"Some test sentences ...\")\n",
    "for en_sent, de_sent in zip(test_en_sentences_padded[:3], test_de_sentences_padded[:3]):\n",
    "    en_sent_str = ' '.join(en_sent)\n",
    "    de_sent_str = ' '.join(de_sent)\n",
    "    print(f\"{en_sent_str} -> {de_sent_str}\")"
   ]
  },
  {
   "cell_type": "markdown",
   "metadata": {},
   "source": [
    "## Loading Vocabulary\n",
    "\n",
    "First we build the vocabulary dictionaries for both the source (German) and target (English) languages. The vocabularies are found in the `vocab.50K.de` (German) and `vocab.50K.en` files."
   ]
  },
  {
   "cell_type": "code",
   "execution_count": 10,
   "metadata": {},
   "outputs": [],
   "source": [
    "n_vocab = 25000 + 1\n",
    "\n",
    "en_vocabulary = []\n",
    "with open(os.path.join('data', 'vocab.50K.en'), 'r', encoding='utf-8') as en_file:\n",
    "    for ri, row in enumerate(en_file):\n",
    "        if ri  >= n_vocab: break\n",
    "            \n",
    "        en_vocabulary.append(row.strip())\n",
    "        \n",
    "\n",
    "de_vocabulary = []\n",
    "with open(os.path.join('data', 'vocab.50K.de'), 'r', encoding='utf-8') as de_file:\n",
    "    for ri, row in enumerate(de_file):\n",
    "        if ri >= n_vocab: break\n",
    "            \n",
    "        de_vocabulary.append(row.strip())\n",
    "        \n",
    "en_unk_token = en_vocabulary.pop(0)\n",
    "de_unk_token = de_vocabulary.pop(0)"
   ]
  },
  {
   "cell_type": "markdown",
   "metadata": {},
   "source": [
    "## String lookup layer: Converting tokens to IDs\n",
    "\n",
    "Here we define a `StringLookup` layer for each language, which will convert string tokens to numerical IDs"
   ]
  },
  {
   "cell_type": "code",
   "execution_count": 13,
   "metadata": {},
   "outputs": [],
   "source": [
    "en_lookup_layer = tf.keras.layers.StringLookup(\n",
    "    oov_token=en_unk_token, vocabulary=en_vocabulary, mask_token=pad_token, pad_to_max_tokens=False\n",
    ")\n",
    "\n",
    "de_lookup_layer = tf.keras.layers.StringLookup(\n",
    "    oov_token=de_unk_token, vocabulary=de_vocabulary, mask_token=pad_token, pad_to_max_tokens=False\n",
    ")"
   ]
  },
  {
   "cell_type": "code",
   "execution_count": 14,
   "metadata": {},
   "outputs": [
    {
     "name": "stdout",
     "output_type": "stream",
     "text": [
      "tf.Tensor(\n",
      "[ 4304 10519  6386     4     1   179     4  1840     5 19429  2315  7705\n",
      "   224     6], shape=(14,), dtype=int64)\n",
      "['<pad>', '<unk>', '<s>', '</s>', 'the', ',', '.', 'of', 'and', 'to']\n"
     ]
    }
   ],
   "source": [
    "wid_sample = en_lookup_layer(\n",
    "    \"iron cement protects the ingot against the hot , abrasive steel casting process .\".split(\" \")\n",
    ")\n",
    "print(f\"Word IDs: {wid_sample}\")\n",
    "print(f\"Sample vocabulary: {en_lookup_layer.get_vocabulary()[:10]}\")"
   ]
  },
  {
   "cell_type": "markdown",
   "metadata": {},
   "source": [
    "## Defining the model\n",
    "\n",
    "Here we define the model. We'll be focusing on the following primary components.\n",
    "* Encoder - Convert an English token sequence to a context vect\n",
    "* Decoder - Consumes the context vector and generate predictions\n",
    "* Decoder Attention - Allows the decoder to look at any encoder state in order to learn about the source sentence\n",
    "\n",
    "### Defining the Attention Mechanism\n",
    "\n",
    "We will define the attention mechanism as a class below. We'll be using Bahdanau Attention."
   ]
  },
  {
   "cell_type": "code",
   "execution_count": 15,
   "metadata": {},
   "outputs": [],
   "source": [
    "class BahdanauAttention(tf.keras.layers.Layer):\n",
    "    def __init__(self, units):\n",
    "        super().__init__()\n",
    "        # Weights to compute Bahdanau attention\n",
    "        self.Wa = tf.keras.layers.Dense(units, use_bias=False)\n",
    "        self.Ua = tf.keras.layers.Dense(units, use_bias=False)\n",
    "\n",
    "        self.attention = tf.keras.layers.AdditiveAttention(use_scale=True)\n",
    "\n",
    "    def call(self, query, key, value, mask, return_attention_scores=False):\n",
    "\n",
    "        # Compute `Wa.ht`.\n",
    "        wa_query = self.Wa(query)\n",
    "\n",
    "        # Compute `Ua.hs`.\n",
    "        ua_key = self.Ua(key)\n",
    "\n",
    "        # Compute masks\n",
    "        query_mask = tf.ones(tf.shape(query)[:-1], dtype=bool)\n",
    "        value_mask = mask\n",
    "\n",
    "        # Compute the attention\n",
    "        context_vector, attention_weights = self.attention(\n",
    "            inputs = [wa_query, value, ua_key],\n",
    "            mask=[query_mask, value_mask, value_mask],\n",
    "            return_attention_scores = True,\n",
    "        )\n",
    "        \n",
    "        if not return_attention_scores:\n",
    "            return context_vector\n",
    "        else:\n",
    "            return context_vector, attention_weights"
   ]
  },
  {
   "cell_type": "markdown",
   "metadata": {},
   "source": [
    "### Defining the full model\n",
    "\n",
    "Here we define the full model end to end. It consists for the encoder, the decoder and the attention mechanism."
   ]
  },
  {
   "cell_type": "code",
   "execution_count": 16,
   "metadata": {},
   "outputs": [
    {
     "name": "stdout",
     "output_type": "stream",
     "text": [
      "Model: \"model_1\"\n",
      "__________________________________________________________________________________________________\n",
      " Layer (type)                   Output Shape         Param #     Connected to                     \n",
      "==================================================================================================\n",
      " input_1 (InputLayer)           [(None, 36)]         0           []                               \n",
      "                                                                                                  \n",
      " input_2 (InputLayer)           [(None, 32)]         0           []                               \n",
      "                                                                                                  \n",
      " string_lookup (StringLookup)   (None, 36)           0           ['input_1[0][0]']                \n",
      "                                                                                                  \n",
      " string_lookup_1 (StringLookup)  (None, 32)          0           ['input_2[0][0]']                \n",
      "                                                                                                  \n",
      " embedding (Embedding)          (None, 36, 128)      3200256     ['string_lookup[0][0]']          \n",
      "                                                                                                  \n",
      " embedding_1 (Embedding)        (None, 32, 128)      3200256     ['string_lookup_1[0][0]']        \n",
      "                                                                                                  \n",
      " gru (GRU)                      [(None, 36, 256),    296448      ['embedding[0][0]']              \n",
      "                                 (None, 256)]                                                     \n",
      "                                                                                                  \n",
      " gru_1 (GRU)                    (None, 32, 256)      296448      ['embedding_1[0][0]',            \n",
      "                                                                  'gru[0][1]']                    \n",
      "                                                                                                  \n",
      " tf.__operators__.ne (TFOpLambd  (None, 36)          0           ['string_lookup[0][0]']          \n",
      " a)                                                                                               \n",
      "                                                                                                  \n",
      " bahdanau_attention (BahdanauAt  ((None, 32, 256),   131328      ['gru_1[0][0]',                  \n",
      " tention)                        (None, 32, 36))                  'gru[0][0]',                    \n",
      "                                                                  'tf.__operators__.ne[0][0]',    \n",
      "                                                                  'gru[0][0]']                    \n",
      "                                                                                                  \n",
      " concatenate (Concatenate)      (None, 32, 512)      0           ['bahdanau_attention[0][0]',     \n",
      "                                                                  'gru_1[0][0]']                  \n",
      "                                                                                                  \n",
      " dense_2 (Dense)                (None, 32, 25002)    12826026    ['concatenate[0][0]']            \n",
      "                                                                                                  \n",
      "==================================================================================================\n",
      "Total params: 19,950,762\n",
      "Trainable params: 19,950,762\n",
      "Non-trainable params: 0\n",
      "__________________________________________________________________________________________________\n"
     ]
    }
   ],
   "source": [
    "import tensorflow.keras.backend as K\n",
    "K.clear_session()\n",
    "\n",
    "# Defining the encoder layers\n",
    "encoder_input = tf.keras.layers.Input(shape=(n_en_seq_length,), dtype=tf.string)\n",
    "# Converting tokens to IDs\n",
    "encoder_wid_out = en_lookup_layer(encoder_input)\n",
    "\n",
    "# Embedding layer and lookup\n",
    "encoder_emb_out = tf.keras.layers.Embedding(len(en_lookup_layer.get_vocabulary()), 128, mask_zero=True)(encoder_wid_out)\n",
    "\n",
    "# Encoder GRU layer\n",
    "encoder_gru_out, encoder_gru_last_state = tf.keras.layers.GRU(256, return_sequences=True, return_state=True)(encoder_emb_out)\n",
    "\n",
    "# Defining the encoder model: in - encoder_input / out - output of the GRU layer\n",
    "encoder = tf.keras.models.Model(inputs=encoder_input, outputs=encoder_gru_out)\n",
    "\n",
    "# Defining the decoder layers \n",
    "decoder_input = tf.keras.layers.Input(shape=(n_de_seq_length-1,), dtype=tf.string)\n",
    "# Converting tokens to IDs (Decoder)\n",
    "decoder_wid_out = de_lookup_layer(decoder_input)\n",
    "\n",
    "# Embedding layer and lookup (decoder)\n",
    "full_de_vocab_size = len(de_lookup_layer.get_vocabulary())\n",
    "decoder_emb_out = tf.keras.layers.Embedding(full_de_vocab_size, 128, mask_zero=True)(decoder_wid_out)\n",
    "decoder_gru_out = tf.keras.layers.GRU(256, return_sequences=True)(decoder_emb_out, initial_state=encoder_gru_last_state)\n",
    "\n",
    "# The attention mechanism (inputs: [q, v, k])\n",
    "decoder_attn_out, attn_weights = BahdanauAttention(256)(\n",
    "    query=decoder_gru_out, key=encoder_gru_out, value=encoder_gru_out,\n",
    "    mask=(encoder_wid_out != 0),\n",
    "    return_attention_scores=True\n",
    ")\n",
    "\n",
    "# Concatenate GRU output and the attention output\n",
    "context_and_rnn_output = tf.keras.layers.Concatenate(axis=-1)([decoder_attn_out, decoder_gru_out])\n",
    "\n",
    "# Final prediction layer (size of the vocabulary)\n",
    "decoder_out = tf.keras.layers.Dense(full_de_vocab_size, activation='softmax')(context_and_rnn_output)\n",
    "\n",
    "# Final seq2seq model\n",
    "seq2seq_model = tf.keras.models.Model(inputs=[encoder.inputs, decoder_input], outputs=decoder_out)\n",
    "\n",
    "# We will use this model later to visualize attention patterns\n",
    "attention_visualizer = tf.keras.models.Model(inputs=[encoder.inputs, decoder_input], outputs=[attn_weights, decoder_out])\n",
    "\n",
    "# Compiling the model with a loss and an optimizer\n",
    "seq2seq_model.compile(loss='sparse_categorical_crossentropy', optimizer='adam', metrics='accuracy')\n",
    "\n",
    "# Print model summary\n",
    "seq2seq_model.summary()"
   ]
  },
  {
   "cell_type": "markdown",
   "metadata": {},
   "source": [
    "## Computing BLEU score\n",
    "\n",
    "BLEU score measures the quality/accuracy of translations produced by the model. BLEU score looks at `n`-grams of tokens produced by the decoder to measure how \"close\" the predicted translation is to the actual ground truth sequence."
   ]
  },
  {
   "cell_type": "code",
   "execution_count": 18,
   "metadata": {},
   "outputs": [],
   "source": [
    "from tensorflow.keras.layers.experimental.preprocessing import StringLookup\n",
    "from bleu import compute_bleu\n",
    "\n",
    "class BLEUMetric(object):\n",
    "    \n",
    "    def __init__(self, vocabulary, name='perplexity', **kwargs):\n",
    "      \"\"\" Computes the BLEU score (Metric for machine translation) \"\"\"\n",
    "      super().__init__()\n",
    "      self.vocab = vocabulary\n",
    "      self.id_to_token_layer = StringLookup(vocabulary=self.vocab, invert=True)\n",
    "    \n",
    "    def calculate_bleu_from_predictions(self, real, pred):\n",
    "        \"\"\" Calculate the BLEU score for targets and predictions \"\"\"\n",
    "        \n",
    "        # Get the predicted token IDs\n",
    "        pred_argmax = tf.argmax(pred, axis=-1)  \n",
    "        \n",
    "        # Convert token IDs to words using the vocabulary and the StringLookup\n",
    "        pred_tokens = self.id_to_token_layer(pred_argmax)\n",
    "        real_tokens = self.id_to_token_layer(real)\n",
    "        \n",
    "        def clean_text(tokens):\n",
    "            \n",
    "            \"\"\" Clean padding and <s>/</s> tokens to only keep meaningful words \"\"\"\n",
    "            \n",
    "            # 3. Strip the string of any extra white spaces\n",
    "            translations_in_bytes = tf.strings.strip(\n",
    "                        # 2. Replace everything after the eos token with blank\n",
    "                        tf.strings.regex_replace(\n",
    "                            # 1. Join all the tokens to one string in each sequence\n",
    "                            tf.strings.join(\n",
    "                                tf.transpose(tokens), separator=' '\n",
    "                            ),\n",
    "                        \"<\\/s>.*\", \"\"),\n",
    "                   )\n",
    "            \n",
    "            # Decode the byte stream to a string\n",
    "            translations = np.char.decode(\n",
    "                translations_in_bytes.numpy().astype(np.bytes_), encoding='utf-8'\n",
    "            )\n",
    "            \n",
    "            # If the string is empty, add a [UNK] token\n",
    "            # Otherwise get a Division by zero error\n",
    "            translations = [sent if len(sent)>0 else en_unk_token for sent in translations ]\n",
    "            \n",
    "            # Split the sequences to individual tokens \n",
    "            translations = np.char.split(translations).tolist()\n",
    "            \n",
    "            return translations\n",
    "        \n",
    "        # Get the clean versions of the predictions and real seuqences\n",
    "        pred_tokens = clean_text(pred_tokens)\n",
    "        # We have to wrap each real sequence in a list to make use of a function to compute bleu\n",
    "        real_tokens = [[token_seq] for token_seq in clean_text(real_tokens)]\n",
    "\n",
    "        # The compute_bleu method accpets the translations and references in the following format\n",
    "        # tranlation - list of list of tokens\n",
    "        # references - list of list of list of tokens\n",
    "        bleu, precisions, bp, ratio, translation_length, reference_length = compute_bleu(real_tokens, pred_tokens, smooth=False)\n",
    "\n",
    "        return bleu"
   ]
  },
  {
   "cell_type": "markdown",
   "metadata": {},
   "source": [
    "### Computing BLEU example"
   ]
  },
  {
   "cell_type": "code",
   "execution_count": 19,
   "metadata": {},
   "outputs": [
    {
     "name": "stdout",
     "output_type": "stream",
     "text": [
      "BLEU score with longer correctly predicte phrases: 0.7598356856515925\n",
      "BLEU score without longer correctly predicte phrases: 0.537284965911771\n"
     ]
    }
   ],
   "source": [
    "translation = [[de_unk_token, de_unk_token, 'mÃssen', 'wir', 'in', 'erfahrung', 'bringen', 'wo', 'sie', 'wohnen']]\n",
    "reference = [[['als', 'mÃssen', 'mÃssen', 'wir', 'in', 'erfahrung', 'bringen', 'wo', 'sie', 'wohnen']]]\n",
    "\n",
    "bleu1, _, _, _, _, _ = compute_bleu(reference, translation)\n",
    "\n",
    "translation = [[de_unk_token, 'einmal', 'mÃssen', en_unk_token, 'in', 'erfahrung', 'bringen', 'wo', 'sie', 'wohnen']]\n",
    "reference = [[['als', 'mÃssen', 'mÃssen', 'wir', 'in', 'erfahrung', 'bringen', 'wo', 'sie', 'wohnen']]]\n",
    "\n",
    "\n",
    "bleu2, _, _, _, _, _ = compute_bleu(reference, translation)\n",
    "\n",
    "print(\"BLEU score with longer correctly predicte phrases: {}\".format(bleu1))\n",
    "print(\"BLEU score without longer correctly predicte phrases: {}\".format(bleu2))"
   ]
  },
  {
   "cell_type": "markdown",
   "metadata": {},
   "source": [
    "## Training the model\n",
    "\n",
    "Here we define several utility functions to train the model.\n",
    "\n",
    "* `prepare_data()` - Prepares source/target language sentences by generating encoder inputs, decoder inputs and decoder labels\n",
    "* `shuffle_data()` - Shuffle the generated inputs randomly\n",
    "* `train_model()` - Trans the model on a given dataset\n",
    "* `evaluate_model()` - Evaluates the model on a given dataset\n",
    "* `check_for_nan()` - Check if any samples causing NaN values"
   ]
  },
  {
   "cell_type": "code",
   "execution_count": 25,
   "metadata": {},
   "outputs": [],
   "source": [
    "# Section 11.3\n",
    "import time\n",
    "\n",
    "\n",
    "def prepare_data(de_lookup_layer, train_xy, valid_xy, test_xy):\n",
    "    \"\"\" Create a data dictionary from the dataframes containing data \"\"\"\n",
    "    \n",
    "    data_dict = {}\n",
    "    for label, data_xy in zip(['train', 'valid', 'test'], [train_xy, valid_xy, test_xy]):\n",
    "        \n",
    "        data_x, data_y = data_xy\n",
    "        en_inputs = data_x\n",
    "        de_inputs = data_y[:,:-1]\n",
    "        de_labels = de_lookup_layer(data_y[:,1:]).numpy()\n",
    "        data_dict[label] = {'encoder_inputs': en_inputs, 'decoder_inputs': de_inputs, 'decoder_labels': de_labels}\n",
    "    \n",
    "    return data_dict\n",
    "\n",
    "\n",
    "def shuffle_data(en_inputs, de_inputs, de_labels, shuffle_inds=None): \n",
    "    \"\"\" Shuffle the data randomly (but all of inputs and labels at ones)\"\"\"\n",
    "        \n",
    "    if shuffle_inds is None:\n",
    "        # If shuffle_inds are not passed create a shuffling automatically\n",
    "        shuffle_inds = np.random.permutation(np.arange(en_inputs.shape[0]))\n",
    "    else:\n",
    "        # Shuffle the provided shuffle_inds\n",
    "        shuffle_inds = np.random.permutation(shuffle_inds)\n",
    "    \n",
    "    # Return shuffled data\n",
    "    return (en_inputs[shuffle_inds], de_inputs[shuffle_inds], de_labels[shuffle_inds]), shuffle_inds\n",
    " \n",
    "\n",
    "def check_for_nans(loss, model, en_lookup_layer, de_lookup_layer):\n",
    "    \n",
    "    if np.isnan(loss):\n",
    "        for r_i in range(len(y)):\n",
    "            loss_sample, _  = model.evaluate([x[0][r_i:r_i+1], x[1][r_i:r_i+1]], y[r_i:r_i+1], verbose=0)\n",
    "            if np.isnan(loss_sample):\n",
    "\n",
    "                print('='*25, 'nan detected', '='*25)\n",
    "                print('train_batch', i, 'r_i', r_i)\n",
    "                print('en_input ->', x[0][r_i].tolist())\n",
    "                print('en_input_wid ->', en_lookup_layer(x[0][r_i]).numpy().tolist())\n",
    "                print('de_input ->', x[1][r_i].tolist())\n",
    "                print('de_input_wid ->', de_lookup_layer(x[1][r_i]).numpy().tolist())\n",
    "                print('de_output_wid ->', y[r_i].tolist())\n",
    "\n",
    "                if r_i > 0:\n",
    "                    print('='*25, 'no-nan', '='*25)\n",
    "                    print('en_input ->', x[0][r_i-1].tolist())\n",
    "                    print('en_input_wid ->', en_lookup_layer(x[0][r_i-1]).numpy().tolist())\n",
    "                    print('de_input ->', x[1][r_i-1].tolist())\n",
    "                    print('de_input_wid ->', de_lookup_layer(x[1][r_i-1]).numpy().tolist())\n",
    "                    print('de_output_wid ->', y[r_i-1].tolist())\n",
    "                    return\n",
    "                else:\n",
    "                    continue\n",
    "                    \n",
    "                    \n",
    "def train_model(model, en_lookup_layer, de_lookup_layer, train_xy, valid_xy, test_xy, epochs, batch_size, shuffle=True, predict_bleu_at_training=False):\n",
    "    \"\"\" Training the model and evaluating on validation/test sets \"\"\"\n",
    "    \n",
    "    # Define the metric\n",
    "    bleu_metric = BLEUMetric(de_vocabulary)\n",
    "\n",
    "    # Define the data\n",
    "    data_dict = prepare_data(de_lookup_layer, train_xy, valid_xy, test_xy)\n",
    "\n",
    "    shuffle_inds = None\n",
    "    \n",
    "    \n",
    "    for epoch in range(epochs):\n",
    "\n",
    "        # Reset metric logs every epoch\n",
    "        if predict_bleu_at_training:\n",
    "            blue_log = []\n",
    "        accuracy_log = []\n",
    "        loss_log = []\n",
    "\n",
    "        # =================================================================== #\n",
    "        #                         Train Phase                                 #\n",
    "        # =================================================================== #\n",
    "\n",
    "        # Shuffle data at the beginning of every epoch\n",
    "        if shuffle:\n",
    "            (en_inputs_raw,de_inputs_raw,de_labels), shuffle_inds  = shuffle_data(\n",
    "                data_dict['train']['encoder_inputs'],\n",
    "                data_dict['train']['decoder_inputs'],\n",
    "                data_dict['train']['decoder_labels'],\n",
    "                shuffle_inds\n",
    "            )\n",
    "        else:\n",
    "            (en_inputs_raw,de_inputs_raw,de_labels)  = (\n",
    "                data_dict['train']['encoder_inputs'],\n",
    "                data_dict['train']['decoder_inputs'],\n",
    "                data_dict['train']['decoder_labels'],\n",
    "            )\n",
    "        # Get the number of training batches\n",
    "        n_train_batches = en_inputs_raw.shape[0]//batch_size\n",
    "        \n",
    "        prev_loss = None\n",
    "        # Train one batch at a time\n",
    "        for i in range(n_train_batches):\n",
    "            # Status update\n",
    "            print(\"Training batch {}/{}\".format(i+1, n_train_batches), end='\\r')\n",
    "\n",
    "            # Get a batch of inputs (english and german sequences)\n",
    "            x = [en_inputs_raw[i*batch_size:(i+1)*batch_size], de_inputs_raw[i*batch_size:(i+1)*batch_size]]\n",
    "            # Get a batch of targets (german sequences offset by 1)\n",
    "            y = de_labels[i*batch_size:(i+1)*batch_size]\n",
    "            \n",
    "            loss, accuracy = model.evaluate(x, y, verbose=0)\n",
    "            \n",
    "            # Check if any samples are causing NaNs\n",
    "            check_for_nans(loss, model, en_lookup_layer, de_lookup_layer)\n",
    "                \n",
    "            # Train for a single step\n",
    "            model.train_on_batch(x, y)        \n",
    "            # Evaluate the model to get the metrics\n",
    "            #loss, accuracy = model.evaluate(x, y, verbose=0)\n",
    "\n",
    "            \n",
    "            # Update the epoch's log records of the metrics\n",
    "            loss_log.append(loss)\n",
    "            accuracy_log.append(accuracy)\n",
    "            \n",
    "            if predict_bleu_at_training:\n",
    "                # Get the final prediction to compute BLEU\n",
    "                pred_y = model.predict(x)\n",
    "                bleu_log.append(bleu_metric.calculate_bleu_from_predictions(y, pred_y))\n",
    "        \n",
    "        print(\"\")\n",
    "        print(\"\\nEpoch {}/{}\".format(epoch+1, epochs))\n",
    "        if predict_bleu_at_training:\n",
    "            print(f\"\\t(train) loss: {np.mean(loss_log)} - accuracy: {np.mean(accuracy_log)} - bleu: {np.mean(bleu_log)}\")\n",
    "        else:\n",
    "            print(f\"\\t(train) loss: {np.mean(loss_log)} - accuracy: {np.mean(accuracy_log)}\")\n",
    "        # =================================================================== #\n",
    "        #                      Validation Phase                               #\n",
    "        # =================================================================== #\n",
    "        \n",
    "        val_en_inputs = data_dict['valid']['encoder_inputs']\n",
    "        val_de_inputs = data_dict['valid']['decoder_inputs']\n",
    "        val_de_labels = data_dict['valid']['decoder_labels']\n",
    "            \n",
    "        val_loss, val_accuracy, val_bleu = evaluate_model(\n",
    "            model, de_lookup_layer, val_en_inputs, val_de_inputs, val_de_labels, batch_size\n",
    "        )\n",
    "            \n",
    "        # Print the evaluation metrics of each epoch\n",
    "        print(\"\\t(valid) loss: {} - accuracy: {} - bleu: {}\".format(val_loss, val_accuracy, val_bleu))\n",
    "    \n",
    "    # =================================================================== #\n",
    "    #                      Test Phase                                     #\n",
    "    # =================================================================== #    \n",
    "    \n",
    "    test_en_inputs = data_dict['test']['encoder_inputs']\n",
    "    test_de_inputs = data_dict['test']['decoder_inputs']\n",
    "    test_de_labels = data_dict['test']['decoder_labels']\n",
    "            \n",
    "    test_loss, test_accuracy, test_bleu = evaluate_model(\n",
    "            model, de_lookup_layer, test_en_inputs, test_de_inputs, test_de_labels, batch_size\n",
    "    )\n",
    "    \n",
    "    print(\"\\n(test) loss: {} - accuracy: {} - bleu: {}\".format(test_loss, test_accuracy, test_bleu))\n",
    "\n",
    "\n",
    "def evaluate_model(model, de_lookup_layer, en_inputs_raw, de_inputs_raw, de_labels, batch_size):\n",
    "    \"\"\" Evaluate the model on various metrics such as loss, accuracy and BLEU \"\"\"\n",
    "    \n",
    "    # Define the metric\n",
    "    bleu_metric = BLEUMetric(de_vocabulary)\n",
    "    \n",
    "    loss_log, accuracy_log, bleu_log = [], [], []\n",
    "    # Get the number of batches\n",
    "    n_batches = en_inputs_raw.shape[0]//batch_size\n",
    "    print(\" \", end='\\r')\n",
    "\n",
    "    # Evaluate one batch at a time\n",
    "    for i in range(n_batches):\n",
    "        # Status update\n",
    "        print(\"Evaluating batch {}/{}\".format(i+1, n_batches), end='\\r')\n",
    "\n",
    "        # Get the inputs and targers\n",
    "        x = [en_inputs_raw[i*batch_size:(i+1)*batch_size], de_inputs_raw[i*batch_size:(i+1)*batch_size]]\n",
    "        y = de_labels[i*batch_size:(i+1)*batch_size]\n",
    "\n",
    "        # Get the evaluation metrics\n",
    "        loss, accuracy = model.evaluate(x, y, verbose=0)\n",
    "        # Get the predictions to compute BLEU\n",
    "        pred_y = model.predict(x)\n",
    "\n",
    "        # Update logs\n",
    "        loss_log.append(loss)\n",
    "        accuracy_log.append(accuracy)\n",
    "        bleu_log.append(bleu_metric.calculate_bleu_from_predictions(y, pred_y))\n",
    "    \n",
    "    return np.mean(loss_log), np.mean(accuracy_log), np.mean(bleu_log)\n",
    "   "
   ]
  },
  {
   "cell_type": "markdown",
   "metadata": {},
   "source": [
    "### Training the model"
   ]
  },
  {
   "cell_type": "code",
   "execution_count": 26,
   "metadata": {
    "scrolled": true
   },
   "outputs": [
    {
     "name": "stdout",
     "output_type": "stream",
     "text": [
      "Training batch 10/2221\r"
     ]
    },
    {
     "ename": "KeyboardInterrupt",
     "evalue": "",
     "output_type": "error",
     "traceback": [
      "\u001b[1;31m---------------------------------------------------------------------------\u001b[0m",
      "\u001b[1;31mKeyboardInterrupt\u001b[0m                         Traceback (most recent call last)",
      "\u001b[1;32m~\\AppData\\Local\\Temp/ipykernel_8468/2102509517.py\u001b[0m in \u001b[0;36m<module>\u001b[1;34m\u001b[0m\n\u001b[0;32m     11\u001b[0m     \u001b[0mepochs\u001b[0m\u001b[1;33m,\u001b[0m\u001b[1;33m\u001b[0m\u001b[1;33m\u001b[0m\u001b[0m\n\u001b[0;32m     12\u001b[0m     \u001b[0mbatch_size\u001b[0m\u001b[1;33m,\u001b[0m\u001b[1;33m\u001b[0m\u001b[1;33m\u001b[0m\u001b[0m\n\u001b[1;32m---> 13\u001b[1;33m     \u001b[0mshuffle\u001b[0m\u001b[1;33m=\u001b[0m\u001b[1;32mFalse\u001b[0m\u001b[1;33m\u001b[0m\u001b[1;33m\u001b[0m\u001b[0m\n\u001b[0m\u001b[0;32m     14\u001b[0m )\n\u001b[0;32m     15\u001b[0m \u001b[0mt2\u001b[0m \u001b[1;33m=\u001b[0m \u001b[0mtime\u001b[0m\u001b[1;33m.\u001b[0m\u001b[0mtime\u001b[0m\u001b[1;33m(\u001b[0m\u001b[1;33m)\u001b[0m\u001b[1;33m\u001b[0m\u001b[1;33m\u001b[0m\u001b[0m\n",
      "\u001b[1;32m~\\AppData\\Local\\Temp/ipykernel_8468/4163419847.py\u001b[0m in \u001b[0;36mtrain_model\u001b[1;34m(model, en_lookup_layer, lookup_layer, train_xy, valid_xy, test_xy, epochs, batch_size, shuffle, predict_bleu_at_training)\u001b[0m\n\u001b[0;32m    150\u001b[0m \u001b[1;33m\u001b[0m\u001b[0m\n\u001b[0;32m    151\u001b[0m             \u001b[1;31m# Train for a single step\u001b[0m\u001b[1;33m\u001b[0m\u001b[1;33m\u001b[0m\u001b[1;33m\u001b[0m\u001b[0m\n\u001b[1;32m--> 152\u001b[1;33m             \u001b[0mmodel\u001b[0m\u001b[1;33m.\u001b[0m\u001b[0mtrain_on_batch\u001b[0m\u001b[1;33m(\u001b[0m\u001b[0mx\u001b[0m\u001b[1;33m,\u001b[0m \u001b[0my\u001b[0m\u001b[1;33m)\u001b[0m\u001b[1;33m\u001b[0m\u001b[1;33m\u001b[0m\u001b[0m\n\u001b[0m\u001b[0;32m    153\u001b[0m             \u001b[1;31m# Evaluate the model to get the metrics\u001b[0m\u001b[1;33m\u001b[0m\u001b[1;33m\u001b[0m\u001b[1;33m\u001b[0m\u001b[0m\n\u001b[0;32m    154\u001b[0m             \u001b[1;31m#loss, accuracy = model.evaluate(x, y, verbose=0)\u001b[0m\u001b[1;33m\u001b[0m\u001b[1;33m\u001b[0m\u001b[1;33m\u001b[0m\u001b[0m\n",
      "\u001b[1;32mC:\\Anaconda3\\envs\\packt.nlp.tf2\\lib\\site-packages\\keras\\engine\\training.py\u001b[0m in \u001b[0;36mtrain_on_batch\u001b[1;34m(self, x, y, sample_weight, class_weight, reset_metrics, return_dict)\u001b[0m\n\u001b[0;32m   1893\u001b[0m       \u001b[0mself\u001b[0m\u001b[1;33m.\u001b[0m\u001b[0mreset_metrics\u001b[0m\u001b[1;33m(\u001b[0m\u001b[1;33m)\u001b[0m\u001b[1;33m\u001b[0m\u001b[1;33m\u001b[0m\u001b[0m\n\u001b[0;32m   1894\u001b[0m     \u001b[1;32mwith\u001b[0m \u001b[0mself\u001b[0m\u001b[1;33m.\u001b[0m\u001b[0mdistribute_strategy\u001b[0m\u001b[1;33m.\u001b[0m\u001b[0mscope\u001b[0m\u001b[1;33m(\u001b[0m\u001b[1;33m)\u001b[0m\u001b[1;33m,\u001b[0m\u001b[0;31m \u001b[0m\u001b[0;31m\\\u001b[0m\u001b[1;33m\u001b[0m\u001b[1;33m\u001b[0m\u001b[0m\n\u001b[1;32m-> 1895\u001b[1;33m          \u001b[0mtraining_utils\u001b[0m\u001b[1;33m.\u001b[0m\u001b[0mRespectCompiledTrainableState\u001b[0m\u001b[1;33m(\u001b[0m\u001b[0mself\u001b[0m\u001b[1;33m)\u001b[0m\u001b[1;33m:\u001b[0m\u001b[1;33m\u001b[0m\u001b[1;33m\u001b[0m\u001b[0m\n\u001b[0m\u001b[0;32m   1896\u001b[0m       iterator = data_adapter.single_batch_iterator(self.distribute_strategy, x,\n\u001b[0;32m   1897\u001b[0m                                                     \u001b[0my\u001b[0m\u001b[1;33m,\u001b[0m \u001b[0msample_weight\u001b[0m\u001b[1;33m,\u001b[0m\u001b[1;33m\u001b[0m\u001b[1;33m\u001b[0m\u001b[0m\n",
      "\u001b[1;32mC:\\Anaconda3\\envs\\packt.nlp.tf2\\lib\\site-packages\\keras\\engine\\training_utils.py\u001b[0m in \u001b[0;36m__enter__\u001b[1;34m(self)\u001b[0m\n\u001b[0;32m    140\u001b[0m \u001b[1;33m\u001b[0m\u001b[0m\n\u001b[0;32m    141\u001b[0m   \u001b[1;32mdef\u001b[0m \u001b[0m__enter__\u001b[0m\u001b[1;33m(\u001b[0m\u001b[0mself\u001b[0m\u001b[1;33m)\u001b[0m\u001b[1;33m:\u001b[0m\u001b[1;33m\u001b[0m\u001b[1;33m\u001b[0m\u001b[0m\n\u001b[1;32m--> 142\u001b[1;33m     \u001b[0mself\u001b[0m\u001b[1;33m.\u001b[0m\u001b[0m_current_trainable_state\u001b[0m \u001b[1;33m=\u001b[0m \u001b[0mself\u001b[0m\u001b[1;33m.\u001b[0m\u001b[0m_model\u001b[0m\u001b[1;33m.\u001b[0m\u001b[0m_get_trainable_state\u001b[0m\u001b[1;33m(\u001b[0m\u001b[1;33m)\u001b[0m  \u001b[1;31m# pylint: disable=protected-access\u001b[0m\u001b[1;33m\u001b[0m\u001b[1;33m\u001b[0m\u001b[0m\n\u001b[0m\u001b[0;32m    143\u001b[0m     \u001b[0mself\u001b[0m\u001b[1;33m.\u001b[0m\u001b[0m_compiled_trainable_state\u001b[0m \u001b[1;33m=\u001b[0m \u001b[0mself\u001b[0m\u001b[1;33m.\u001b[0m\u001b[0m_model\u001b[0m\u001b[1;33m.\u001b[0m\u001b[0m_compiled_trainable_state\u001b[0m  \u001b[1;31m# pylint: disable=protected-access\u001b[0m\u001b[1;33m\u001b[0m\u001b[1;33m\u001b[0m\u001b[0m\n\u001b[0;32m    144\u001b[0m \u001b[1;33m\u001b[0m\u001b[0m\n",
      "\u001b[1;32mC:\\Anaconda3\\envs\\packt.nlp.tf2\\lib\\site-packages\\keras\\engine\\base_layer.py\u001b[0m in \u001b[0;36m_get_trainable_state\u001b[1;34m(self)\u001b[0m\n\u001b[0;32m   2756\u001b[0m     \"\"\"\n\u001b[0;32m   2757\u001b[0m     \u001b[0mtrainable_state\u001b[0m \u001b[1;33m=\u001b[0m \u001b[0mweakref\u001b[0m\u001b[1;33m.\u001b[0m\u001b[0mWeakKeyDictionary\u001b[0m\u001b[1;33m(\u001b[0m\u001b[1;33m)\u001b[0m\u001b[1;33m\u001b[0m\u001b[1;33m\u001b[0m\u001b[0m\n\u001b[1;32m-> 2758\u001b[1;33m     \u001b[1;32mfor\u001b[0m \u001b[0mlayer\u001b[0m \u001b[1;32min\u001b[0m \u001b[0mself\u001b[0m\u001b[1;33m.\u001b[0m\u001b[0m_flatten_layers\u001b[0m\u001b[1;33m(\u001b[0m\u001b[1;33m)\u001b[0m\u001b[1;33m:\u001b[0m\u001b[1;33m\u001b[0m\u001b[1;33m\u001b[0m\u001b[0m\n\u001b[0m\u001b[0;32m   2759\u001b[0m       \u001b[0mtrainable_state\u001b[0m\u001b[1;33m[\u001b[0m\u001b[0mlayer\u001b[0m\u001b[1;33m]\u001b[0m \u001b[1;33m=\u001b[0m \u001b[0mlayer\u001b[0m\u001b[1;33m.\u001b[0m\u001b[0mtrainable\u001b[0m\u001b[1;33m\u001b[0m\u001b[1;33m\u001b[0m\u001b[0m\n\u001b[0;32m   2760\u001b[0m     \u001b[1;32mreturn\u001b[0m \u001b[0mtrainable_state\u001b[0m\u001b[1;33m\u001b[0m\u001b[1;33m\u001b[0m\u001b[0m\n",
      "\u001b[1;32mC:\\Anaconda3\\envs\\packt.nlp.tf2\\lib\\site-packages\\keras\\engine\\base_layer.py\u001b[0m in \u001b[0;36m_flatten_layers\u001b[1;34m(self, recursive, include_self)\u001b[0m\n\u001b[0;32m   2920\u001b[0m   \u001b[1;32mdef\u001b[0m \u001b[0m_flatten_layers\u001b[0m\u001b[1;33m(\u001b[0m\u001b[0mself\u001b[0m\u001b[1;33m,\u001b[0m \u001b[0mrecursive\u001b[0m\u001b[1;33m=\u001b[0m\u001b[1;32mTrue\u001b[0m\u001b[1;33m,\u001b[0m \u001b[0minclude_self\u001b[0m\u001b[1;33m=\u001b[0m\u001b[1;32mTrue\u001b[0m\u001b[1;33m)\u001b[0m\u001b[1;33m:\u001b[0m\u001b[1;33m\u001b[0m\u001b[1;33m\u001b[0m\u001b[0m\n\u001b[0;32m   2921\u001b[0m     for m in self._flatten_modules(\n\u001b[1;32m-> 2922\u001b[1;33m         recursive=recursive, include_self=include_self):\n\u001b[0m\u001b[0;32m   2923\u001b[0m       \u001b[1;32mif\u001b[0m \u001b[0misinstance\u001b[0m\u001b[1;33m(\u001b[0m\u001b[0mm\u001b[0m\u001b[1;33m,\u001b[0m \u001b[0mLayer\u001b[0m\u001b[1;33m)\u001b[0m\u001b[1;33m:\u001b[0m\u001b[1;33m\u001b[0m\u001b[1;33m\u001b[0m\u001b[0m\n\u001b[0;32m   2924\u001b[0m         \u001b[1;32myield\u001b[0m \u001b[0mm\u001b[0m\u001b[1;33m\u001b[0m\u001b[1;33m\u001b[0m\u001b[0m\n",
      "\u001b[1;32mC:\\Anaconda3\\envs\\packt.nlp.tf2\\lib\\site-packages\\keras\\engine\\base_layer.py\u001b[0m in \u001b[0;36m_flatten_modules\u001b[1;34m(self, recursive, include_self)\u001b[0m\n\u001b[0;32m   2959\u001b[0m             \u001b[1;32mif\u001b[0m \u001b[0msubtrackables\u001b[0m\u001b[1;33m:\u001b[0m\u001b[1;33m\u001b[0m\u001b[1;33m\u001b[0m\u001b[0m\n\u001b[0;32m   2960\u001b[0m               \u001b[0mdeque\u001b[0m\u001b[1;33m.\u001b[0m\u001b[0mextendleft\u001b[0m\u001b[1;33m(\u001b[0m\u001b[0mreversed\u001b[0m\u001b[1;33m(\u001b[0m\u001b[0msubtrackables\u001b[0m\u001b[1;33m)\u001b[0m\u001b[1;33m)\u001b[0m\u001b[1;33m\u001b[0m\u001b[1;33m\u001b[0m\u001b[0m\n\u001b[1;32m-> 2961\u001b[1;33m         \u001b[1;32melif\u001b[0m \u001b[0misinstance\u001b[0m\u001b[1;33m(\u001b[0m\u001b[0mtrackable_obj\u001b[0m\u001b[1;33m,\u001b[0m \u001b[0mtf\u001b[0m\u001b[1;33m.\u001b[0m\u001b[0m__internal__\u001b[0m\u001b[1;33m.\u001b[0m\u001b[0mtracking\u001b[0m\u001b[1;33m.\u001b[0m\u001b[0mTrackableDataStructure\u001b[0m\u001b[1;33m)\u001b[0m\u001b[1;33m:\u001b[0m\u001b[1;33m\u001b[0m\u001b[1;33m\u001b[0m\u001b[0m\n\u001b[0m\u001b[0;32m   2962\u001b[0m           \u001b[1;31m# Data structures are introspected even with `recursive=False`.\u001b[0m\u001b[1;33m\u001b[0m\u001b[1;33m\u001b[0m\u001b[1;33m\u001b[0m\u001b[0m\n\u001b[0;32m   2963\u001b[0m           \u001b[0mtracked_values\u001b[0m \u001b[1;33m=\u001b[0m \u001b[0mtrackable_obj\u001b[0m\u001b[1;33m.\u001b[0m\u001b[0m_values\u001b[0m\u001b[1;33m\u001b[0m\u001b[1;33m\u001b[0m\u001b[0m\n",
      "\u001b[1;31mKeyboardInterrupt\u001b[0m: "
     ]
    }
   ],
   "source": [
    "\n",
    "epochs = 10\n",
    "batch_size = 72\n",
    "\n",
    "t1 = time.time()    \n",
    "train_model(\n",
    "    seq2seq_model, \n",
    "    en_lookup_layer, de_lookup_layer, \n",
    "    (train_en_sentences_padded, train_de_sentences_padded), \n",
    "    (valid_en_sentences_padded, valid_de_sentences_padded), \n",
    "    (test_en_sentences_padded, test_de_sentences_padded), \n",
    "    epochs, \n",
    "    batch_size,\n",
    "    shuffle=False\n",
    ")\n",
    "t2 = time.time()\n",
    "\n",
    "print(\"\\nIt took {} seconds to complete the training\".format(t2-t1))"
   ]
  },
  {
   "cell_type": "markdown",
   "metadata": {},
   "source": [
    "## Visualizing attention patterns\n",
    "\n",
    "Here we randomly sample some test data and use the `attention_visualizer` model to visualize attention patterns."
   ]
  },
  {
   "cell_type": "code",
   "execution_count": 23,
   "metadata": {},
   "outputs": [],
   "source": [
    "def get_attention_matrix_for_sampled_data(attention_model, target_lookup_layer, test_xy, n_samples=5):\n",
    "    \n",
    "    test_x, test_y = test_xy\n",
    "    \n",
    "    rand_ids = np.random.randint(0, len(test_xy[0]), size=(n_samples,))\n",
    "    print(rand_ids)\n",
    "    results = []\n",
    "    \n",
    "    for rid in rand_ids:\n",
    "        en_input = test_x[rid:rid+1]\n",
    "        de_input = test_y[rid:rid+1,:-1]\n",
    "        \n",
    "        clean_en_input = []\n",
    "        en_start_i = 0\n",
    "        for i, w in enumerate(en_input.ravel()):\n",
    "            if w=='<pad>': \n",
    "                en_start_i = i+1\n",
    "                continue\n",
    "                \n",
    "            clean_en_input.append(w)\n",
    "            if w=='</s>': break\n",
    "                \n",
    "        attn_weights, predictions = attention_model.predict([en_input, de_input])\n",
    "        predicted_word_ids = np.argmax(predictions, axis=-1).ravel()\n",
    "        predicted_words = [target_lookup_layer.get_vocabulary()[wid] for wid in predicted_word_ids]\n",
    "        \n",
    "        clean_predicted_words = []\n",
    "        for w in predicted_words:\n",
    "            clean_predicted_words.append(w)\n",
    "            if w=='</s>': break\n",
    "        \n",
    "        results.append(\n",
    "            {\n",
    "                \"attention_weights\": attn_weights[\n",
    "                    0,:len(clean_predicted_words),en_start_i:en_start_i+len(clean_en_input)\n",
    "                ], \n",
    "                \"input_words\": clean_en_input,  \n",
    "                \"predicted_words\": clean_predicted_words\n",
    "            }\n",
    "        )\n",
    "        \n",
    "    return results\n",
    "    "
   ]
  },
  {
   "cell_type": "code",
   "execution_count": 24,
   "metadata": {
    "scrolled": false
   },
   "outputs": [
    {
     "name": "stdout",
     "output_type": "stream",
     "text": [
      "[ 4126 18138 16447  5090 10325]\n"
     ]
    },
    {
     "data": {
      "image/png": "[encoded data removed]",
      "text/plain": [
       "<Figure size 1728x2880 with 5 Axes>"
      ]
     },
     "metadata": {
      "needs_background": "light"
     },
     "output_type": "display_data"
    }
   ],
   "source": [
    "import matplotlib.pyplot as plt\n",
    "%matplotlib inline\n",
    "\n",
    "_, axes = plt.subplots(5, 1, figsize=(24,40))\n",
    "\n",
    "attention_results = get_attention_matrix_for_sampled_data(\n",
    "    attention_visualizer, \n",
    "    de_lookup_layer, \n",
    "    (test_en_sentences_padded, test_de_sentences_padded),\n",
    "    n_samples = 5\n",
    ")\n",
    "\n",
    "for ax, result in zip(axes, attention_results):\n",
    "    \n",
    "    ax.imshow(result[\"attention_weights\"])\n",
    "    x_labels = result[\"input_words\"]\n",
    "    y_labels = result[\"predicted_words\"]\n",
    "    ax.set_xticks(np.arange(len(x_labels)))\n",
    "    ax.set_xticklabels(x_labels, rotation=45)\n",
    "    ax.set_yticks(np.arange(len(y_labels)))\n",
    "    ax.set_yticklabels(y_labels, rotation=0)\n"
   ]
  },
  {
   "cell_type": "markdown",
   "metadata": {},
   "source": [
    "## Defining the inference model"
   ]
  },
  {
   "cell_type": "code",
   "execution_count": 37,
   "metadata": {},
   "outputs": [],
   "source": [
    "# Defining the encoder layers\n",
    "encoder_input = tf.keras.layers.Input(shape=(n_en_seq_length,), dtype=tf.string)\n",
    "# Converting tokens to IDs\n",
    "en_lookup_layer = seq2seq_model.get_layer(\"string_lookup\")\n",
    "encoder_wid_out = en_lookup_layer(encoder_input)\n",
    "\n",
    "# Embedding layer and lookup\n",
    "en_emb_layer = seq2seq_model.get_layer(\"embedding\")\n",
    "encoder_emb_out = en_emb_layer(encoder_wid_out)\n",
    "\n",
    "# Encoder GRU layer\n",
    "en_gru_layer = seq2seq_model.get_layer(\"gru\")\n",
    "encoder_gru_out, encoder_gru_last_state = en_gru_layer(encoder_emb_out)\n",
    "\n",
    "# Defining the encoder model: in - encoder_input / out - output of the GRU layer\n",
    "encoder_model = tf.keras.models.Model(inputs=encoder_input, outputs=[encoder_gru_out, encoder_gru_last_state])\n",
    "\n",
    "# Defining the decoder layers \n",
    "decoder_input = tf.keras.layers.Input(shape=(1,), dtype=tf.string)\n",
    "decoder_init_state_input = tf.keras.layers.Input(shape=(256,))\n",
    "encoder_state_input = tf.keras.layers.Input(shape=(n_en_seq_length,256))\n",
    "encoder_input_mask = tf.keras.layers.Input(shape=(n_en_seq_length,), dtype=tf.bool)\n",
    "\n",
    "# Converting tokens to IDs (Decoder)\n",
    "de_lookup_layer = seq2seq_model.get_layer(\"string_lookup_1\")\n",
    "decoder_wid_out = de_lookup_layer(decoder_input)\n",
    "\n",
    "# Embedding layer and lookup (decoder)\n",
    "de_emb_layer = seq2seq_model.get_layer(\"embedding_1\")\n",
    "decoder_emb_out = de_emb_layer(decoder_wid_out)\n",
    "\n",
    "de_gru_layer = tf.keras.layers.GRU(256, return_sequences=True)\n",
    "decoder_gru_out = de_gru_layer(decoder_emb_out, initial_state=decoder_init_state_input)\n",
    "\n",
    "# The attention mechanism (inputs: [q, v, k])\n",
    "attention_layer = seq2seq_model.get_layer(\"bahdanau_attention\")\n",
    "decoder_attn_out, attn_weights = attention_layer(\n",
    "    query=decoder_gru_out, key=encoder_state_input, value=encoder_state_input,\n",
    "    mask=encoder_input_mask,\n",
    "    return_attention_scores=True\n",
    ")\n",
    "\n",
    "# Concatenate GRU output and the attention output\n",
    "context_and_rnn_output = tf.keras.layers.Concatenate(axis=-1)([decoder_attn_out, decoder_gru_out])\n",
    "\n",
    "# Final prediction layer (size of the vocabulary)\n",
    "de_dense_layer = seq2seq_model.get_layer(\"dense_2\")\n",
    "decoder_out = de_dense_layer(context_and_rnn_output)\n",
    "\n",
    "# Final seq2seq model\n",
    "decoder_model = tf.keras.models.Model(\n",
    "    inputs=[decoder_input, decoder_init_state_input, encoder_state_input, encoder_input_mask], \n",
    "    outputs=[decoder_out, decoder_gru_out]\n",
    ")\n",
    "\n",
    "decoder_model.compile()\n",
    "de_gru_layer.set_weights(seq2seq_model.get_layer(\"gru_1\").get_weights())\n",
    "\n",
    "\n"
   ]
  },
  {
   "cell_type": "markdown",
   "metadata": {},
   "source": [
    "## Generating new translation"
   ]
  },
  {
   "cell_type": "code",
   "execution_count": 53,
   "metadata": {},
   "outputs": [
    {
     "name": "stdout",
     "output_type": "stream",
     "text": [
      "EN: <s> After checking your booking details and entering all the required information , you can continue with the online prepayment . </s>\n",
      "DE (true): <s> Nachdem Sie Ihre Buchungsdetails überprüft haben und alle benötigten Informationen eingegeben haben , können Sie fortfahren und die Online ##AT##-##AT## Anzahlung vornehmen . </s>\n",
      "DE (predicted): <s> Nachdem Ihre Buchung sich ändern möchten , dann die <unk> <unk> . </s>\n",
      "\n",
      "EN: <s> East Africa is a country with diverse scenery but primarily offers the highest concentration of wildlife in its National parks unrivaled to any other part in Africa . </s>\n",
      "DE (true): <s> Ein Land mit vielfältigen Landschaften und einem sagenhaften Tierreichtum wie Sie es nirgendwo sonst in Afrika finden werden . </s>\n",
      "DE (predicted): <s> Die Stadt ist ein Land mit mehreren Landschaften , aber weniger als <unk> , in denen sich die <unk> <unk> . </s>\n",
      "\n",
      "EN: <s> Production of high pressure hoses , Production of high pressure hoses in assembly for hydraulic systems . </s>\n",
      "DE (true): <s> Herstellung von Hochdruckschläuchen , Herstellung von Hochdruckschläuchen für Kraftölsysteme . </s>\n",
      "DE (predicted): <s> Herstellung von <unk> , Herstellung von <unk> für <unk> . </s>\n",
      "\n",
      "EN: <s> Make some noise on your blog . </s>\n",
      "DE (true): <s> Erzeugen Sie Furore auf Ihrem Blog . </s>\n",
      "DE (predicted): <s> Machen Sie sich auch einfach auf Ihrem Blog . </s>\n",
      "\n",
      "EN: <s> Hotel InterContinental Koln is safe and secure and caters to all that you might need for a peaceful and relaxing stay in the place . </s>\n",
      "DE (true): <s> Hotel InterContinental Koln ist sicher und sicher und bietet allen , die Sie für einen ruhigen und entspannenden Aufenthalt im Platz benötigen konnten . </s>\n",
      "DE (predicted): <s> Hotel <unk> <unk> ist sicher und sicher und bietet allen , die Sie für einen ruhigen und entspannenden Aufenthalt in der Stadt benötigen . </s>\n",
      "\n"
     ]
    }
   ],
   "source": [
    "def generate_translation(en_sentence, en_lookup_layer, encoder_model, de_lookup_layer, decoder_model):\n",
    "    \n",
    "    de_vocabulary = de_lookup_layer.get_vocabulary()\n",
    "    en_out, de_gru_state = encoder_model(en_sentence)\n",
    "    \n",
    "    y_pred = np.array([[\"<s>\"]])\n",
    "    predicted_sentence = [y_pred[0][0]]\n",
    "    \n",
    "    for _ in range(100):\n",
    "        \n",
    "        if y_pred == \"</s>\":\n",
    "            break\n",
    "            \n",
    "        y_pred_probs, de_gru_state = decoder_model.predict([y_pred, de_gru_state, en_out, (en_sentence != pad_token)])\n",
    "        de_gru_state = de_gru_state[:, 0, :]\n",
    "        y_pred_wid = np.argmax(y_pred_probs, axis=-1).ravel()[0]\n",
    "        y_pred = np.array([[de_vocabulary[y_pred_wid]]])\n",
    "        predicted_sentence.append(y_pred[0][0])\n",
    "    \n",
    "    return ' '.join(predicted_sentence)\n",
    "\n",
    "for en_sentence, de_sentence in zip(test_en_sentences_padded[:5,:], test_de_sentences_padded[:5,:]):\n",
    "    \n",
    "    en_sentence_string = ' '.join([en_word for en_word in en_sentence if en_word != pad_token])\n",
    "    print(f\"EN: {en_sentence_string}\")\n",
    "    de_sentence_string = ' '.join([de_word for de_word in de_sentence if de_word != pad_token])\n",
    "    print(f\"DE (true): {de_sentence_string}\")\n",
    "    \n",
    "    de_predicted = generate_translation(\n",
    "        en_sentence.reshape(1, -1), en_lookup_layer, encoder_model, de_lookup_layer, decoder_model\n",
    "    )\n",
    "    print(f\"DE (predicted): {de_predicted}\\n\")"
   ]
  },
  {
   "cell_type": "code",
   "execution_count": null,
   "metadata": {},
   "outputs": [],
   "source": []
  }
 ],
 "metadata": {
  "kernelspec": {
   "display_name": "Python 3 (ipykernel)",
   "language": "python",
   "name": "python3"
  },
  "language_info": {
   "codemirror_mode": {
    "name": "ipython",
    "version": 3
   },
   "file_extension": ".py",
   "mimetype": "text/x-python",
   "name": "python",
   "nbconvert_exporter": "python",
   "pygments_lexer": "ipython3",
   "version": "3.7.11"
  }
 },
 "nbformat": 4,
 "nbformat_minor": 2
}
